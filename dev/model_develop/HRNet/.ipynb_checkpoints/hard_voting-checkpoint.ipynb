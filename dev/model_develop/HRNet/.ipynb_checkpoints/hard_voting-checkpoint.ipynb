{
 "cells": [
  {
   "cell_type": "code",
   "execution_count": 40,
   "id": "169f0ca9-8ebb-44a4-b98c-194b3cb02746",
   "metadata": {},
   "outputs": [],
   "source": [
    "import pandas as pd\n",
    "import numpy as np\n",
    "from tqdm import tqdm\n",
    "a1 = pd.read_csv('/opt/ml/segmentation/semantic-segmentation-level2-cv-16/dev/model_develop/HRNet/beit_0.796.csv')\n",
    "a2 = pd.read_csv('/opt/ml/segmentation/semantic-segmentation-level2-cv-16/dev/model_develop/HRNet/upernet_beit_insane_tta_0.790.csv')\n",
    "a3 = pd.read_csv('/opt/ml/segmentation/semantic-segmentation-level2-cv-16/dev/model_develop/HRNet/swin_51_52000_insanetta_0.772.csv')\n",
    "a4 = pd.read_csv('/opt/ml/segmentation/semantic-segmentation-level2-cv-16/dev/model_develop/HRNet/Unet++tta_test_pesudo_version2_0.742.csv')\n",
    "a5 = pd.read_csv('/opt/ml/segmentation/semantic-segmentation-level2-cv-16/dev/model_develop/HRNet/Hard_voting_54-4_11models_10_(3_3_4_49_5).csv')\n",
    "#a6 = pd.read_csv('/opt/ml/segmentation/semantic-segmentation-level2-cv-16/dev/model_develop/HRNet/deeplab_0.688.csv')\n",
    "# a6 = pd.read_csv('/opt/ml/segmentation/baseline_code/submission/896_54-4_HRNetV2_OCR_W64_pseudo_cos_rotate+randomsizecrop_0.69.csv')\n",
    "# a7 = pd.read_csv('/opt/ml/segmentation/baseline_code/submission/1024_54-4_HRNetV2_OCR_W64_pseudo_cos_rotate+randomsizecrop_0.69.csv')\n",
    "# a8 = pd.read_csv('/opt/ml/segmentation/baseline_code/submission/1152_54-4_HRNetV2_OCR_W64_pseudo_cos_rotate+randomsizecrop_0.69.csv')\n",
    "#a9 = pd.read_csv('/opt/ml/segmentation/baseline_code/submission/1380_54-4_HRNetV2_OCR_W64_pseudo_cos_rotate+randomsizecrop_0.69.csv')\n",
    "#a10 = pd.read_csv('/opt/ml/segmentation/baseline_code/submission/1408_54-4_HRNetV2_OCR_W64_pseudo_cos_rotate+randomsizecrop_0.69.csv')\n",
    "#a11 = pd.read_csv('/opt/ml/segmentation/baseline_code/submission/1536_54-4_HRNetV2_OCR_W64_pseudo_cos_rotate+randomsizecrop_0.69.csv')"
   ]
  },
  {
   "cell_type": "code",
   "execution_count": 41,
   "id": "7e5557a4-80ee-4bd7-8f90-6151cb486972",
   "metadata": {},
   "outputs": [],
   "source": [
    "submission = pd.DataFrame()\n",
    "submission['image_id'] = a1['image_id']"
   ]
  },
  {
   "cell_type": "code",
   "execution_count": null,
   "id": "d99a693e-2262-4180-ac15-a6a8eb4066d3",
   "metadata": {},
   "outputs": [],
   "source": [
    "PredictionString = []\n",
    "cnt = 0\n",
    "for idx in range(len(a1)):\n",
    "    aa1 = a1['PredictionString'][idx].split(' ')\n",
    "    aa2 = a2['PredictionString'][idx].split(' ')\n",
    "    aa3 = a3['PredictionString'][idx].split(' ')\n",
    "    aa4 = a4['PredictionString'][idx].split(' ')\n",
    "    aa5 = a5['PredictionString'][idx].split(' ')\n",
    "    #aa6 = a6['PredictionString'][idx].split(' ')\n",
    "    # aa7 = a7['PredictionString'][idx].split(' ')\n",
    "    # aa8 = a8['PredictionString'][idx].split(' ')\n",
    "    #aa9 = a9['PredictionString'][idx].split(' ')\n",
    "    #aa10 = a10['PredictionString'][idx].split(' ')\n",
    "    #aa11 = a11['PredictionString'][idx].split(' ')\n",
    "\n",
    "    \n",
    "    result = ''\n",
    "\n",
    "    for i in range(len(aa1)):\n",
    "        pixel_dict = {'0' : -0.5, '1' : 0, '2' : 0, \n",
    "                      '3' : 0, '4' : 0, '5' : 0,\n",
    "                      '6' : 0, '7' : 0, '8' : 0,\n",
    "                      '9' : 0, '10' : 0}\n",
    "\n",
    "        best_model = aa2[i]\n",
    "        second_model = aa1[i]\n",
    "        third_model = aa3[i]\n",
    "        \n",
    "        pixel_dict[aa1[i]] += 1\n",
    "        pixel_dict[aa2[i]] += 1\n",
    "        pixel_dict[aa3[i]] += 1\n",
    "        pixel_dict[aa4[i]] += 1\n",
    "        pixel_dict[aa5[i]] += 1\n",
    "        #pixel_dict[aa6[i]] += 1\n",
    "        #pixel_dict[aa7[i]] += 1\n",
    "        #pixel_dict[aa8[i]] += 1\n",
    "        #pixel_dict[aa9[i]] += 1\n",
    "        #pixel_dict[aa10[i]] += 1\n",
    "        #pixel_dict[aa11[i]] += 1\n",
    "\n",
    "\n",
    "        # 최댓값을 갖는 키값 추출\n",
    "        pixel = [key for key, value in pixel_dict.items() if value == max(pixel_dict.values())]\n",
    "        # # background가 가장 많이 나온 class라면\n",
    "        # if len(pixel) >=2 and '0' in pixel:\n",
    "        #     pixel.remove('0')\n",
    "        #     result += pixel[0] + ' '\n",
    "           \n",
    "        # ensemble 모델이 ~4개\n",
    "        # 만약 최댓값을 갖는 키가 2개 이상(같은 표를 가진 경우)이고,\n",
    "        # best_model이 영향력을 행사했다면\n",
    "        if len(pixel) >= 2 and best_model in pixel:\n",
    "            result += best_model + ' '\n",
    "        \n",
    "        # ensemble 모델이 5개~6개\n",
    "        # 만약 최댓값을 갖는 키가 2개 이상(같은 표를 가진 경우)이고,\n",
    "        # best_model이 outsider, second_model이 영향력을 행사했다면\n",
    "        elif len(pixel) >= 2 and second_model in pixel:\n",
    "            result += second_model + ' '\n",
    "        elif len(pixel) >= 2 and third_model in pixel:\n",
    "            result += third_model + ' '\n",
    "        # 만약 1개라면 해당 키 반환\n",
    "        else:\n",
    "            result += pixel[0] + ' '\n",
    "\n",
    "    # 마지막 공백 제거\n",
    "    result = result[:-1]\n",
    "    PredictionString.append(result)"
   ]
  },
  {
   "cell_type": "code",
   "execution_count": null,
   "id": "278295b6-d37d-410d-8da1-8453e39b2d8c",
   "metadata": {},
   "outputs": [],
   "source": [
    "submission['PredictionString'] = PredictionString"
   ]
  },
  {
   "cell_type": "code",
   "execution_count": 29,
   "id": "babc868a-519c-4b3a-903d-d10fc08f9b13",
   "metadata": {},
   "outputs": [],
   "source": [
    "submission.to_csv('./Hard_5models(790-796-772)_no_back.csv', index=False)"
   ]
  },
  {
   "cell_type": "code",
   "execution_count": null,
   "id": "a980c017",
   "metadata": {},
   "outputs": [],
   "source": []
  }
 ],
 "metadata": {
  "interpreter": {
   "hash": "d36e052b391be8c28b05838ade06426769a29575d5fe21a7bc69c7dec0c04c06"
  },
  "kernelspec": {
   "display_name": "Python 3 (ipykernel)",
   "language": "python",
   "name": "python3"
  },
  "language_info": {
   "codemirror_mode": {
    "name": "ipython",
    "version": 3
   },
   "file_extension": ".py",
   "mimetype": "text/x-python",
   "name": "python",
   "nbconvert_exporter": "python",
   "pygments_lexer": "ipython3",
   "version": "3.7.11"
  }
 },
 "nbformat": 4,
 "nbformat_minor": 5
}

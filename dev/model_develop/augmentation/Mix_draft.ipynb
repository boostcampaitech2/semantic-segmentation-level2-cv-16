{
 "cells": [
  {
   "cell_type": "markdown",
   "id": "681b72f2-a87d-4877-a2f2-d6a33dc1c3ae",
   "metadata": {},
   "source": [
    "## Import Packages"
   ]
  },
  {
   "cell_type": "code",
   "execution_count": null,
   "id": "b337716b-654c-4bc2-a4ed-a647de51e7c7",
   "metadata": {},
   "outputs": [],
   "source": [
    "import os\n",
    "import json\n",
    "import pandas as pd\n",
    "import numpy as np\n",
    "import cv2\n",
    "import copy\n",
    "import random\n",
    "import matplotlib.pyplot as plt\n",
    "\n",
    "from PIL import Image\n",
    "from pycocotools.coco import COCO\n",
    "from pycocotools import mask\n",
    "from collections import defaultdict\n",
    "from tqdm import tqdm\n",
    "\n",
    "%matplotlib inline"
   ]
  },
  {
   "cell_type": "markdown",
   "id": "4fb24776-80dd-4270-8e4a-7958d61dcd38",
   "metadata": {},
   "source": [
    "## Read Annotations files & DataFrame"
   ]
  },
  {
   "cell_type": "code",
   "execution_count": null,
   "id": "16bda27e-e6d2-438b-85fc-098f0f116733",
   "metadata": {},
   "outputs": [],
   "source": [
    "dataset_path  = './segmentation/input/data/'\n",
    "df = pd.read_csv('./segmentation/baseline_code/class_dict.csv')\n",
    "\n",
    "category_names = list(df.name)\n",
    "\n",
    "def get_classname(classID, cats):\n",
    "    for i in range(len(cats)):\n",
    "        if cats[i]['id']==classID:\n",
    "            return cats[i]['name']\n",
    "    return \"None\""
   ]
  },
  {
   "cell_type": "code",
   "execution_count": null,
   "id": "7865008b-1c4f-4118-a713-97fa78ec9b96",
   "metadata": {},
   "outputs": [],
   "source": [
    "## 증강시킬 json 파일을 train_path에 넣어주세요\n",
    "json_path = dataset_path + '/train_all.json'\n",
    "\n",
    "coco = COCO(json_path)\n",
    "\n",
    "with open(json_path, 'r') as f:\n",
    "    json_data = json.load(f)"
   ]
  },
  {
   "cell_type": "markdown",
   "id": "c4486cbc-ecaa-439c-87f5-e66ddb7f8ed4",
   "metadata": {},
   "source": [
    "## Define Options"
   ]
  },
  {
   "cell_type": "code",
   "execution_count": null,
   "id": "b5bcf83c-da6d-4fad-97d6-f7b888d096a7",
   "metadata": {},
   "outputs": [],
   "source": [
    "# 증강시키고자 하는 mask_class 선언\n",
    "# ex) battery를 증강하려면 9 입력\n",
    "\n",
    "mask_class = 9"
   ]
  },
  {
   "cell_type": "code",
   "execution_count": null,
   "id": "469ac0c8-7557-42c1-ad9b-002a57bd4fdc",
   "metadata": {},
   "outputs": [],
   "source": [
    "# 원하는 mask_class가 들어있는 images의 인덱스들\n",
    "foreground_images = []\n",
    "\n",
    "for idx in tqdm(range(len(json_data['images']))):\n",
    "# for idx in range(3):\n",
    "    image_id = coco.getImgIds(imgIds=idx)\n",
    "    image_infos = coco.loadImgs(image_id)[0]\n",
    "    \n",
    "    ann_ids = coco.getAnnIds(imgIds=image_infos['id'])\n",
    "    anns = coco.loadAnns(ann_ids)\n",
    "    anns = sorted(anns, key=lambda idx : idx['area'], reverse=True)\n",
    "    \n",
    "    category_type = []\n",
    "    for i in range(len(anns)):\n",
    "        category_id = anns[i]['category_id']\n",
    "        if category_id == mask_class:\n",
    "            foreground_images.append(idx)\n",
    "            break"
   ]
  },
  {
   "cell_type": "code",
   "execution_count": null,
   "id": "c410e443-ef0f-42b2-862d-f3b4b5fbc562",
   "metadata": {},
   "outputs": [],
   "source": [
    "# json data 파일의 마지막 images id가 3271이므로\n",
    "last_images_id = json_data['images'][-1]['id']\n",
    "\n",
    "# mask_class가 없는 이미지에 증강시킬 목적으로 \n",
    "# mask_class가 없는 이미지들의 인덱스 background_images 선언\n",
    "background_images = range(last_images_id)\n",
    "background_images = [x for x in background_images if x not in foreground_images]"
   ]
  },
  {
   "cell_type": "code",
   "execution_count": null,
   "id": "66267499-e872-4a04-852a-88303c12f0d6",
   "metadata": {},
   "outputs": [],
   "source": [
    "# 증강시킬 개수 k\n",
    "# 일단 여기서는 k == 1이기 때문에 \n",
    "\n",
    "k = 1\n",
    "fg_image_idx = random.sample(foreground_images, k)\n",
    "bg_image_idx = random.sample(background_images, k)"
   ]
  },
  {
   "cell_type": "markdown",
   "id": "7f8cdd5c-2a36-4c4e-b42e-1f2782a06c47",
   "metadata": {},
   "source": [
    "## Augmentation"
   ]
  },
  {
   "cell_type": "markdown",
   "id": "5ac39a62-1a1a-463b-9d97-2e1da9cea463",
   "metadata": {},
   "source": [
    "### Find Background Space from Original Image"
   ]
  },
  {
   "cell_type": "code",
   "execution_count": null,
   "id": "c55d2f51-c876-4280-8d57-ee5f8021eba6",
   "metadata": {},
   "outputs": [],
   "source": [
    "## 원본으로 쓰일 이미지\n",
    "## 여기서는 원본 이미지에서 배경에 해당하는 공간을 찾을 것임\n",
    "\n",
    "## idx에 해당하는 이미지 정보 추출\n",
    "idx = bg_image_idx\n",
    "\n",
    "image_id = coco.getImgIds(imgIds=idx)\n",
    "image_infos = coco.loadImgs(image_id)[0]\n",
    "\n",
    "ann_ids = coco.getAnnIds(imgIds=image_infos['id'])\n",
    "anns = coco.loadAnns(ann_ids)\n",
    "\n",
    "cat_ids = coco.getCatIds()\n",
    "cats = coco.loadCats(cat_ids)\n",
    "\n",
    "masks = np.zeros((image_infos[\"height\"], image_infos[\"width\"]))\n",
    "\n",
    "anns = sorted(anns, key=lambda idx : idx['area'], reverse=True)\n",
    "for i in range(len(anns)):\n",
    "    className = get_classname(anns[i]['category_id'], cats)\n",
    "    pixel_value = category_names.index(className)\n",
    "    masks[coco.annToMask(anns[i]) == 1] = pixel_value\n",
    "\n",
    "masks = masks.astype(np.int8)"
   ]
  },
  {
   "cell_type": "code",
   "execution_count": null,
   "id": "f8bad7cc-9587-4672-939a-b93376dec3b3",
   "metadata": {},
   "outputs": [],
   "source": [
    "# 해당 이미지 시각화\n",
    "images = cv2.imread(os.path.join(dataset_path, image_infos['file_name']))\n",
    "images = cv2.cvtColor(images, cv2.COLOR_BGR2RGB)\n",
    "\n",
    "# temp_images에다가 합성할 예정\n",
    "temp_infos = copy.deepcopy(image_infos)\n",
    "temp_images = copy.deepcopy(images)\n",
    "plt.imshow(images)"
   ]
  },
  {
   "cell_type": "code",
   "execution_count": null,
   "id": "f39ff68e-bf1d-481c-ab76-9c033b21aac6",
   "metadata": {},
   "outputs": [],
   "source": [
    "# background에서 빈 공간을 찾기 위해\n",
    "# background_mask 선언\n",
    "background_mask = (masks == 0)\n",
    "\n",
    "\n",
    "# 공간 찾는 로직\n",
    "edge = 0\n",
    "graph = [[x for x in sub] for sub in background_mask]\n",
    "\n",
    "for x in range(1, len(graph)):\n",
    "    for y in range(1, len(graph)):\n",
    "        if graph[x][y] == 0:\n",
    "            continue\n",
    "        else:\n",
    "            _min = min([graph[x][y-1], graph[x-1][y], graph[x-1][y-1]])\n",
    "            graph[x][y] = _min + 1\n",
    "            if edge < graph[x][y]:\n",
    "                edge = graph[x][y]\n",
    "                  \n",
    "flag = False\n",
    "\n",
    "for x in range(1, len(graph)):\n",
    "    if flag: \n",
    "        break\n",
    "    for y in range(1, len(graph)):\n",
    "        if graph[x][y] == edge:\n",
    "            empty_ymax, empty_xmax = x+1, y+1\n",
    "            flag = True\n",
    "            break\n",
    "            \n",
    "# 찾은 빈공간 확인\n",
    "# plt.imshow(images[empty_ymax-edge:empty_ymax, empty_xmax-edge:empty_xmax])"
   ]
  },
  {
   "cell_type": "markdown",
   "id": "212b58a2-0f75-49f8-bbaf-deb69c0c1603",
   "metadata": {},
   "source": [
    "### Extract Image Mask"
   ]
  },
  {
   "cell_type": "code",
   "execution_count": null,
   "id": "160f9013-dad4-4c82-bb8f-afa4b59fb723",
   "metadata": {},
   "outputs": [],
   "source": [
    "## 추출하려는 이미지\n",
    "## 여기서는 원하는 mask_class에 따라 물체를 추출할 것임\n",
    "\n",
    "## idx에 해당하는 이미지 정보 추출\n",
    "idx = fg_image_idx\n",
    "\n",
    "image_id = coco.getImgIds(imgIds=idx)\n",
    "image_infos = coco.loadImgs(image_id)[0]\n",
    "\n",
    "ann_ids = coco.getAnnIds(imgIds=image_infos['id'])\n",
    "anns = coco.loadAnns(ann_ids)\n",
    "\n",
    "cat_ids = coco.getCatIds()\n",
    "cats = coco.loadCats(cat_ids)\n",
    "\n",
    "masks = np.zeros((image_infos[\"height\"], image_infos[\"width\"]))\n",
    "\n",
    "anns = sorted(anns, key=lambda idx : idx['area'], reverse=True)\n",
    "for i in range(len(anns)):\n",
    "    className = get_classname(anns[i]['category_id'], cats)\n",
    "    pixel_value = category_names.index(className)\n",
    "    masks[coco.annToMask(anns[i]) == 1] = pixel_value\n",
    "\n",
    "masks = masks.astype(np.int8)"
   ]
  },
  {
   "cell_type": "code",
   "execution_count": null,
   "id": "127709ed-b7dd-418c-801f-0401633318de",
   "metadata": {},
   "outputs": [],
   "source": [
    "# 해당 이미지 시각화\n",
    "\n",
    "images = cv2.imread(os.path.join(dataset_path, image_infos['file_name']))\n",
    "images = cv2.cvtColor(images, cv2.COLOR_BGR2RGB)\n",
    "plt.imshow(images)"
   ]
  },
  {
   "cell_type": "code",
   "execution_count": null,
   "id": "1af04d06-4367-480e-9ea0-e18157930bcc",
   "metadata": {},
   "outputs": [],
   "source": [
    "masks = (masks == mask_class).astype(np.int8)\n",
    "\n",
    "# masking된 모든 물체 src\n",
    "# src를 뺀 background 선언\n",
    "\n",
    "src = cv2.bitwise_and(images, images, mask=masks)\n",
    "background = cv2.bitwise_not(images, images, mask=masks)\n",
    "\n",
    "plt.imshow(src)"
   ]
  },
  {
   "cell_type": "code",
   "execution_count": null,
   "id": "3ab02c41-9c7a-4103-b4ba-77aaa5fb155b",
   "metadata": {},
   "outputs": [],
   "source": [
    "## 해당 물체의 bbox 찾는 로직\n",
    "## class당 annotation이 여러개일 수 있기 때문에 for문을 통해 bbox 탐지\n",
    "\n",
    "ymin, ymax = 0, 0\n",
    "\n",
    "for y in range(len(src)):\n",
    "    if (masks[y].sum() != 0) and ymin == 0:\n",
    "        ymin = y\n",
    "    elif masks[y].sum() != 0:\n",
    "        ymax = y        \n",
    "\n",
    "xmin, xmax = 0, 0\n",
    "\n",
    "for x in range(len(src[0])):\n",
    "    if (masks[:, x].sum() != 0) and xmin == 0:\n",
    "        xmin = x\n",
    "    elif masks[:, x].sum() != 0:\n",
    "        xmax = x"
   ]
  },
  {
   "cell_type": "code",
   "execution_count": null,
   "id": "fdd28daa-4d8f-4c40-aeaf-53e0089d7299",
   "metadata": {},
   "outputs": [],
   "source": [
    "## segmenatation값 처리\n",
    "\n",
    "segmentation_roi = masks[ymin:ymax, xmin:xmax]\n",
    "resized_segmentation_roi = cv2.resize(segmentation_roi.astype(np.uint8), dsize=(edge, edge), interpolation=cv2.INTER_AREA)\n",
    "\n",
    "segmentation_mask = np.zeros((512, 512))\n",
    "segmentation_mask[empty_ymax-edge:empty_ymax, empty_xmax-edge:empty_xmax] = resized_segmentation_roi\n",
    "plt.imshow(segmentation_mask)"
   ]
  },
  {
   "cell_type": "code",
   "execution_count": null,
   "id": "beb5cb18-b95a-4f01-a693-90c0c88cce6e",
   "metadata": {},
   "outputs": [],
   "source": [
    "# mask 물체 추출\n",
    "extract_mask = src[ymin:ymax, xmin:xmax]\n",
    "# plt.imshow(extract_mask)"
   ]
  },
  {
   "cell_type": "code",
   "execution_count": null,
   "id": "80f8819e-bc33-4c3b-8503-2084ee408f47",
   "metadata": {},
   "outputs": [],
   "source": [
    "# 빈공간 size에 맞게 resize\n",
    "if edge * edge > (ymax-ymin) * (xmax-xmin):\n",
    "    resized_src = cv2.resize(extract_mask, dsize=(edge, edge), interpolation=cv2.INTER_AREA)\n",
    "else:\n",
    "    resized_src = cv2.resize(extract_mask, dsize=(edge, edge), interpolation=cv2.INTER_CUBIC)\n",
    "# plt.imshow(resized_src)"
   ]
  },
  {
   "cell_type": "code",
   "execution_count": null,
   "id": "6a52c6f2-6de7-4bba-aad6-f6360797a6e9",
   "metadata": {},
   "outputs": [],
   "source": [
    "# 원본 이미지에서 관심영역(roi) 설정\n",
    "# roi는 원본 이미지에서 찾은 빈 공간\n",
    "roi = temp_images[empty_ymax-edge:empty_ymax, empty_xmax-edge:empty_xmax]\n",
    "\n",
    "# 이미지 합성을 위해 bg_mask, fg_mask 생성\n",
    "resized_src_gray = cv2.cvtColor(resized_src, cv2.COLOR_BGR2GRAY)\n",
    "\n",
    "bg_mask = (resized_src_gray == 0).astype(np.int8)\n",
    "fg_mask = (resized_src_gray != 0).astype(np.int8)\n",
    "\n",
    "# roi에서 뜯어 붙일 이미지 공간을 제외한 배경 추출\n",
    "# resized_src에서 뜯어 붙일 이미지 추출\n",
    "bg = cv2.bitwise_and(roi, roi, mask=bg_mask)\n",
    "fg = cv2.bitwise_and(resized_src, resized_src, mask=fg_mask)\n",
    "\n",
    "# 이미지 합성\n",
    "merged_image = cv2.bitwise_or(bg, fg)\n",
    "\n",
    "# 합성 사진 시각화\n",
    "plt.imshow(merged_image)"
   ]
  },
  {
   "cell_type": "code",
   "execution_count": null,
   "id": "75ee3899-1537-46d3-b865-ccb3be1aaa90",
   "metadata": {},
   "outputs": [],
   "source": [
    "# 원본 이미지에 합성한 이미지 붙이기\n",
    "temp_images[empty_ymax-edge:empty_ymax, empty_xmax-edge:empty_xmax] = merged_image\n",
    "\n",
    "# 최종 결과물 시각화\n",
    "plt.imshow(temp_images)"
   ]
  },
  {
   "cell_type": "markdown",
   "id": "16559728-1219-4b78-9972-9354fcedb52a",
   "metadata": {},
   "source": [
    "## Save Augmented Image"
   ]
  },
  {
   "cell_type": "code",
   "execution_count": null,
   "id": "90552967-fa2c-448e-b7fe-0456ce135867",
   "metadata": {},
   "outputs": [],
   "source": [
    "## 증강된 이미지 저장\n",
    "\n",
    "saved_dir = '/opt/ml/segmentation/input/data/augmented/'\n",
    "file_name_dir = 'augmented/'\n",
    "if not os.path.isdir(saved_dir):                                                           \n",
    "    os.mkdir(saved_dir)\n",
    "\n",
    "temp_images = cv2.cvtColor(temp_images, cv2.COLOR_BGR2RGB)\n",
    "cv2.imwrite(saved_dir + temp_infos['file_name'].split('/')[-1], temp_images)"
   ]
  },
  {
   "cell_type": "markdown",
   "id": "de03909e-45c3-4db0-af60-3af87ae577ee",
   "metadata": {},
   "source": [
    "## Update Json"
   ]
  },
  {
   "cell_type": "code",
   "execution_count": null,
   "id": "0dc6b5f3-791b-4f8e-a8e2-4443443d88c9",
   "metadata": {},
   "outputs": [],
   "source": [
    "# 수정해야할 image_id\n",
    "revised_id = temp_infos['id']\n",
    "\n",
    "# json으로 읽어들일 image 수정\n",
    "json_data['images'][revised_id]['file_name'] = file_name_dir + temp_infos['file_name'].split('/')[-1]"
   ]
  },
  {
   "cell_type": "code",
   "execution_count": null,
   "id": "e0aecfd1-46ec-47f3-a678-3627d96d2427",
   "metadata": {},
   "outputs": [],
   "source": [
    "fortran_ground_truth_binary_mask = np.asfortranarray(segmentation_mask).astype(np.uint8)\n",
    "encoded_ground_truth = mask.encode(fortran_ground_truth_binary_mask)\n",
    "ground_truth_area = mask.area(encoded_ground_truth)\n",
    "ground_truth_bounding_box = mask.toBbox(encoded_ground_truth)\n",
    "contours, hierarchy = cv2.findContours(segmentation_mask.astype(np.uint8), cv2.RETR_CCOMP, cv2.CHAIN_APPROX_NONE)\n",
    "\n",
    "annotation = {\n",
    "        \"segmentation\": [],\n",
    "        \"area\": ground_truth_area.tolist(),\n",
    "        \"iscrowd\": 0,\n",
    "        \"image_id\": temp_infos['id'],\n",
    "        \"bbox\": ground_truth_bounding_box.tolist(),\n",
    "        \"category_id\": mask_class,\n",
    "        \"id\": json_data['annotations'][-1]['id'] + 1\n",
    "    }\n",
    "\n",
    "\n",
    "for contour in contours:\n",
    "    contour = np.flip(contour, axis=1)\n",
    "    segmentation = contour.ravel().tolist()\n",
    "    annotation['segmentation'].append(segmentation)"
   ]
  },
  {
   "cell_type": "code",
   "execution_count": null,
   "id": "8b2289fc-7924-440d-83e9-4601a10fd971",
   "metadata": {},
   "outputs": [],
   "source": [
    "json_data['annotations'].append(annotation)"
   ]
  },
  {
   "cell_type": "code",
   "execution_count": null,
   "id": "c2182225-c9c3-4fe8-bbd6-0f316c460273",
   "metadata": {},
   "outputs": [],
   "source": [
    "json_data['annotations'][-1]['id']"
   ]
  },
  {
   "cell_type": "markdown",
   "id": "d2170dd6-70dc-4870-8c90-ea93eddf374d",
   "metadata": {},
   "source": [
    "## Save New Json File"
   ]
  },
  {
   "cell_type": "code",
   "execution_count": null,
   "id": "5a52b1f3-3d22-448d-8ba0-9342f3e95059",
   "metadata": {},
   "outputs": [],
   "source": [
    "# 증강이 끝나면 json file 저장\n",
    "\n",
    "with open(dataset_path + 'mix_json.json', 'w') as outfile:\n",
    "    json.dump(json_data, outfile)"
   ]
  }
 ],
 "metadata": {
  "kernelspec": {
   "display_name": "segmentation",
   "language": "python",
   "name": "segmentation"
  },
  "language_info": {
   "codemirror_mode": {
    "name": "ipython",
    "version": 3
   },
   "file_extension": ".py",
   "mimetype": "text/x-python",
   "name": "python",
   "nbconvert_exporter": "python",
   "pygments_lexer": "ipython3",
   "version": "3.7.11"
  }
 },
 "nbformat": 4,
 "nbformat_minor": 5
}

{
 "cells": [
  {
   "cell_type": "code",
   "execution_count": 1,
   "id": "bc459e14-1767-48d0-8e94-c5a1c34238fc",
   "metadata": {},
   "outputs": [
    {
     "name": "stdout",
     "output_type": "stream",
     "text": [
      "loading annotations into memory...\n",
      "Done (t=3.62s)\n",
      "creating index...\n",
      "index created!\n"
     ]
    }
   ],
   "source": [
    "import pandas as pd\n",
    "import json\n",
    "import matplotlib.pyplot as plt\n",
    "import cv2\n",
    "import numpy as np\n",
    "import os\n",
    "import random\n",
    "from tqdm import tqdm\n",
    "from pycocotools.coco import COCO\n",
    "from pycocotools import mask\n",
    "from PassionateMix import *\n",
    "\n",
    "# 저장 경로\n",
    "save_dir = '/opt/ml/segmentation/input/data/augmented/'\n",
    "file_name_dir = 'augmented/'\n",
    "\n",
    "# 데이터셋 경로\n",
    "dataset_path  = './segmentation/input/data/'\n",
    "\n",
    "# 증강 파일\n",
    "json_path = dataset_path + 'train.json'\n",
    "coco = COCO(json_path)"
   ]
  },
  {
   "cell_type": "code",
   "execution_count": 2,
   "id": "f1bf1497-3d08-4b39-9930-4c711ea04ada",
   "metadata": {},
   "outputs": [],
   "source": [
    "# 증강시킬 json 파일 읽기\n",
    "with open(json_path, 'r') as f:\n",
    "    json_data = json.load(f)\n",
    "\n",
    "\n",
    "# 카테고리 이름 설정\n",
    "df = pd.read_csv('./segmentation/baseline_code/class_dict.csv')\n",
    "category_names = list(df.name)\n",
    "\n",
    "# 증강시킬 mask_class 번호 지정\n",
    "mask_class = 9"
   ]
  },
  {
   "cell_type": "code",
   "execution_count": 3,
   "id": "430dbe1d-196f-4db3-a6a9-ae3fea0faecd",
   "metadata": {},
   "outputs": [
    {
     "name": "stderr",
     "output_type": "stream",
     "text": [
      "100%|██████████| 2617/2617 [00:00<00:00, 66090.01it/s]\n"
     ]
    }
   ],
   "source": [
    "# 원하는 mask_class가 들어있는 images의 인덱스들 추출\n",
    "foreground_images = []\n",
    "\n",
    "for idx in tqdm(range(len(json_data['images']))):\n",
    "    image_id = coco.getImgIds(imgIds=idx)\n",
    "    image_infos = coco.loadImgs(image_id)[0]\n",
    "    \n",
    "    ann_ids = coco.getAnnIds(imgIds=image_infos['id'])\n",
    "    anns = coco.loadAnns(ann_ids)\n",
    "    anns = sorted(anns, key=lambda idx : idx['area'], reverse=True)\n",
    "    \n",
    "    category_type = []\n",
    "    for i in range(len(anns)):\n",
    "        category_id = anns[i]['category_id']\n",
    "        if category_id == mask_class:\n",
    "            foreground_images.append(idx)\n",
    "            break"
   ]
  },
  {
   "cell_type": "code",
   "execution_count": 4,
   "id": "a933fa2e-28a2-494e-add3-090946d8cba0",
   "metadata": {},
   "outputs": [],
   "source": [
    "# json data 파일의 마지막 images id 추출\n",
    "last_images_id = json_data['images'][-1]['id']\n",
    "\n",
    "# mask_class가 없는 이미지에 증강시킬 목적으로 \n",
    "# mask_class가 없는 이미지들의 인덱스 background_images 선언\n",
    "background_images = range(last_images_id)\n",
    "background_images = [x for x in background_images if x not in foreground_images]"
   ]
  },
  {
   "cell_type": "code",
   "execution_count": 5,
   "id": "0126faad-b537-46bf-bdec-abb93238b0a2",
   "metadata": {},
   "outputs": [],
   "source": [
    "random.seed(16)\n",
    "\n",
    "# 만약 추출해야하는 이미지가 250장 이상이면 300장으로 고정\n",
    "if len(foreground_images) >= 250:\n",
    "    foreground_images = random.sample(foreground_images, 250)\n",
    "    \n",
    "# 만약 추출해야하는 이미지가 125장 미만이라면 100장 이상으로 추출(최대 248장)\n",
    "while len(foreground_images) < 125:\n",
    "    foreground_images *= 2"
   ]
  },
  {
   "cell_type": "code",
   "execution_count": 6,
   "id": "55f71ff0-cddb-4493-b272-612ede60462e",
   "metadata": {},
   "outputs": [
    {
     "name": "stdout",
     "output_type": "stream",
     "text": [
      "136 136 136\n"
     ]
    }
   ],
   "source": [
    "# 증강시킬 개수 k\n",
    "random.seed(16)\n",
    "\n",
    "k = len(foreground_images)\n",
    "fg_image_idx = random.sample(foreground_images, k)\n",
    "bg_image_idx = random.sample(background_images, k)\n",
    "print(k, len(fg_image_idx), len(bg_image_idx))"
   ]
  },
  {
   "cell_type": "code",
   "execution_count": 7,
   "id": "d5be20d5-173e-495b-8249-e3a0abb08ae8",
   "metadata": {},
   "outputs": [
    {
     "name": "stderr",
     "output_type": "stream",
     "text": [
      "136it [01:26,  1.68it/s]\n"
     ]
    }
   ],
   "source": [
    "for fg_idx, bg_idx in tqdm(zip(fg_image_idx, bg_image_idx)):\n",
    "    # background 처리\n",
    "    bg_masks, bg_images, bg_image_infos = get_image_detail(dataset_path, bg_idx, coco, category_names)\n",
    "    edge, empty_ymax, empty_xmax = find_background_space(bg_masks)\n",
    "    \n",
    "    # 만약 배경이 없는 사진이라면 해당 iter는 continue\n",
    "    if (bg_masks == 0).sum() == 0:\n",
    "        continue\n",
    "    \n",
    "    # foreground 처리\n",
    "    fg_masks, fg_images, fg_image_infos = get_image_detail(dataset_path, fg_idx, coco, category_names)\n",
    "    fg, fg_bbox = find_foreground_bbox(fg_masks, fg_images, mask_class)\n",
    "    \n",
    "    # resize\n",
    "    resized_fg, segmentation_mask = resize_foreground_backgroud(fg_masks, fg, fg_bbox, empty_ymax, empty_xmax, edge)\n",
    "    \n",
    "    # background, foreground merge & save\n",
    "    merged_image = merge_bg_fg(bg_images, resized_fg, empty_ymax, empty_xmax, edge)\n",
    "    save_merged_image(save_dir, file_name_dir, merged_image, bg_image_infos)\n",
    "    \n",
    "    # json file 처리\n",
    "    json_data, annotation = make_coco_annotation(file_name_dir, bg_image_infos, segmentation_mask, mask_class, json_data)\n",
    "    json_data['annotations'].append(annotation)"
   ]
  },
  {
   "cell_type": "code",
   "execution_count": null,
   "id": "e10036ea-e47e-412c-934d-d61acce06ab0",
   "metadata": {},
   "outputs": [],
   "source": [
    "# 증강이 끝나면 json file 저장\n",
    "\n",
    "with open(dataset_path + 'passionatemix.json', 'w') as outfile:\n",
    "    json.dump(json_data, outfile)"
   ]
  }
 ],
 "metadata": {
  "kernelspec": {
   "display_name": "segmentation",
   "language": "python",
   "name": "segmentation"
  },
  "language_info": {
   "codemirror_mode": {
    "name": "ipython",
    "version": 3
   },
   "file_extension": ".py",
   "mimetype": "text/x-python",
   "name": "python",
   "nbconvert_exporter": "python",
   "pygments_lexer": "ipython3",
   "version": "3.7.11"
  }
 },
 "nbformat": 4,
 "nbformat_minor": 5
}

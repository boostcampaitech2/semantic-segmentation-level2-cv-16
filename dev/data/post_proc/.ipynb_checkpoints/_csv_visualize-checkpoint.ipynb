{
 "cells": [
  {
   "cell_type": "code",
   "execution_count": 1,
   "id": "fc117276-83db-41c5-ae35-1a6c1763458f",
   "metadata": {},
   "outputs": [],
   "source": [
    "import matplotlib.pyplot as plt\n",
    "import pandas as pd\n",
    "import numpy as np\n",
    "import PIL\n",
    "from tqdm import tqdm"
   ]
  },
  {
   "cell_type": "code",
   "execution_count": 2,
   "id": "f5ceffa0-e367-4984-b62f-904f4c8f656f",
   "metadata": {},
   "outputs": [],
   "source": [
    "def str_to_int(x):\n",
    "    ans = []\n",
    "    for char in x.split(\" \"):\n",
    "        ans.append(int(char))\n",
    "    return np.array(ans)\n",
    "\n",
    "def cls_split(df, im_shape=(256, 256)):\n",
    "    \n",
    "    df[\"ImArr\"] = df.PredictionString.map(str_to_int)\n",
    "    rtn = []\n",
    "    for i in tqdm(range(len(df))):\n",
    "        re = np.reshape(df[\"ImArr\"][i][:,np.newaxis],im_shape)\n",
    "        cls_split = []\n",
    "        for i in range(11):\n",
    "            buf = np.zeros(im_shape)\n",
    "            buf[re==i] = 1\n",
    "            cls_split.append(buf)\n",
    "        cls_split = np.array(cls_split)\n",
    "        rtn.append(cls_split)\n",
    "    return np.array(rtn)"
   ]
  },
  {
   "cell_type": "code",
   "execution_count": 4,
   "id": "bbe64e2e-dbe8-400e-820e-668e3035f5bf",
   "metadata": {},
   "outputs": [],
   "source": [
    "ref = pd.read_csv('output (0).csv')\n",
    "com = pd.read_csv('weighted_hard_vote.csv')"
   ]
  },
  {
   "cell_type": "code",
   "execution_count": 5,
   "id": "083a8357-2e4b-4d0d-8bfe-b70b348c5463",
   "metadata": {},
   "outputs": [
    {
     "name": "stdout",
     "output_type": "stream",
     "text": [
      "done\n"
     ]
    }
   ],
   "source": [
    "if len(ref) != len(com):\n",
    "    print(\"length diff\")\n",
    "\n",
    "for r, c in zip(ref.index, com.index):\n",
    "    if r != c:\n",
    "        print(\"index\")\n",
    "\n",
    "for r, c in zip(ref.columns, com.columns):\n",
    "    if r != c:\n",
    "        print(\"columns\")\n",
    "\n",
    "    \n",
    "for r, c in zip(ref.image_id, com.image_id):\n",
    "    if r != c:\n",
    "        print(\"file_name\")\n",
    "\n",
    "im_shape = (256, 256)\n",
    "plot = False\n",
    "for r, c in zip(ref.PredictionString, com.PredictionString):\n",
    "    r_int = str_to_int(r)\n",
    "    c_int = str_to_int(c)\n",
    "        \n",
    "    if len(r_int) != len(c_int):\n",
    "        print(\"PredictionString length error\")\n",
    "        \n",
    "print(\"done\")"
   ]
  },
  {
   "cell_type": "code",
   "execution_count": null,
   "id": "dbeb37cf-49c8-47a0-a3f9-a810cab54d17",
   "metadata": {},
   "outputs": [],
   "source": []
  }
 ],
 "metadata": {
  "kernelspec": {
   "display_name": "CRF",
   "language": "python",
   "name": "crf"
  },
  "language_info": {
   "codemirror_mode": {
    "name": "ipython",
    "version": 3
   },
   "file_extension": ".py",
   "mimetype": "text/x-python",
   "name": "python",
   "nbconvert_exporter": "python",
   "pygments_lexer": "ipython3",
   "version": "3.8.5"
  }
 },
 "nbformat": 4,
 "nbformat_minor": 5
}

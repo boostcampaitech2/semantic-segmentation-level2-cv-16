{
 "cells": [
  {
   "cell_type": "markdown",
   "metadata": {},
   "source": [
    "# images with masks on W&B"
   ]
  },
  {
   "cell_type": "code",
   "execution_count": 1,
   "metadata": {},
   "outputs": [],
   "source": [
    "import os\n",
    "import json\n",
    "\n",
    "import numpy as np\n",
    "import pandas as pd\n",
    "from PIL import Image\n",
    "import matplotlib.pyplot as plt\n",
    "\n",
    "import wandb\n",
    "from pycocotools.coco import COCO\n",
    "from easydict import EasyDict as edict"
   ]
  },
  {
   "cell_type": "code",
   "execution_count": 2,
   "metadata": {},
   "outputs": [],
   "source": [
    "common_json_path = \"/opt/ml/segmentation/input/data/\"\n",
    "train_all_json_path = common_json_path + \"train_all.json\"\n",
    "train_json_path = common_json_path + \"train.json\"\n",
    "val_json_path = common_json_path + \"val.json\""
   ]
  },
  {
   "cell_type": "code",
   "execution_count": 3,
   "metadata": {},
   "outputs": [],
   "source": [
    "# Read annotations\n",
    "with open(val_json_path, 'r') as f:\n",
    "    dataset = json.loads(f.read())\n",
    "dataset = edict(dataset)"
   ]
  },
  {
   "cell_type": "code",
   "execution_count": 4,
   "metadata": {},
   "outputs": [
    {
     "data": {
      "text/plain": [
       "['General trash',\n",
       " 'Paper',\n",
       " 'Paper pack',\n",
       " 'Metal',\n",
       " 'Glass',\n",
       " 'Plastic',\n",
       " 'Styrofoam',\n",
       " 'Plastic bag',\n",
       " 'Battery',\n",
       " 'Clothing']"
      ]
     },
     "execution_count": 4,
     "metadata": {},
     "output_type": "execute_result"
    }
   ],
   "source": [
    "category_names = []\n",
    "for category in dataset.categories:\n",
    "    category_names.append(category.name)\n",
    "category_names"
   ]
  },
  {
   "cell_type": "code",
   "execution_count": 5,
   "metadata": {},
   "outputs": [],
   "source": [
    "class ImagesWithMasks:\n",
    "    def __init__(self, data_dir, labels_to_class):\n",
    "        self.coco = COCO(data_dir)\n",
    "        self.labels_to_class = labels_to_class\n",
    "    \n",
    "    def get_classname(self, classID, cats):\n",
    "        for i in range(len(cats)):\n",
    "            if cats[i]['id']==classID:\n",
    "                return cats[i]['name']\n",
    "        return \"None\"\n",
    "\n",
    "    def __getitem__(self, index: int):\n",
    "        # dataset이 index되어 list처럼 동작\n",
    "        image_id = self.coco.getImgIds(imgIds=index)\n",
    "        image_infos = self.coco.loadImgs(image_id)[0]\n",
    "\n",
    "        # cv2 를 활용하여 image 불러오기\n",
    "        images = Image.open(os.path.join(common_json_path, image_infos['file_name']))\n",
    "        \n",
    "\n",
    "        ann_ids = self.coco.getAnnIds(imgIds=image_infos['id'])\n",
    "        anns = self.coco.loadAnns(ann_ids)\n",
    "\n",
    "        # Load the categories in a variable\n",
    "        cat_ids = self.coco.getCatIds()\n",
    "        cats = self.coco.loadCats(cat_ids)\n",
    "\n",
    "        # masks : size가 (height x width)인 2D\n",
    "        # 각각의 pixel 값에는 \"category id\" 할당\n",
    "        # Background = 0\n",
    "        masks = np.zeros((image_infos[\"height\"], image_infos[\"width\"]))\n",
    "        # General trash = 1, ... , Cigarette = 10\n",
    "        anns = sorted(anns, key=lambda idx : len(idx['segmentation'][0]), reverse=False)\n",
    "        for i in range(len(anns)):\n",
    "            className = self.get_classname(anns[i]['category_id'], cats)\n",
    "            pixel_value = self.labels_to_class[className]\n",
    "            masks[self.coco.annToMask(anns[i]) == 1] = pixel_value\n",
    "        masks = masks.astype(np.int8)\n",
    "\n",
    "        return images, masks, image_infos\n",
    "\n",
    "    def __len__(self) -> int:\n",
    "        # 전체 dataset의 size를 return\n",
    "        return len(self.coco.getImgIds())"
   ]
  },
  {
   "cell_type": "code",
   "execution_count": 6,
   "metadata": {},
   "outputs": [
    {
     "data": {
      "text/html": [
       "<div>\n",
       "<style scoped>\n",
       "    .dataframe tbody tr th:only-of-type {\n",
       "        vertical-align: middle;\n",
       "    }\n",
       "\n",
       "    .dataframe tbody tr th {\n",
       "        vertical-align: top;\n",
       "    }\n",
       "\n",
       "    .dataframe thead th {\n",
       "        text-align: right;\n",
       "    }\n",
       "</style>\n",
       "<table border=\"1\" class=\"dataframe\">\n",
       "  <thead>\n",
       "    <tr style=\"text-align: right;\">\n",
       "      <th></th>\n",
       "      <th>name</th>\n",
       "      <th>r</th>\n",
       "      <th>g</th>\n",
       "      <th>b</th>\n",
       "    </tr>\n",
       "  </thead>\n",
       "  <tbody>\n",
       "    <tr>\n",
       "      <th>0</th>\n",
       "      <td>Backgroud</td>\n",
       "      <td>0</td>\n",
       "      <td>0</td>\n",
       "      <td>0</td>\n",
       "    </tr>\n",
       "    <tr>\n",
       "      <th>1</th>\n",
       "      <td>General trash</td>\n",
       "      <td>192</td>\n",
       "      <td>0</td>\n",
       "      <td>128</td>\n",
       "    </tr>\n",
       "    <tr>\n",
       "      <th>2</th>\n",
       "      <td>Paper</td>\n",
       "      <td>0</td>\n",
       "      <td>128</td>\n",
       "      <td>192</td>\n",
       "    </tr>\n",
       "    <tr>\n",
       "      <th>3</th>\n",
       "      <td>Paper pack</td>\n",
       "      <td>0</td>\n",
       "      <td>128</td>\n",
       "      <td>64</td>\n",
       "    </tr>\n",
       "    <tr>\n",
       "      <th>4</th>\n",
       "      <td>Metal</td>\n",
       "      <td>128</td>\n",
       "      <td>0</td>\n",
       "      <td>0</td>\n",
       "    </tr>\n",
       "    <tr>\n",
       "      <th>5</th>\n",
       "      <td>Glass</td>\n",
       "      <td>64</td>\n",
       "      <td>0</td>\n",
       "      <td>128</td>\n",
       "    </tr>\n",
       "    <tr>\n",
       "      <th>6</th>\n",
       "      <td>Plastic</td>\n",
       "      <td>64</td>\n",
       "      <td>0</td>\n",
       "      <td>192</td>\n",
       "    </tr>\n",
       "    <tr>\n",
       "      <th>7</th>\n",
       "      <td>Styrofoam</td>\n",
       "      <td>192</td>\n",
       "      <td>128</td>\n",
       "      <td>64</td>\n",
       "    </tr>\n",
       "    <tr>\n",
       "      <th>8</th>\n",
       "      <td>Plastic bag</td>\n",
       "      <td>192</td>\n",
       "      <td>192</td>\n",
       "      <td>128</td>\n",
       "    </tr>\n",
       "    <tr>\n",
       "      <th>9</th>\n",
       "      <td>Battery</td>\n",
       "      <td>64</td>\n",
       "      <td>64</td>\n",
       "      <td>128</td>\n",
       "    </tr>\n",
       "    <tr>\n",
       "      <th>10</th>\n",
       "      <td>Clothing</td>\n",
       "      <td>128</td>\n",
       "      <td>0</td>\n",
       "      <td>192</td>\n",
       "    </tr>\n",
       "  </tbody>\n",
       "</table>\n",
       "</div>"
      ],
      "text/plain": [
       "             name    r    g    b\n",
       "0       Backgroud    0    0    0\n",
       "1   General trash  192    0  128\n",
       "2           Paper    0  128  192\n",
       "3      Paper pack    0  128   64\n",
       "4           Metal  128    0    0\n",
       "5           Glass   64    0  128\n",
       "6         Plastic   64    0  192\n",
       "7       Styrofoam  192  128   64\n",
       "8     Plastic bag  192  192  128\n",
       "9         Battery   64   64  128\n",
       "10       Clothing  128    0  192"
      ]
     },
     "execution_count": 6,
     "metadata": {},
     "output_type": "execute_result"
    }
   ],
   "source": [
    "class_dict_path = \"/opt/ml/segmentation/baseline_code/class_dict.csv\"\n",
    "class_colormap = pd.read_csv(class_dict_path)\n",
    "class_colormap"
   ]
  },
  {
   "cell_type": "code",
   "execution_count": 7,
   "metadata": {},
   "outputs": [
    {
     "name": "stdout",
     "output_type": "stream",
     "text": [
      "{0: 'Backgroud', 1: 'General trash', 2: 'Paper', 3: 'Paper pack', 4: 'Metal', 5: 'Glass', 6: 'Plastic', 7: 'Styrofoam', 8: 'Plastic bag', 9: 'Battery', 10: 'Clothing'}\n",
      "{'Backgroud': 0, 'General trash': 1, 'Paper': 2, 'Paper pack': 3, 'Metal': 4, 'Glass': 5, 'Plastic': 6, 'Styrofoam': 7, 'Plastic bag': 8, 'Battery': 9, 'Clothing': 10}\n"
     ]
    }
   ],
   "source": [
    "class_to_labels ={idx:cls_name for idx, cls_name in enumerate(class_colormap[\"name\"])}\n",
    "labels_to_class ={cls_name:idx for idx, cls_name in enumerate(class_colormap[\"name\"])}\n",
    "print(class_to_labels)\n",
    "print(labels_to_class)"
   ]
  },
  {
   "cell_type": "code",
   "execution_count": 8,
   "metadata": {},
   "outputs": [
    {
     "name": "stdout",
     "output_type": "stream",
     "text": [
      "loading annotations into memory...\n",
      "Done (t=4.46s)\n",
      "creating index...\n",
      "index created!\n"
     ]
    }
   ],
   "source": [
    "# val_loader = ImagesWithMasks(val_json_path,labels_to_class)\n",
    "# train_loader = ImagesWithMasks(train_json_path,labels_to_class)\n",
    "train_all_loader = ImagesWithMasks(train_all_json_path,labels_to_class)"
   ]
  },
  {
   "cell_type": "code",
   "execution_count": 9,
   "metadata": {},
   "outputs": [
    {
     "name": "stderr",
     "output_type": "stream",
     "text": [
      "Failed to detect the name of this notebook, you can set it manually with the WANDB_NOTEBOOK_NAME environment variable to enable code saving.\n",
      "\u001b[34m\u001b[1mwandb\u001b[0m: Currently logged in as: \u001b[33msang-hyun\u001b[0m (use `wandb login --relogin` to force relogin)\n",
      "/opt/conda/envs/EDA/lib/python3.7/site-packages/IPython/html.py:14: ShimWarning: The `IPython.html` package has been deprecated since IPython 4.0. You should import from `notebook` instead. `IPython.html.widgets` has moved to `ipywidgets`.\n",
      "  \"`IPython.html.widgets` has moved to `ipywidgets`.\", ShimWarning)\n"
     ]
    },
    {
     "data": {
      "text/html": [
       "\n",
       "                    Syncing run <strong><a href=\"https://wandb.ai/passion-ate/images-with-masks/runs/2i2cz8ca\" target=\"_blank\">validation-set</a></strong> to <a href=\"https://wandb.ai/passion-ate/images-with-masks\" target=\"_blank\">Weights & Biases</a> (<a href=\"https://docs.wandb.com/integrations/jupyter.html\" target=\"_blank\">docs</a>).<br/>\n",
       "\n",
       "                "
      ],
      "text/plain": [
       "<IPython.core.display.HTML object>"
      ]
     },
     "metadata": {},
     "output_type": "display_data"
    },
    {
     "data": {
      "text/html": [
       "<button onClick=\"this.nextSibling.style.display='block';this.style.display='none';\">Display W&B run</button><iframe src=\"https://wandb.ai/passion-ate/images-with-masks/runs/2i2cz8ca?jupyter=true\" style=\"border:none;width:100%;height:420px;display:none;\"></iframe>"
      ],
      "text/plain": [
       "<wandb.sdk.wandb_run.Run at 0x7f7f5736dd90>"
      ]
     },
     "execution_count": 9,
     "metadata": {},
     "output_type": "execute_result"
    }
   ],
   "source": [
    "wandb.init(project=\"images-with-masks\",entity=\"passion-ate\",name=\"validation-set\",)"
   ]
  },
  {
   "cell_type": "code",
   "execution_count": 16,
   "metadata": {},
   "outputs": [
    {
     "data": {
      "text/html": [
       "Finishing last run (ID:svp9eoqy) before initializing another..."
      ],
      "text/plain": [
       "<IPython.core.display.HTML object>"
      ]
     },
     "metadata": {},
     "output_type": "display_data"
    },
    {
     "data": {
      "text/html": [
       "<br/>Waiting for W&B process to finish, PID 48208... <strong style=\"color:green\">(success).</strong>"
      ],
      "text/plain": [
       "<IPython.core.display.HTML object>"
      ]
     },
     "metadata": {},
     "output_type": "display_data"
    },
    {
     "data": {
      "text/html": [
       "<style>\n",
       "    table.wandb td:nth-child(1) { padding: 0 10px; text-align: right }\n",
       "    .wandb-row { display: flex; flex-direction: row; flex-wrap: wrap; width: 100% }\n",
       "    .wandb-col { display: flex; flex-direction: column; flex-basis: 100%; flex: 1; padding: 10px; }\n",
       "    </style>\n",
       "<div class=\"wandb-row\"><div class=\"wandb-col\">\n",
       "</div><div class=\"wandb-col\">\n",
       "</div></div>\n",
       "Synced 5 W&B file(s), 42 media file(s), 0 artifact file(s) and 0 other file(s)\n",
       "<br/>Synced <strong style=\"color:#cdcd00\">train-all-{log_count}-{log_count+99}</strong>: <a href=\"https://wandb.ai/passion-ate/images-with-masks/runs/svp9eoqy\" target=\"_blank\">https://wandb.ai/passion-ate/images-with-masks/runs/svp9eoqy</a><br/>\n",
       "Find logs at: <code>./wandb/run-20211020_175054-svp9eoqy/logs</code><br/>\n"
      ],
      "text/plain": [
       "<IPython.core.display.HTML object>"
      ]
     },
     "metadata": {},
     "output_type": "display_data"
    },
    {
     "data": {
      "text/html": [
       "Successfully finished last run (ID:svp9eoqy). Initializing new run:<br/>"
      ],
      "text/plain": [
       "<IPython.core.display.HTML object>"
      ]
     },
     "metadata": {},
     "output_type": "display_data"
    },
    {
     "data": {
      "text/html": [
       "\n",
       "                    Syncing run <strong><a href=\"https://wandb.ai/passion-ate/images-with-masks/runs/1dyicey4\" target=\"_blank\">train-all-0-99</a></strong> to <a href=\"https://wandb.ai/passion-ate/images-with-masks\" target=\"_blank\">Weights & Biases</a> (<a href=\"https://docs.wandb.com/integrations/jupyter.html\" target=\"_blank\">docs</a>).<br/>\n",
       "\n",
       "                "
      ],
      "text/plain": [
       "<IPython.core.display.HTML object>"
      ]
     },
     "metadata": {},
     "output_type": "display_data"
    },
    {
     "ename": "AttributeError",
     "evalue": "'ZMQDisplayPublisher' object has no attribute '_orig_publish'",
     "output_type": "error",
     "traceback": [
      "\u001b[0;31m---------------------------------------------------------------------------\u001b[0m",
      "\u001b[0;31mAttributeError\u001b[0m                            Traceback (most recent call last)",
      "\u001b[0;32m/tmp/ipykernel_47771/650885956.py\u001b[0m in \u001b[0;36m<module>\u001b[0;34m\u001b[0m\n\u001b[1;32m      4\u001b[0m     \u001b[0;32mif\u001b[0m \u001b[0mlog_count\u001b[0m\u001b[0;34m%\u001b[0m\u001b[0;36m100\u001b[0m \u001b[0;34m==\u001b[0m \u001b[0;36m0\u001b[0m\u001b[0;34m:\u001b[0m\u001b[0;34m\u001b[0m\u001b[0;34m\u001b[0m\u001b[0m\n\u001b[1;32m      5\u001b[0m         \u001b[0;32mif\u001b[0m \u001b[0mbool\u001b[0m\u001b[0;34m(\u001b[0m\u001b[0mRun\u001b[0m\u001b[0;34m)\u001b[0m\u001b[0;34m:\u001b[0m\u001b[0;34m\u001b[0m\u001b[0;34m\u001b[0m\u001b[0m\n\u001b[0;32m----> 6\u001b[0;31m             \u001b[0mRun\u001b[0m\u001b[0;34m.\u001b[0m\u001b[0mfinish\u001b[0m\u001b[0;34m(\u001b[0m\u001b[0;34m)\u001b[0m\u001b[0;34m\u001b[0m\u001b[0;34m\u001b[0m\u001b[0m\n\u001b[0m\u001b[1;32m      7\u001b[0m         \u001b[0mrun_name\u001b[0m \u001b[0;34m=\u001b[0m \u001b[0;34mf\"train-all-{log_count}-{log_count+99}\"\u001b[0m\u001b[0;34m\u001b[0m\u001b[0;34m\u001b[0m\u001b[0m\n\u001b[1;32m      8\u001b[0m         \u001b[0mRun\u001b[0m \u001b[0;34m=\u001b[0m \u001b[0mwandb\u001b[0m\u001b[0;34m.\u001b[0m\u001b[0minit\u001b[0m\u001b[0;34m(\u001b[0m\u001b[0mproject\u001b[0m\u001b[0;34m=\u001b[0m\u001b[0;34m\"images-with-masks\"\u001b[0m\u001b[0;34m,\u001b[0m\u001b[0mentity\u001b[0m\u001b[0;34m=\u001b[0m\u001b[0;34m\"passion-ate\"\u001b[0m\u001b[0;34m,\u001b[0m\u001b[0mname\u001b[0m\u001b[0;34m=\u001b[0m\u001b[0mrun_name\u001b[0m\u001b[0;34m,\u001b[0m\u001b[0;34m)\u001b[0m\u001b[0;34m\u001b[0m\u001b[0;34m\u001b[0m\u001b[0m\n",
      "\u001b[0;32m/opt/conda/envs/EDA/lib/python3.7/site-packages/wandb/sdk/wandb_run.py\u001b[0m in \u001b[0;36mfinish\u001b[0;34m(self, exit_code, quiet)\u001b[0m\n\u001b[1;32m   1349\u001b[0m         \u001b[0;32mfor\u001b[0m \u001b[0mhook\u001b[0m \u001b[0;32min\u001b[0m \u001b[0mself\u001b[0m\u001b[0;34m.\u001b[0m\u001b[0m_teardown_hooks\u001b[0m\u001b[0;34m:\u001b[0m\u001b[0;34m\u001b[0m\u001b[0;34m\u001b[0m\u001b[0m\n\u001b[1;32m   1350\u001b[0m             \u001b[0;32mif\u001b[0m \u001b[0mhook\u001b[0m\u001b[0;34m.\u001b[0m\u001b[0mstage\u001b[0m \u001b[0;34m==\u001b[0m \u001b[0mTeardownStage\u001b[0m\u001b[0;34m.\u001b[0m\u001b[0mEARLY\u001b[0m\u001b[0;34m:\u001b[0m\u001b[0;34m\u001b[0m\u001b[0;34m\u001b[0m\u001b[0m\n\u001b[0;32m-> 1351\u001b[0;31m                 \u001b[0mhook\u001b[0m\u001b[0;34m.\u001b[0m\u001b[0mcall\u001b[0m\u001b[0;34m(\u001b[0m\u001b[0;34m)\u001b[0m\u001b[0;34m\u001b[0m\u001b[0;34m\u001b[0m\u001b[0m\n\u001b[0m\u001b[1;32m   1352\u001b[0m \u001b[0;34m\u001b[0m\u001b[0m\n\u001b[1;32m   1353\u001b[0m         \u001b[0mself\u001b[0m\u001b[0;34m.\u001b[0m\u001b[0m_atexit_cleanup\u001b[0m\u001b[0;34m(\u001b[0m\u001b[0mexit_code\u001b[0m\u001b[0;34m=\u001b[0m\u001b[0mexit_code\u001b[0m\u001b[0;34m)\u001b[0m\u001b[0;34m\u001b[0m\u001b[0;34m\u001b[0m\u001b[0m\n",
      "\u001b[0;32m/opt/conda/envs/EDA/lib/python3.7/site-packages/wandb/sdk/wandb_init.py\u001b[0m in \u001b[0;36m_jupyter_teardown\u001b[0;34m(self)\u001b[0m\n\u001b[1;32m    295\u001b[0m             \u001b[0;32mif\u001b[0m \u001b[0;34m\"_pause_backend\"\u001b[0m \u001b[0;32min\u001b[0m \u001b[0mhook\u001b[0m\u001b[0;34m.\u001b[0m\u001b[0m__name__\u001b[0m\u001b[0;34m:\u001b[0m\u001b[0;34m\u001b[0m\u001b[0;34m\u001b[0m\u001b[0m\n\u001b[1;32m    296\u001b[0m                 \u001b[0mipython\u001b[0m\u001b[0;34m.\u001b[0m\u001b[0mevents\u001b[0m\u001b[0;34m.\u001b[0m\u001b[0munregister\u001b[0m\u001b[0;34m(\u001b[0m\u001b[0;34m\"post_run_cell\"\u001b[0m\u001b[0;34m,\u001b[0m \u001b[0mhook\u001b[0m\u001b[0;34m)\u001b[0m\u001b[0;34m\u001b[0m\u001b[0;34m\u001b[0m\u001b[0m\n\u001b[0;32m--> 297\u001b[0;31m         \u001b[0mipython\u001b[0m\u001b[0;34m.\u001b[0m\u001b[0mdisplay_pub\u001b[0m\u001b[0;34m.\u001b[0m\u001b[0mpublish\u001b[0m \u001b[0;34m=\u001b[0m \u001b[0mipython\u001b[0m\u001b[0;34m.\u001b[0m\u001b[0mdisplay_pub\u001b[0m\u001b[0;34m.\u001b[0m\u001b[0m_orig_publish\u001b[0m\u001b[0;34m\u001b[0m\u001b[0;34m\u001b[0m\u001b[0m\n\u001b[0m\u001b[1;32m    298\u001b[0m         \u001b[0;32mdel\u001b[0m \u001b[0mipython\u001b[0m\u001b[0;34m.\u001b[0m\u001b[0mdisplay_pub\u001b[0m\u001b[0;34m.\u001b[0m\u001b[0m_orig_publish\u001b[0m\u001b[0;34m\u001b[0m\u001b[0;34m\u001b[0m\u001b[0m\n\u001b[1;32m    299\u001b[0m \u001b[0;34m\u001b[0m\u001b[0m\n",
      "\u001b[0;31mAttributeError\u001b[0m: 'ZMQDisplayPublisher' object has no attribute '_orig_publish'"
     ]
    },
    {
     "name": "stderr",
     "output_type": "stream",
     "text": [
      "wandb: Network error (TransientError), entering retry loop.\n",
      "wandb: ERROR Error while calling W&B API: Error 1062: Duplicate entry '505748-1dyicey4' for key 'PRIMARY' (<Response [409]>)\n",
      "Thread SenderThread:\n",
      "Traceback (most recent call last):\n",
      "  File \"/opt/conda/envs/EDA/lib/python3.7/site-packages/wandb/apis/normalize.py\", line 24, in wrapper\n",
      "    return func(*args, **kwargs)\n",
      "  File \"/opt/conda/envs/EDA/lib/python3.7/site-packages/wandb/sdk/internal/internal_api.py\", line 1270, in upsert_run\n",
      "    response = self.gql(mutation, variable_values=variable_values, **kwargs)\n",
      "  File \"/opt/conda/envs/EDA/lib/python3.7/site-packages/wandb/sdk/lib/retry.py\", line 102, in __call__\n",
      "    result = self._call_fn(*args, **kwargs)\n",
      "  File \"/opt/conda/envs/EDA/lib/python3.7/site-packages/wandb/sdk/internal/internal_api.py\", line 147, in execute\n",
      "    six.reraise(*sys.exc_info())\n",
      "  File \"/opt/conda/envs/EDA/lib/python3.7/site-packages/six.py\", line 719, in reraise\n",
      "    raise value\n",
      "  File \"/opt/conda/envs/EDA/lib/python3.7/site-packages/wandb/sdk/internal/internal_api.py\", line 141, in execute\n",
      "    return self.client.execute(*args, **kwargs)\n",
      "  File \"/opt/conda/envs/EDA/lib/python3.7/site-packages/wandb/vendor/gql-0.2.0/gql/client.py\", line 52, in execute\n",
      "    result = self._get_result(document, *args, **kwargs)\n",
      "  File \"/opt/conda/envs/EDA/lib/python3.7/site-packages/wandb/vendor/gql-0.2.0/gql/client.py\", line 60, in _get_result\n",
      "    return self.transport.execute(document, *args, **kwargs)\n",
      "  File \"/opt/conda/envs/EDA/lib/python3.7/site-packages/wandb/vendor/gql-0.2.0/gql/transport/requests.py\", line 39, in execute\n",
      "    request.raise_for_status()\n",
      "  File \"/opt/conda/envs/EDA/lib/python3.7/site-packages/requests/models.py\", line 953, in raise_for_status\n",
      "    raise HTTPError(http_error_msg, response=self)\n",
      "requests.exceptions.HTTPError: 409 Client Error: Conflict for url: https://api.wandb.ai/graphql\n",
      "\n",
      "During handling of the above exception, another exception occurred:\n",
      "\n",
      "Traceback (most recent call last):\n",
      "  File \"/opt/conda/envs/EDA/lib/python3.7/site-packages/wandb/sdk/internal/internal_util.py\", line 52, in run\n",
      "    self._run()\n",
      "  File \"/opt/conda/envs/EDA/lib/python3.7/site-packages/wandb/sdk/internal/internal_util.py\", line 96, in _run\n",
      "    self._debounce()\n",
      "  File \"/opt/conda/envs/EDA/lib/python3.7/site-packages/wandb/sdk/internal/internal.py\", line 298, in _debounce\n",
      "    self._sm.debounce()\n",
      "  File \"/opt/conda/envs/EDA/lib/python3.7/site-packages/wandb/sdk/internal/sender.py\", line 266, in debounce\n",
      "    self._debounce_config()\n",
      "  File \"/opt/conda/envs/EDA/lib/python3.7/site-packages/wandb/sdk/internal/sender.py\", line 273, in _debounce_config\n",
      "    name=self._run.run_id, config=config_value_dict, **self._api_settings\n",
      "  File \"/opt/conda/envs/EDA/lib/python3.7/site-packages/wandb/apis/normalize.py\", line 26, in wrapper\n",
      "    raise CommError(err.response, err)\n",
      "wandb.errors.CommError: <Response [409]>\n",
      "wandb: ERROR Internal wandb error: file data was not synced\n",
      "Exception in thread Thread-24:\n",
      "Traceback (most recent call last):\n",
      "  File \"/opt/conda/envs/EDA/lib/python3.7/threading.py\", line 926, in _bootstrap_inner\n",
      "    self.run()\n",
      "  File \"/opt/conda/envs/EDA/lib/python3.7/threading.py\", line 870, in run\n",
      "    self._target(*self._args, **self._kwargs)\n",
      "  File \"/opt/conda/envs/EDA/lib/python3.7/site-packages/wandb/sdk/wandb_run.py\", line 167, in check_status\n",
      "    status_response = self._interface.communicate_stop_status()\n",
      "  File \"/opt/conda/envs/EDA/lib/python3.7/site-packages/wandb/sdk/interface/interface.py\", line 114, in communicate_stop_status\n",
      "    resp = self._communicate_stop_status(status)\n",
      "  File \"/opt/conda/envs/EDA/lib/python3.7/site-packages/wandb/sdk/interface/interface.py\", line 968, in _communicate_stop_status\n",
      "    resp = self._communicate(req, local=True)\n",
      "  File \"/opt/conda/envs/EDA/lib/python3.7/site-packages/wandb/sdk/interface/interface.py\", line 799, in _communicate\n",
      "    return self._communicate_async(rec, local=local).get(timeout=timeout)\n",
      "  File \"/opt/conda/envs/EDA/lib/python3.7/site-packages/wandb/sdk/interface/interface.py\", line 804, in _communicate_async\n",
      "    raise Exception(\"The wandb backend process has shutdown\")\n",
      "Exception: The wandb backend process has shutdown\n",
      "\n",
      "Exception in thread Thread-25:\n",
      "Traceback (most recent call last):\n",
      "  File \"/opt/conda/envs/EDA/lib/python3.7/threading.py\", line 926, in _bootstrap_inner\n",
      "    self.run()\n",
      "  File \"/opt/conda/envs/EDA/lib/python3.7/threading.py\", line 870, in run\n",
      "    self._target(*self._args, **self._kwargs)\n",
      "  File \"/opt/conda/envs/EDA/lib/python3.7/site-packages/wandb/sdk/wandb_run.py\", line 149, in check_network_status\n",
      "    status_response = self._interface.communicate_network_status()\n",
      "  File \"/opt/conda/envs/EDA/lib/python3.7/site-packages/wandb/sdk/interface/interface.py\", line 125, in communicate_network_status\n",
      "    resp = self._communicate_network_status(status)\n",
      "  File \"/opt/conda/envs/EDA/lib/python3.7/site-packages/wandb/sdk/interface/interface.py\", line 978, in _communicate_network_status\n",
      "    resp = self._communicate(req, local=True)\n",
      "  File \"/opt/conda/envs/EDA/lib/python3.7/site-packages/wandb/sdk/interface/interface.py\", line 799, in _communicate\n",
      "    return self._communicate_async(rec, local=local).get(timeout=timeout)\n",
      "  File \"/opt/conda/envs/EDA/lib/python3.7/site-packages/wandb/sdk/interface/interface.py\", line 804, in _communicate_async\n",
      "    raise Exception(\"The wandb backend process has shutdown\")\n",
      "Exception: The wandb backend process has shutdown\n",
      "\n"
     ]
    }
   ],
   "source": [
    "Run = False\n",
    "log_count, data_loader = 0, train_all_loader\n",
    "for i in range(len(data_loader)):\n",
    "    if log_count%100 == 0:\n",
    "        if bool(Run):\n",
    "            Run.finish()\n",
    "        run_name = f\"train-all-{log_count}-{log_count+99}\"\n",
    "        Run = wandb.init(project=\"images-with-masks\",entity=\"passion-ate\",name=run_name,)\n",
    "    \n",
    "    img, mask, image_infos = data_loader[i]\n",
    "\n",
    "    mask_img = wandb.Image(\n",
    "        img,\n",
    "        caption=image_infos[\"file_name\"],\n",
    "        masks={\n",
    "            \"ground_truth\": {    \n",
    "                \"mask_data\": mask,    \n",
    "                \"class_labels\": class_to_labels  \n",
    "            },\n",
    "        }\n",
    "    )\n",
    "    Run.log({\"images-with-masks\" : mask_img})\n",
    "    log_count += 1\n",
    "        \n"
   ]
  },
  {
   "cell_type": "code",
   "execution_count": 11,
   "metadata": {},
   "outputs": [
    {
     "data": {
      "text/plain": [
       "0"
      ]
     },
     "execution_count": 11,
     "metadata": {},
     "output_type": "execute_result"
    },
    {
     "name": "stderr",
     "output_type": "stream",
     "text": [
      "wandb: ERROR Dropped streaming file chunk (see wandb/debug-internal.log)\n",
      "ERROR:root:dropped chunk 404 Client Error: Not Found for url: https://api.wandb.ai/files/passion-ate/images-with-masks/2i2cz8ca/file_stream\n",
      "NoneType: None\n",
      "wandb: ERROR Dropped streaming file chunk (see wandb/debug-internal.log)\n",
      "ERROR:root:dropped chunk 404 Client Error: Not Found for url: https://api.wandb.ai/files/passion-ate/images-with-masks/2i2cz8ca/file_stream\n",
      "NoneType: None\n"
     ]
    }
   ],
   "source": []
  },
  {
   "cell_type": "code",
   "execution_count": null,
   "metadata": {},
   "outputs": [],
   "source": []
  }
 ],
 "metadata": {
  "interpreter": {
   "hash": "57de06900712cf18029ae1aa25e596fdd00c5bfb0417441f21d75cec62e8b0cb"
  },
  "kernelspec": {
   "display_name": "Python 3.10.0 64-bit ('EDA': conda)",
   "name": "python3"
  },
  "language_info": {
   "codemirror_mode": {
    "name": "ipython",
    "version": 3
   },
   "file_extension": ".py",
   "mimetype": "text/x-python",
   "name": "python",
   "nbconvert_exporter": "python",
   "pygments_lexer": "ipython3",
   "version": "3.7.10"
  },
  "orig_nbformat": 4
 },
 "nbformat": 4,
 "nbformat_minor": 2
}

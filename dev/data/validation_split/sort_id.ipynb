{
 "cells": [
  {
   "cell_type": "code",
   "execution_count": 6,
   "metadata": {},
   "outputs": [],
   "source": [
    "import json\n",
    "import pandas as pd\n",
    "import numpy as np\n",
    "from copy import copy\n",
    "\n",
    "def sort(target):\n",
    "    with open(target, \"r\") as f:\n",
    "        train = json.load(f)\n",
    "    sorted_train = copy(train)\n",
    "    images = train['images']\n",
    "    id_map = dict()\n",
    "    for i, x in enumerate(images):\n",
    "        id_map[x['id']] = i\n",
    "        sorted_train['images'][i]['id'] = i\n",
    "    for i, ann in enumerate(train['annotations']):\n",
    "        new_id = id_map[ann['image_id']]\n",
    "        sorted_train['annotations'][i]['image_id'] = new_id\n",
    "    with open(target, \"w\") as f:\n",
    "        json.dump(sorted_train, f, indent=4)"
   ]
  },
  {
   "cell_type": "code",
   "execution_count": 7,
   "metadata": {},
   "outputs": [],
   "source": [
    "sort('/opt/ml/segmentation/input/data/train_v1.json')\n",
    "sort('/opt/ml/segmentation/input/data/valid_v1.json')"
   ]
  },
  {
   "cell_type": "code",
   "execution_count": null,
   "metadata": {},
   "outputs": [],
   "source": []
  }
 ],
 "metadata": {
  "interpreter": {
   "hash": "d36e052b391be8c28b05838ade06426769a29575d5fe21a7bc69c7dec0c04c06"
  },
  "kernelspec": {
   "display_name": "Python 3.7.11 64-bit ('segmentation': conda)",
   "name": "python3"
  },
  "language_info": {
   "codemirror_mode": {
    "name": "ipython",
    "version": 3
   },
   "file_extension": ".py",
   "mimetype": "text/x-python",
   "name": "python",
   "nbconvert_exporter": "python",
   "pygments_lexer": "ipython3",
   "version": "3.7.11"
  },
  "orig_nbformat": 4
 },
 "nbformat": 4,
 "nbformat_minor": 2
}

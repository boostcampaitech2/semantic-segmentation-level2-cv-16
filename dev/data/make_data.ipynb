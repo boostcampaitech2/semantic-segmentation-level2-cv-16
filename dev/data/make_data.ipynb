{
 "cells": [
  {
   "cell_type": "code",
   "execution_count": 1,
   "id": "44ffe84c-7328-4835-890d-f225e750a840",
   "metadata": {},
   "outputs": [],
   "source": [
    "import os\n",
    "import json\n",
    "import shutil\n",
    "\n",
    "DATAROOT = \"./\"\n",
    "TRAINJSON = os.path.join(DATAROOT,\"train.json\")\n",
    "VALIDJSON = os.path.join(DATAROOT,\"val.json\")\n",
    "TESTJSON = os.path.join(DATAROOT,\"test.json\")\n",
    "\n",
    "'''\n",
    "Redistribution image by train/valid/test \n",
    "\n",
    "rename img by img_id\n",
    "'''\n",
    "def _rename_images(json_dir, image_dir):\n",
    "\twith open(json_dir, \"r\", encoding=\"utf8\") as outfile:\n",
    "\t\tjson_data = json.load(outfile)\n",
    "\timage_datas = json_data[\"images\"]\n",
    "\n",
    "\tfor image_data in image_datas:\n",
    "\n",
    "\t\tshutil.copyfile(os.path.join(image_data['file_name']), os.path.join(image_dir,f\"{image_data['id']:04}.jpg\"))\n",
    "\n",
    "'''\n",
    "Wrap func\n",
    "'''\n",
    "def make(json,path):\n",
    "\timagePath = '../images/'+path\n",
    "\n",
    "\tos.makedirs(imagePath, exist_ok=True)\n",
    "\t_rename_images(json,imagePath)\n",
    "\n",
    "\n",
    "'''\n",
    "Main\n",
    "'''\n",
    "def __main__():\n",
    "\n",
    "\tmake(TRAINJSON, 'training')\n",
    "\tmake(VALIDJSON, 'validation')\n",
    "\tmake(TESTJSON, 'test')\n",
    "\n",
    "\n",
    "if __name__=='__main__':\n",
    "\t__main__()\n"
   ]
  },
  {
   "cell_type": "code",
   "execution_count": null,
   "id": "1d504bd9-a636-4968-b265-b0a2207c09e6",
   "metadata": {},
   "outputs": [],
   "source": []
  }
 ],
 "metadata": {
  "kernelspec": {
   "display_name": "segmentation",
   "language": "python",
   "name": "segmentation"
  },
  "language_info": {
   "codemirror_mode": {
    "name": "ipython",
    "version": 3
   },
   "file_extension": ".py",
   "mimetype": "text/x-python",
   "name": "python",
   "nbconvert_exporter": "python",
   "pygments_lexer": "ipython3",
   "version": "3.7.11"
  }
 },
 "nbformat": 4,
 "nbformat_minor": 5
}

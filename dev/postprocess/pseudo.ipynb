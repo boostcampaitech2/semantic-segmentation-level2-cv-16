{
 "cells": [
  {
   "cell_type": "code",
   "execution_count": 1,
   "metadata": {},
   "outputs": [],
   "source": [
    "import pandas as pd\n",
    "import numpy as np\n",
    "import cv2\n",
    "import shutil\n",
    "from glob import glob\n",
    "import os\n",
    "import matplotlib.pyplot as plt\n",
    "from PIL import Image\n"
   ]
  },
  {
   "cell_type": "code",
   "execution_count": 2,
   "metadata": {},
   "outputs": [],
   "source": [
    "### 설정해주세요 ###\n",
    "\n",
    "# 테스트셋의 정답으로 삼을 csv 파일\n",
    "df = pd.read_csv('/opt/ml/segmentation/semantic-segmentation-level2-cv-16/dev/model_develop/mmsegmentation/work_dirs/10-2/10-2_TTA_28000it_crf.csv')\n",
    "data_root = '/opt/ml/segmentation/input/data' # 이 아래에 batch_01, batch_02, batch_03 폴더가 있어야 합니다\n",
    "\n",
    "# 원래 있던 training 폴더를 복제해서 training_pseudo 폴더로 만들어주셔야 합니다\n",
    "# image, annotation 모두!\n",
    "image_path = os.path.join(*(data_root, 'mmseg', 'images_v1', 'training_pseudo'))\n",
    "ann_pth = os.path.join(*(data_root, 'mmseg', 'annotations_v1', 'training_pseudo'))\n",
    "\n",
    "annotations = sorted(glob(os.path.join(image_path, '*')), reverse=True)\n",
    "images = sorted(glob(os.path.join(ann_pth, '*')), reverse=True)\n",
    "\n",
    "last_id_from_images = int(images[0].split('.')[0].split('/')[-1])\n",
    "last_id_from_annotations = int(annotations[0].split('.')[0].split('/')[-1])\n",
    "\n",
    "assert last_id_from_images == last_id_from_annotations\n",
    "id_start = last_id_from_images + 1\n",
    "\n"
   ]
  },
  {
   "cell_type": "code",
   "execution_count": 60,
   "metadata": {},
   "outputs": [],
   "source": [
    "for i in range(len(df)):\n",
    "    cur = df.iloc[i, :]\n",
    "    old_path = os.path.join(data_root, cur['image_id'])\n",
    "    new_path = os.path.join(image_path, str(id_start + i).zfill(4) + '.jpg')\n",
    "    shutil.copyfile(old_path, new_path)\n",
    "    \n",
    "    arr = np.array(cur['PredictionString'].split()).reshape(256, 256)\n",
    "    mask = Image.fromarray(np.uint8(arr)).convert('RGB')\n",
    "    mask = mask.resize((512, 512), Image.LANCZOS)\n",
    "    new_ann_path = os.path.join(ann_pth, str(id_start + i).zfill(4) + '.png')\n",
    "    mask.save(new_ann_path)"
   ]
  }
 ],
 "metadata": {
  "interpreter": {
   "hash": "d36e052b391be8c28b05838ade06426769a29575d5fe21a7bc69c7dec0c04c06"
  },
  "kernelspec": {
   "display_name": "Python 3.7.11 64-bit ('segmentation': conda)",
   "name": "python3"
  },
  "language_info": {
   "codemirror_mode": {
    "name": "ipython",
    "version": 3
   },
   "file_extension": ".py",
   "mimetype": "text/x-python",
   "name": "python",
   "nbconvert_exporter": "python",
   "pygments_lexer": "ipython3",
   "version": "3.7.11"
  },
  "orig_nbformat": 4
 },
 "nbformat": 4,
 "nbformat_minor": 2
}

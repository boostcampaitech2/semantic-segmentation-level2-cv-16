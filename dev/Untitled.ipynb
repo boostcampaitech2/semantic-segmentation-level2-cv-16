{
 "cells": [
  {
   "cell_type": "code",
   "execution_count": 10,
   "id": "cab84e3d-e08c-427c-868a-451517a47c1c",
   "metadata": {},
   "outputs": [],
   "source": [
    "import torch\n",
    "import torch.nn as nn\n",
    "from crfseg import CRF"
   ]
  },
  {
   "cell_type": "code",
   "execution_count": 12,
   "id": "b464ab07-2c42-4bc0-a8da-71b888eb2d67",
   "metadata": {},
   "outputs": [],
   "source": [
    "crf = CRF(n_spatial_dims=2)"
   ]
  },
  {
   "cell_type": "code",
   "execution_count": 13,
   "id": "786d5b1c-502d-4930-be64-9a65ee45201e",
   "metadata": {},
   "outputs": [
    {
     "name": "stdout",
     "output_type": "stream",
     "text": [
      "CRF()\n"
     ]
    }
   ],
   "source": [
    "print(crf)"
   ]
  },
  {
   "cell_type": "code",
   "execution_count": 14,
   "id": "f6dde2f4-ecd6-4367-a6c1-566da3380bd3",
   "metadata": {},
   "outputs": [
    {
     "name": "stdout",
     "output_type": "stream",
     "text": [
      "<class 'crfseg.model.CRF'>\n"
     ]
    }
   ],
   "source": [
    "print(type(crf))"
   ]
  },
  {
   "cell_type": "code",
   "execution_count": 16,
   "id": "f476f876-5569-4442-b58a-d644a706fc2d",
   "metadata": {},
   "outputs": [
    {
     "name": "stdout",
     "output_type": "stream",
     "text": [
      "smoothness_weight Parameter containing:\n",
      "tensor(1., requires_grad=True)\n",
      "inv_smoothness_theta Parameter containing:\n",
      "tensor([1., 1.], requires_grad=True)\n"
     ]
    }
   ],
   "source": [
    "for n, p in crf.named_parameters():\n",
    "    print(n, p)"
   ]
  },
  {
   "cell_type": "code",
   "execution_count": null,
   "id": "c11a8637-9143-4916-99bc-781d03cb7851",
   "metadata": {},
   "outputs": [],
   "source": []
  }
 ],
 "metadata": {
  "kernelspec": {
   "display_name": "CRF",
   "language": "python",
   "name": "crf"
  },
  "language_info": {
   "codemirror_mode": {
    "name": "ipython",
    "version": 3
   },
   "file_extension": ".py",
   "mimetype": "text/x-python",
   "name": "python",
   "nbconvert_exporter": "python",
   "pygments_lexer": "ipython3",
   "version": "3.8.5"
  }
 },
 "nbformat": 4,
 "nbformat_minor": 5
}

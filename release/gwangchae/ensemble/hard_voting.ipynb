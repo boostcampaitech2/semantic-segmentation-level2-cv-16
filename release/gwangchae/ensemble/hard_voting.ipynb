{
 "cells": [
  {
   "cell_type": "code",
   "execution_count": 1,
   "id": "169f0ca9-8ebb-44a4-b98c-194b3cb02746",
   "metadata": {},
   "outputs": [],
   "source": [
    "import pandas as pd\n",
    "import numpy as np\n",
    "from tqdm import tqdm\n",
    "\n",
    "df_776 = pd.read_csv('./output_776(44_upernet_beit).csv')\n",
    "df_772 = pd.read_csv('./output_772(51_52000_insanetta).csv')\n",
    "df_737 = pd.read_csv('./output_737(57).csv')"
   ]
  },
  {
   "cell_type": "code",
   "execution_count": 2,
   "id": "7e5557a4-80ee-4bd7-8f90-6151cb486972",
   "metadata": {},
   "outputs": [],
   "source": [
    "submission = pd.DataFrame()\n",
    "submission['image_id'] = df_776['image_id']"
   ]
  },
  {
   "cell_type": "code",
   "execution_count": 4,
   "id": "d99a693e-2262-4180-ac15-a6a8eb4066d3",
   "metadata": {},
   "outputs": [
    {
     "name": "stderr",
     "output_type": "stream",
     "text": [
      "100%|██████████| 819/819 [06:08<00:00,  2.23it/s]\n"
     ]
    }
   ],
   "source": [
    "PredictionString = []\n",
    "\n",
    "for idx in tqdm(range(len(df_776))):\n",
    "    aa = df_776['PredictionString'][idx].split(' ')\n",
    "    bb = df_772['PredictionString'][idx].split(' ')\n",
    "    cc = df_737['PredictionString'][idx].split(' ')\n",
    "    dd = df_721['PredictionString'][idx].split(' ')\n",
    "    ee = df_686['PredictionString'][idx].split(' ')\n",
    "    \n",
    "    result = ''\n",
    "\n",
    "    for i in range(len(aa)):\n",
    "        pixel_dict = {'0' : 0, '1' : 0, '2' : 0, \n",
    "                      '3' : 0, '4' : 0, '5' : 0,\n",
    "                      '6' : 0, '7' : 0, '8' : 0,\n",
    "                      '9' : 0, '10' : 0}\n",
    "\n",
    "        best_model = aa[i]\n",
    "        second_model = bb[i]\n",
    "        third_model = cc[i]\n",
    "        \n",
    "        pixel_dict[aa[i]] += 1\n",
    "        pixel_dict[bb[i]] += 1\n",
    "        pixel_dict[cc[i]] += 1\n",
    "        pixel_dict[dd[i]] += 1\n",
    "        pixel_dict[ee[i]] += 1\n",
    "\n",
    "        # 최댓값을 갖는 키값 추출\n",
    "        pixel = [key for key, value in pixel_dict.items() if value == max(pixel_dict.values())]\n",
    "        \n",
    "        # ensemble 모델이 ~4개\n",
    "        # 만약 최댓값을 갖는 키가 2개 이상(같은 표를 가진 경우)이고,\n",
    "        # best_model이 영향력을 행사했다면\n",
    "        if len(pixel) >= 2 and best_model in pixel:\n",
    "            result += best_model + ' '\n",
    "        \n",
    "        # ensemble 모델이 5개~6개\n",
    "        # 만약 최댓값을 갖는 키가 2개 이상(같은 표를 가진 경우)이고,\n",
    "        # best_model이 outsider, second_model이 영향력을 행사했다면\n",
    "        elif len(pixel) >= 2 and second_model in pixel:\n",
    "            result += second_model + ' '\n",
    "            \n",
    "        # 만약 1개라면 해당 키 반환\n",
    "        else:\n",
    "            result += pixel[0] + ' '\n",
    "\n",
    "    # 마지막 공백 제거\n",
    "    result = result[:-1]\n",
    "    PredictionString.append(result)"
   ]
  },
  {
   "cell_type": "code",
   "execution_count": 5,
   "id": "278295b6-d37d-410d-8da1-8453e39b2d8c",
   "metadata": {},
   "outputs": [],
   "source": [
    "submission['PredictionString'] = PredictionString"
   ]
  },
  {
   "cell_type": "code",
   "execution_count": 6,
   "id": "babc868a-519c-4b3a-903d-d10fc08f9b13",
   "metadata": {},
   "outputs": [],
   "source": [
    "submission.to_csv('./hard_voting_5models.csv', index=False)"
   ]
  }
 ],
 "metadata": {
  "kernelspec": {
   "display_name": "segmentation",
   "language": "python",
   "name": "segmentation"
  },
  "language_info": {
   "codemirror_mode": {
    "name": "ipython",
    "version": 3
   },
   "file_extension": ".py",
   "mimetype": "text/x-python",
   "name": "python",
   "nbconvert_exporter": "python",
   "pygments_lexer": "ipython3",
   "version": "3.7.11"
  }
 },
 "nbformat": 4,
 "nbformat_minor": 5
}

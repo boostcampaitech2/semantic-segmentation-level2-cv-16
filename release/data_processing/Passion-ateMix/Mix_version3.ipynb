{
 "cells": [
  {
   "cell_type": "code",
   "execution_count": 3,
   "id": "bc459e14-1767-48d0-8e94-c5a1c34238fc",
   "metadata": {},
   "outputs": [
    {
     "name": "stdout",
     "output_type": "stream",
     "text": [
      "loading annotations into memory...\n",
      "Done (t=3.12s)\n",
      "creating index...\n",
      "index created!\n"
     ]
    }
   ],
   "source": [
    "import pandas as pd\n",
    "import json\n",
    "import matplotlib.pyplot as plt\n",
    "import cv2\n",
    "import numpy as np\n",
    "import os\n",
    "import random\n",
    "from tqdm import tqdm\n",
    "from pycocotools.coco import COCO\n",
    "from pycocotools import mask\n",
    "from PassionateMix_v2 import *\n",
    "import matplotlib.pyplot as plt\n",
    "import seaborn as sns; sns.set()\n",
    "from matplotlib.patches import Patch\n",
    "import webcolors\n",
    "# 저장 경로\n",
    "save_dir = '/opt/ml/segmentation/input/data/augmented/'\n",
    "file_name_dir = 'augmented/'\n",
    "\n",
    "# 데이터셋 경로\n",
    "dataset_path  = '/opt/ml/segmentation/input/data/'\n",
    "\n",
    "# 증강 파일\n",
    "json_path = dataset_path + 'mix_9+341_10+264.json'\n",
    "coco = COCO(json_path)"
   ]
  },
  {
   "cell_type": "code",
   "execution_count": 4,
   "id": "f1bf1497-3d08-4b39-9930-4c711ea04ada",
   "metadata": {},
   "outputs": [],
   "source": [
    "# 증강시킬 json 파일 읽기\n",
    "with open(json_path, 'r') as f:\n",
    "    json_data = json.load(f)\n",
    "\n",
    "\n",
    "# 카테고리 이름 설정\n",
    "df = pd.read_csv('/opt/ml/segmentation/baseline_code/class_dict.csv')\n",
    "category_names = list(df.name)\n",
    "\n",
    "# 증강시킬 mask_class 번호 지정\n",
    "mask_class = 3"
   ]
  },
  {
   "cell_type": "code",
   "execution_count": 5,
   "id": "430dbe1d-196f-4db3-a6a9-ae3fea0faecd",
   "metadata": {},
   "outputs": [
    {
     "name": "stderr",
     "output_type": "stream",
     "text": [
      "100%|██████████| 2625/2625 [00:00<00:00, 59049.67it/s]\n"
     ]
    }
   ],
   "source": [
    "# 원하는 mask_class가 들어있는 images의 인덱스들 추출\n",
    "foreground_images = []\n",
    "\n",
    "for idx in tqdm(range(len(json_data['images']))):\n",
    "    image_id = coco.getImgIds(imgIds=idx)\n",
    "    image_infos = coco.loadImgs(image_id)[0]\n",
    "    \n",
    "    ann_ids = coco.getAnnIds(imgIds=image_infos['id'])\n",
    "    anns = coco.loadAnns(ann_ids)\n",
    "    anns = sorted(anns, key=lambda idx : idx['area'], reverse=True)\n",
    "    \n",
    "    category_type = []\n",
    "    for i in range(len(anns)):\n",
    "        category_id = anns[i]['category_id']\n",
    "        if category_id == mask_class:\n",
    "            foreground_images.append(idx)\n",
    "            break"
   ]
  },
  {
   "cell_type": "code",
   "execution_count": 6,
   "id": "a933fa2e-28a2-494e-add3-090946d8cba0",
   "metadata": {},
   "outputs": [
    {
     "data": {
      "text/plain": [
       "335"
      ]
     },
     "execution_count": 6,
     "metadata": {},
     "output_type": "execute_result"
    }
   ],
   "source": [
    "# json data 파일의 마지막 images id 추출\n",
    "last_images_id = json_data['images'][-1]['id']\n",
    "\n",
    "# mask_class가 없는 이미지에 증강시킬 목적으로 \n",
    "# mask_class가 없는 이미지들의 인덱스 background_images 선언\n",
    "background_images = range(last_images_id)\n",
    "background_images = [x for x in background_images if x not in foreground_images]\n",
    "len(foreground_images)"
   ]
  },
  {
   "cell_type": "code",
   "execution_count": 8,
   "metadata": {},
   "outputs": [
    {
     "name": "stdout",
     "output_type": "stream",
     "text": [
      "Number of super categories: 10\n",
      "Number of categories: 10\n",
      "Number of annotations: 21857\n",
      "Number of images: 2625\n"
     ]
    },
    {
     "name": "stderr",
     "output_type": "stream",
     "text": [
      "/opt/conda/envs/segmentation/lib/python3.7/site-packages/ipykernel_launcher.py:45: FutureWarning: In a future version of pandas all arguments of DataFrame.sort_values except for the argument 'by' will be keyword-only\n"
     ]
    },
    {
     "data": {
      "image/png": "[encoded data removed]",
      "text/plain": [
       "<Figure size 360x360 with 1 Axes>"
      ]
     },
     "metadata": {},
     "output_type": "display_data"
    }
   ],
   "source": [
    "\n",
    "\n",
    "\n",
    "\n",
    "categories = json_data['categories']\n",
    "anns = json_data['annotations']\n",
    "imgs = json_data['images']\n",
    "nr_cats = len(categories)\n",
    "nr_annotations = len(anns)\n",
    "nr_images = len(imgs)\n",
    "\n",
    "# Load categories and super categories\n",
    "cat_names = []\n",
    "super_cat_names = []\n",
    "super_cat_ids = {}\n",
    "super_cat_last_name = ''\n",
    "nr_super_cats = 0\n",
    "for cat_it in categories:\n",
    "    cat_names.append(cat_it['name'])\n",
    "    super_cat_name = cat_it['supercategory']\n",
    "    # Adding new supercat\n",
    "    if super_cat_name != super_cat_last_name:\n",
    "        super_cat_names.append(super_cat_name)\n",
    "        super_cat_ids[super_cat_name] = nr_super_cats\n",
    "        super_cat_last_name = super_cat_name\n",
    "        nr_super_cats += 1\n",
    "\n",
    "print('Number of super categories:', nr_super_cats)\n",
    "print('Number of categories:', nr_cats)\n",
    "print('Number of annotations:', nr_annotations)\n",
    "print('Number of images:', nr_images)\n",
    "# Count annotations\n",
    "cat_histogram = np.zeros(nr_cats,dtype=int)\n",
    "for ann in anns:\n",
    "    cat_histogram[ann['category_id']-1] += 1\n",
    "\n",
    "# Initialize the matplotlib figure\n",
    "f, ax = plt.subplots(figsize=(5,5))\n",
    "\n",
    "# Convert to DataFrame\n",
    "df = pd.DataFrame({'Categories': cat_names, 'Number of annotations': cat_histogram})\n",
    "df = df.sort_values('Number of annotations', 0, False)\n",
    "\n",
    "# Plot the histogram\n",
    "plt.title(\"category distribution of train_all set \")\n",
    "plot_1 = sns.barplot(x=\"Number of annotations\", y=\"Categories\", data=df, label=\"Total\", color=\"b\")\n",
    "# category labeling \n",
    "sorted_temp_df = df.sort_index()\n",
    "\n",
    "# background = 0 에 해당되는 label 추가 후 기존들을 모두 label + 1 로 설정\n",
    "sorted_df = pd.DataFrame([\"Backgroud\"], columns = [\"Categories\"])\n",
    "sorted_df = sorted_df.append(sorted_temp_df, ignore_index=True)"
   ]
  },
  {
   "cell_type": "code",
   "execution_count": 9,
   "metadata": {},
   "outputs": [
    {
     "name": "stderr",
     "output_type": "stream",
     "text": [
      "100%|██████████| 2625/2625 [00:00<00:00, 57603.52it/s]"
     ]
    },
    {
     "name": "stdout",
     "output_type": "stream",
     "text": [
      "{1: 2280, 2: 7481, 3: 535, 4: 458, 5: 512, 6: 2534, 7: 1127, 8: 6147, 9: 385, 10: 398}\n"
     ]
    },
    {
     "name": "stderr",
     "output_type": "stream",
     "text": [
      "\n"
     ]
    }
   ],
   "source": [
    "dic_cls = dict([(idx+1,0) for idx, val in enumerate(range(10))])\n",
    "for idx in tqdm(range(len(json_data['images']))):\n",
    "    image_id = coco.getImgIds(imgIds=idx)\n",
    "    image_infos = coco.loadImgs(image_id)[0]\n",
    "    ann_ids = coco.getAnnIds(imgIds=image_infos['id'])\n",
    "    anns = coco.loadAnns(ann_ids)\n",
    "    anns = sorted(anns, key=lambda idx : idx['area'], reverse=True)\n",
    "    for i in range(len(anns)):\n",
    "        dic_cls[anns[i]['category_id']] += 1\n",
    "print(dic_cls)"
   ]
  },
  {
   "cell_type": "code",
   "execution_count": 10,
   "metadata": {},
   "outputs": [
    {
     "data": {
      "text/plain": [
       "335"
      ]
     },
     "execution_count": 10,
     "metadata": {},
     "output_type": "execute_result"
    }
   ],
   "source": [
    "len(foreground_images)"
   ]
  },
  {
   "cell_type": "code",
   "execution_count": 11,
   "id": "55f71ff0-cddb-4493-b272-612ede60462e",
   "metadata": {},
   "outputs": [
    {
     "name": "stdout",
     "output_type": "stream",
     "text": [
      "335 335 335\n"
     ]
    }
   ],
   "source": [
    "# 증강시킬 개수 k\n",
    "random.seed(16)\n",
    "k = 335\n",
    "\n",
    "fg_image_idx = random.sample(foreground_images, k)\n",
    "bg_image_idx = random.sample(background_images, k)\n",
    "print(k, len(fg_image_idx), len(bg_image_idx))"
   ]
  },
  {
   "cell_type": "code",
   "execution_count": 12,
   "id": "d5be20d5-173e-495b-8249-e3a0abb08ae8",
   "metadata": {},
   "outputs": [
    {
     "name": "stderr",
     "output_type": "stream",
     "text": [
      "0it [00:00, ?it/s]"
     ]
    },
    {
     "name": "stdout",
     "output_type": "stream",
     "text": [
      "bg_image_infos: {'license': 0, 'url': None, 'file_name': 'batch_01_vt/1077.jpg', 'height': 512, 'width': 512, 'date_captured': None, 'id': 674}\n"
     ]
    },
    {
     "name": "stderr",
     "output_type": "stream",
     "text": [
      "1it [00:00,  1.44it/s]"
     ]
    },
    {
     "name": "stdout",
     "output_type": "stream",
     "text": [
      "bg_image_infos: {'license': 0, 'url': None, 'file_name': 'augmented/10_1686_augmented_9_1660_batch_01_vt_0002.jpg', 'height': 512, 'width': 512, 'date_captured': None, 'id': 0}\n"
     ]
    },
    {
     "name": "stderr",
     "output_type": "stream",
     "text": [
      "2it [00:01,  1.50it/s]"
     ]
    },
    {
     "name": "stdout",
     "output_type": "stream",
     "text": [
      "bg_image_infos: {'license': 0, 'url': None, 'file_name': 'batch_02_vt/0054.jpg', 'height': 512, 'width': 512, 'date_captured': None, 'id': 786}\n"
     ]
    },
    {
     "name": "stderr",
     "output_type": "stream",
     "text": [
      "3it [00:02,  1.45it/s]"
     ]
    },
    {
     "name": "stdout",
     "output_type": "stream",
     "text": [
      "bg_image_infos: {'license': 0, 'url': None, 'file_name': 'batch_02_vt/0249.jpg', 'height': 512, 'width': 512, 'date_captured': None, 'id': 906}\n"
     ]
    },
    {
     "name": "stderr",
     "output_type": "stream",
     "text": [
      "4it [00:02,  1.43it/s]"
     ]
    },
    {
     "name": "stdout",
     "output_type": "stream",
     "text": [
      "bg_image_infos: {'license': 0, 'url': None, 'file_name': 'batch_02_vt/1003.jpg', 'height': 512, 'width': 512, 'date_captured': None, 'id': 1373}\n"
     ]
    },
    {
     "name": "stderr",
     "output_type": "stream",
     "text": [
      "5it [00:03,  1.48it/s]"
     ]
    },
    {
     "name": "stdout",
     "output_type": "stream",
     "text": [
      "bg_image_infos: {'license': 0, 'url': None, 'file_name': 'batch_02_vt/1885.jpg', 'height': 512, 'width': 512, 'date_captured': None, 'id': 1939}\n"
     ]
    },
    {
     "name": "stderr",
     "output_type": "stream",
     "text": [
      "6it [00:03,  1.54it/s]"
     ]
    },
    {
     "name": "stdout",
     "output_type": "stream",
     "text": [
      "bg_image_infos: {'license': 0, 'url': None, 'file_name': 'batch_01_vt/0203.jpg', 'height': 512, 'width': 512, 'date_captured': None, 'id': 125}\n"
     ]
    },
    {
     "name": "stderr",
     "output_type": "stream",
     "text": [
      "7it [00:04,  1.44it/s]"
     ]
    },
    {
     "name": "stdout",
     "output_type": "stream",
     "text": [
      "bg_image_infos: {'license': 0, 'url': None, 'file_name': 'batch_01_vt/0396.jpg', 'height': 512, 'width': 512, 'date_captured': None, 'id': 246}\n"
     ]
    },
    {
     "name": "stderr",
     "output_type": "stream",
     "text": [
      "8it [00:05,  1.43it/s]"
     ]
    },
    {
     "name": "stdout",
     "output_type": "stream",
     "text": [
      "bg_image_infos: {'license': 0, 'url': None, 'file_name': 'batch_01_vt/0863.jpg', 'height': 512, 'width': 512, 'date_captured': None, 'id': 546}\n"
     ]
    },
    {
     "name": "stderr",
     "output_type": "stream",
     "text": [
      "9it [00:06,  1.51it/s]"
     ]
    },
    {
     "name": "stdout",
     "output_type": "stream",
     "text": [
      "bg_image_infos: {'license': 0, 'url': None, 'file_name': 'batch_03/0680.jpg', 'height': 512, 'width': 512, 'date_captured': None, 'id': 2443}\n"
     ]
    },
    {
     "name": "stderr",
     "output_type": "stream",
     "text": [
      "10it [00:06,  1.39it/s]"
     ]
    },
    {
     "name": "stdout",
     "output_type": "stream",
     "text": [
      "bg_image_infos: {'license': 0, 'url': None, 'file_name': 'batch_03/0842.jpg', 'height': 512, 'width': 512, 'date_captured': None, 'id': 2528}\n"
     ]
    },
    {
     "name": "stderr",
     "output_type": "stream",
     "text": [
      "11it [00:07,  1.50it/s]"
     ]
    },
    {
     "name": "stdout",
     "output_type": "stream",
     "text": [
      "bg_image_infos: {'license': 0, 'url': None, 'file_name': 'augmented/10_1583_augmented_9_1357_batch_01_vt_0007.jpg', 'height': 512, 'width': 512, 'date_captured': None, 'id': 4}\n"
     ]
    },
    {
     "name": "stderr",
     "output_type": "stream",
     "text": [
      "12it [00:08,  1.58it/s]"
     ]
    },
    {
     "name": "stdout",
     "output_type": "stream",
     "text": [
      "bg_image_infos: {'license': 0, 'url': None, 'file_name': 'batch_01_vt/0930.jpg', 'height': 512, 'width': 512, 'date_captured': None, 'id': 588}\n"
     ]
    },
    {
     "name": "stderr",
     "output_type": "stream",
     "text": [
      "13it [00:08,  1.70it/s]"
     ]
    },
    {
     "name": "stdout",
     "output_type": "stream",
     "text": [
      "bg_image_infos: {'license': 0, 'url': None, 'file_name': 'batch_02_vt/1144.jpg', 'height': 512, 'width': 512, 'date_captured': None, 'id': 1460}\n"
     ]
    },
    {
     "name": "stderr",
     "output_type": "stream",
     "text": [
      "14it [00:09,  1.70it/s]"
     ]
    },
    {
     "name": "stdout",
     "output_type": "stream",
     "text": [
      "bg_image_infos: {'license': 0, 'url': None, 'file_name': 'batch_01_vt/0591.jpg', 'height': 512, 'width': 512, 'date_captured': None, 'id': 379}\n"
     ]
    },
    {
     "name": "stderr",
     "output_type": "stream",
     "text": [
      "15it [00:09,  1.67it/s]"
     ]
    },
    {
     "name": "stdout",
     "output_type": "stream",
     "text": [
      "bg_image_infos: {'license': 0, 'url': None, 'file_name': 'batch_03/0820.jpg', 'height': 512, 'width': 512, 'date_captured': None, 'id': 2515}\n"
     ]
    },
    {
     "name": "stderr",
     "output_type": "stream",
     "text": [
      "16it [00:10,  1.66it/s]"
     ]
    },
    {
     "name": "stdout",
     "output_type": "stream",
     "text": [
      "bg_image_infos: {'license': 0, 'url': None, 'file_name': 'augmented/10_1605_batch_02_vt_1052.jpg', 'height': 512, 'width': 512, 'date_captured': None, 'id': 1410}\n"
     ]
    },
    {
     "name": "stderr",
     "output_type": "stream",
     "text": [
      "17it [00:11,  1.56it/s]"
     ]
    },
    {
     "name": "stdout",
     "output_type": "stream",
     "text": [
      "bg_image_infos: {'license': 0, 'url': None, 'file_name': 'augmented/10_2118_batch_03_0153.jpg', 'height': 512, 'width': 512, 'date_captured': None, 'id': 2105}\n"
     ]
    },
    {
     "name": "stderr",
     "output_type": "stream",
     "text": [
      "18it [00:11,  1.58it/s]"
     ]
    },
    {
     "name": "stdout",
     "output_type": "stream",
     "text": [
      "bg_image_infos: {'license': 0, 'url': None, 'file_name': 'batch_01_vt/1106.jpg', 'height': 512, 'width': 512, 'date_captured': None, 'id': 688}\n"
     ]
    },
    {
     "name": "stderr",
     "output_type": "stream",
     "text": [
      "19it [00:12,  1.51it/s]"
     ]
    },
    {
     "name": "stdout",
     "output_type": "stream",
     "text": [
      "bg_image_infos: {'license': 0, 'url': None, 'file_name': 'augmented/10_399_batch_03_0004.jpg', 'height': 512, 'width': 512, 'date_captured': None, 'id': 2023}\n"
     ]
    },
    {
     "name": "stderr",
     "output_type": "stream",
     "text": [
      "20it [00:13,  1.50it/s]"
     ]
    },
    {
     "name": "stdout",
     "output_type": "stream",
     "text": [
      "bg_image_infos: {'license': 0, 'url': None, 'file_name': 'batch_02_vt/0910.jpg', 'height': 512, 'width': 512, 'date_captured': None, 'id': 1316}\n"
     ]
    },
    {
     "name": "stderr",
     "output_type": "stream",
     "text": [
      "21it [00:13,  1.55it/s]"
     ]
    },
    {
     "name": "stdout",
     "output_type": "stream",
     "text": [
      "bg_image_infos: {'license': 0, 'url': None, 'file_name': 'batch_02_vt/1860.jpg', 'height': 512, 'width': 512, 'date_captured': None, 'id': 1923}\n"
     ]
    },
    {
     "name": "stderr",
     "output_type": "stream",
     "text": [
      "22it [00:14,  1.49it/s]"
     ]
    },
    {
     "name": "stdout",
     "output_type": "stream",
     "text": [
      "bg_image_infos: {'license': 0, 'url': None, 'file_name': 'batch_03/0822.jpg', 'height': 512, 'width': 512, 'date_captured': None, 'id': 2516}\n"
     ]
    },
    {
     "name": "stderr",
     "output_type": "stream",
     "text": [
      "23it [00:15,  1.54it/s]"
     ]
    },
    {
     "name": "stdout",
     "output_type": "stream",
     "text": [
      "bg_image_infos: {'license': 0, 'url': None, 'file_name': 'batch_01_vt/0610.jpg', 'height': 512, 'width': 512, 'date_captured': None, 'id': 389}\n"
     ]
    },
    {
     "name": "stderr",
     "output_type": "stream",
     "text": [
      "24it [00:15,  1.55it/s]"
     ]
    },
    {
     "name": "stdout",
     "output_type": "stream",
     "text": [
      "bg_image_infos: {'license': 0, 'url': None, 'file_name': 'batch_01_vt/1119.jpg', 'height': 512, 'width': 512, 'date_captured': None, 'id': 695}\n"
     ]
    },
    {
     "name": "stderr",
     "output_type": "stream",
     "text": [
      "25it [00:16,  1.60it/s]"
     ]
    },
    {
     "name": "stdout",
     "output_type": "stream",
     "text": [
      "bg_image_infos: {'license': 0, 'url': None, 'file_name': 'batch_01_vt/0328.jpg', 'height': 512, 'width': 512, 'date_captured': None, 'id': 203}\n"
     ]
    },
    {
     "name": "stderr",
     "output_type": "stream",
     "text": [
      "26it [00:16,  1.61it/s]"
     ]
    },
    {
     "name": "stdout",
     "output_type": "stream",
     "text": [
      "bg_image_infos: {'license': 0, 'url': None, 'file_name': 'batch_02_vt/1027.jpg', 'height': 512, 'width': 512, 'date_captured': None, 'id': 1389}\n"
     ]
    },
    {
     "name": "stderr",
     "output_type": "stream",
     "text": [
      "27it [00:17,  1.65it/s]"
     ]
    },
    {
     "name": "stdout",
     "output_type": "stream",
     "text": [
      "bg_image_infos: {'license': 0, 'url': None, 'file_name': 'batch_02_vt/0743.jpg', 'height': 512, 'width': 512, 'date_captured': None, 'id': 1217}\n"
     ]
    },
    {
     "name": "stderr",
     "output_type": "stream",
     "text": [
      "28it [00:17,  1.70it/s]"
     ]
    },
    {
     "name": "stdout",
     "output_type": "stream",
     "text": [
      "bg_image_infos: {'license': 0, 'url': None, 'file_name': 'batch_02_vt/1055.jpg', 'height': 512, 'width': 512, 'date_captured': None, 'id': 1412}\n"
     ]
    },
    {
     "name": "stderr",
     "output_type": "stream",
     "text": [
      "29it [00:18,  1.55it/s]"
     ]
    },
    {
     "name": "stdout",
     "output_type": "stream",
     "text": [
      "bg_image_infos: {'license': 0, 'url': None, 'file_name': 'augmented/10_2609_batch_03_0138.jpg', 'height': 512, 'width': 512, 'date_captured': None, 'id': 2093}\n"
     ]
    },
    {
     "name": "stderr",
     "output_type": "stream",
     "text": [
      "30it [00:19,  1.48it/s]"
     ]
    },
    {
     "name": "stdout",
     "output_type": "stream",
     "text": [
      "bg_image_infos: {'license': 0, 'url': None, 'file_name': 'batch_02_vt/1161.jpg', 'height': 512, 'width': 512, 'date_captured': None, 'id': 1469}\n"
     ]
    },
    {
     "name": "stderr",
     "output_type": "stream",
     "text": [
      "31it [00:20,  1.53it/s]"
     ]
    },
    {
     "name": "stdout",
     "output_type": "stream",
     "text": [
      "bg_image_infos: {'license': 0, 'url': None, 'file_name': 'augmented/10_875_batch_01_vt_0557.jpg', 'height': 512, 'width': 512, 'date_captured': None, 'id': 354}\n"
     ]
    },
    {
     "name": "stderr",
     "output_type": "stream",
     "text": [
      "32it [00:20,  1.45it/s]"
     ]
    },
    {
     "name": "stdout",
     "output_type": "stream",
     "text": [
      "bg_image_infos: {'license': 0, 'url': None, 'file_name': 'batch_02_vt/0732.jpg', 'height': 512, 'width': 512, 'date_captured': None, 'id': 1208}\n"
     ]
    },
    {
     "name": "stderr",
     "output_type": "stream",
     "text": [
      "33it [00:21,  1.44it/s]"
     ]
    },
    {
     "name": "stdout",
     "output_type": "stream",
     "text": [
      "bg_image_infos: {'license': 0, 'url': None, 'file_name': 'batch_02_vt/1621.jpg', 'height': 512, 'width': 512, 'date_captured': None, 'id': 1780}\n"
     ]
    },
    {
     "name": "stderr",
     "output_type": "stream",
     "text": [
      "34it [00:22,  1.38it/s]"
     ]
    },
    {
     "name": "stdout",
     "output_type": "stream",
     "text": [
      "bg_image_infos: {'license': 0, 'url': None, 'file_name': 'batch_02_vt/1085.jpg', 'height': 512, 'width': 512, 'date_captured': None, 'id': 1431}\n"
     ]
    },
    {
     "name": "stderr",
     "output_type": "stream",
     "text": [
      "35it [00:22,  1.45it/s]"
     ]
    },
    {
     "name": "stdout",
     "output_type": "stream",
     "text": [
      "bg_image_infos: {'license': 0, 'url': None, 'file_name': 'augmented/10_2251_batch_03_0391.jpg', 'height': 512, 'width': 512, 'date_captured': None, 'id': 2257}\n"
     ]
    },
    {
     "name": "stderr",
     "output_type": "stream",
     "text": [
      "36it [00:23,  1.52it/s]"
     ]
    },
    {
     "name": "stdout",
     "output_type": "stream",
     "text": [
      "bg_image_infos: {'license': 0, 'url': None, 'file_name': 'batch_01_vt/0172.jpg', 'height': 512, 'width': 512, 'date_captured': None, 'id': 107}\n"
     ]
    },
    {
     "name": "stderr",
     "output_type": "stream",
     "text": [
      "37it [00:24,  1.56it/s]"
     ]
    },
    {
     "name": "stdout",
     "output_type": "stream",
     "text": [
      "bg_image_infos: {'license': 0, 'url': None, 'file_name': 'batch_01_vt/0919.jpg', 'height': 512, 'width': 512, 'date_captured': None, 'id': 582}\n"
     ]
    },
    {
     "name": "stderr",
     "output_type": "stream",
     "text": [
      "38it [00:24,  1.49it/s]"
     ]
    },
    {
     "name": "stdout",
     "output_type": "stream",
     "text": [
      "bg_image_infos: {'license': 0, 'url': None, 'file_name': 'batch_01_vt/0841.jpg', 'height': 512, 'width': 512, 'date_captured': None, 'id': 535}\n"
     ]
    },
    {
     "name": "stderr",
     "output_type": "stream",
     "text": [
      "39it [00:25,  1.53it/s]"
     ]
    },
    {
     "name": "stdout",
     "output_type": "stream",
     "text": [
      "bg_image_infos: {'license': 0, 'url': None, 'file_name': 'batch_02_vt/1312.jpg', 'height': 512, 'width': 512, 'date_captured': None, 'id': 1566}\n"
     ]
    },
    {
     "name": "stderr",
     "output_type": "stream",
     "text": [
      "40it [00:26,  1.58it/s]"
     ]
    },
    {
     "name": "stdout",
     "output_type": "stream",
     "text": [
      "bg_image_infos: {'license': 0, 'url': None, 'file_name': 'augmented/9_2526_batch_02_vt_1803.jpg', 'height': 512, 'width': 512, 'date_captured': None, 'id': 1890}\n"
     ]
    },
    {
     "name": "stderr",
     "output_type": "stream",
     "text": [
      "41it [00:26,  1.59it/s]"
     ]
    },
    {
     "name": "stdout",
     "output_type": "stream",
     "text": [
      "bg_image_infos: {'license': 0, 'url': None, 'file_name': 'batch_02_vt/0844.jpg', 'height': 512, 'width': 512, 'date_captured': None, 'id': 1273}\n"
     ]
    },
    {
     "name": "stderr",
     "output_type": "stream",
     "text": [
      "42it [00:27,  1.60it/s]"
     ]
    },
    {
     "name": "stdout",
     "output_type": "stream",
     "text": [
      "bg_image_infos: {'license': 0, 'url': None, 'file_name': 'batch_03/0179.jpg', 'height': 512, 'width': 512, 'date_captured': None, 'id': 2121}\n"
     ]
    },
    {
     "name": "stderr",
     "output_type": "stream",
     "text": [
      "43it [00:27,  1.60it/s]"
     ]
    },
    {
     "name": "stdout",
     "output_type": "stream",
     "text": [
      "bg_image_infos: {'license': 0, 'url': None, 'file_name': 'batch_02_vt/0962.jpg', 'height': 512, 'width': 512, 'date_captured': None, 'id': 1349}\n"
     ]
    },
    {
     "name": "stderr",
     "output_type": "stream",
     "text": [
      "44it [00:28,  1.63it/s]"
     ]
    },
    {
     "name": "stdout",
     "output_type": "stream",
     "text": [
      "bg_image_infos: {'license': 0, 'url': None, 'file_name': 'batch_02_vt/0442.jpg', 'height': 512, 'width': 512, 'date_captured': None, 'id': 1014}\n"
     ]
    },
    {
     "name": "stderr",
     "output_type": "stream",
     "text": [
      "45it [00:29,  1.52it/s]"
     ]
    },
    {
     "name": "stdout",
     "output_type": "stream",
     "text": [
      "bg_image_infos: {'license': 0, 'url': None, 'file_name': 'batch_02_vt/0835.jpg', 'height': 512, 'width': 512, 'date_captured': None, 'id': 1269}\n"
     ]
    },
    {
     "name": "stderr",
     "output_type": "stream",
     "text": [
      "46it [00:29,  1.55it/s]"
     ]
    },
    {
     "name": "stdout",
     "output_type": "stream",
     "text": [
      "bg_image_infos: {'license': 0, 'url': None, 'file_name': 'batch_01_vt/0118.jpg', 'height': 512, 'width': 512, 'date_captured': None, 'id': 69}\n"
     ]
    },
    {
     "name": "stderr",
     "output_type": "stream",
     "text": [
      "47it [00:30,  1.52it/s]"
     ]
    },
    {
     "name": "stdout",
     "output_type": "stream",
     "text": [
      "bg_image_infos: {'license': 0, 'url': None, 'file_name': 'batch_03/0369.jpg', 'height': 512, 'width': 512, 'date_captured': None, 'id': 2243}\n"
     ]
    },
    {
     "name": "stderr",
     "output_type": "stream",
     "text": [
      "48it [00:31,  1.50it/s]"
     ]
    },
    {
     "name": "stdout",
     "output_type": "stream",
     "text": [
      "bg_image_infos: {'license': 0, 'url': None, 'file_name': 'batch_01_vt/0027.jpg', 'height': 512, 'width': 512, 'date_captured': None, 'id': 18}\n"
     ]
    },
    {
     "name": "stderr",
     "output_type": "stream",
     "text": [
      "49it [00:31,  1.53it/s]"
     ]
    },
    {
     "name": "stdout",
     "output_type": "stream",
     "text": [
      "bg_image_infos: {'license': 0, 'url': None, 'file_name': 'batch_02_vt/0268.jpg', 'height': 512, 'width': 512, 'date_captured': None, 'id': 918}\n"
     ]
    },
    {
     "name": "stderr",
     "output_type": "stream",
     "text": [
      "50it [00:32,  1.56it/s]"
     ]
    },
    {
     "name": "stdout",
     "output_type": "stream",
     "text": [
      "bg_image_infos: {'license': 0, 'url': None, 'file_name': 'augmented/10_740_batch_02_vt_1931.jpg', 'height': 512, 'width': 512, 'date_captured': None, 'id': 1970}\n"
     ]
    },
    {
     "name": "stderr",
     "output_type": "stream",
     "text": [
      "51it [00:33,  1.59it/s]"
     ]
    },
    {
     "name": "stdout",
     "output_type": "stream",
     "text": [
      "bg_image_infos: {'license': 0, 'url': None, 'file_name': 'batch_01_vt/1193.jpg', 'height': 512, 'width': 512, 'date_captured': None, 'id': 731}\n"
     ]
    },
    {
     "name": "stderr",
     "output_type": "stream",
     "text": [
      "52it [00:33,  1.62it/s]"
     ]
    },
    {
     "name": "stdout",
     "output_type": "stream",
     "text": [
      "bg_image_infos: {'license': 0, 'url': None, 'file_name': 'batch_02_vt/0477.jpg', 'height': 512, 'width': 512, 'date_captured': None, 'id': 1037}\n"
     ]
    },
    {
     "name": "stderr",
     "output_type": "stream",
     "text": [
      "53it [00:34,  1.63it/s]"
     ]
    },
    {
     "name": "stdout",
     "output_type": "stream",
     "text": [
      "bg_image_infos: {'license': 0, 'url': None, 'file_name': 'batch_02_vt/1321.jpg', 'height': 512, 'width': 512, 'date_captured': None, 'id': 1572}\n"
     ]
    },
    {
     "name": "stderr",
     "output_type": "stream",
     "text": [
      "54it [00:35,  1.57it/s]"
     ]
    },
    {
     "name": "stdout",
     "output_type": "stream",
     "text": [
      "bg_image_infos: {'license': 0, 'url': None, 'file_name': 'batch_02_vt/1862.jpg', 'height': 512, 'width': 512, 'date_captured': None, 'id': 1924}\n"
     ]
    },
    {
     "name": "stderr",
     "output_type": "stream",
     "text": [
      "55it [00:35,  1.63it/s]"
     ]
    },
    {
     "name": "stdout",
     "output_type": "stream",
     "text": [
      "bg_image_infos: {'license': 0, 'url': None, 'file_name': 'batch_01_vt/0792.jpg', 'height': 512, 'width': 512, 'date_captured': None, 'id': 504}\n"
     ]
    },
    {
     "name": "stderr",
     "output_type": "stream",
     "text": [
      "56it [00:36,  1.63it/s]"
     ]
    },
    {
     "name": "stdout",
     "output_type": "stream",
     "text": [
      "bg_image_infos: {'license': 0, 'url': None, 'file_name': 'augmented/10_94_batch_02_vt_0783.jpg', 'height': 512, 'width': 512, 'date_captured': None, 'id': 1242}\n"
     ]
    },
    {
     "name": "stderr",
     "output_type": "stream",
     "text": [
      "57it [00:36,  1.59it/s]"
     ]
    },
    {
     "name": "stdout",
     "output_type": "stream",
     "text": [
      "bg_image_infos: {'license': 0, 'url': None, 'file_name': 'batch_01_vt/0088.jpg', 'height': 512, 'width': 512, 'date_captured': None, 'id': 53}\n"
     ]
    },
    {
     "name": "stderr",
     "output_type": "stream",
     "text": [
      "58it [00:37,  1.61it/s]"
     ]
    },
    {
     "name": "stdout",
     "output_type": "stream",
     "text": [
      "bg_image_infos: {'license': 0, 'url': None, 'file_name': 'batch_02_vt/1171.jpg', 'height': 512, 'width': 512, 'date_captured': None, 'id': 1475}\n"
     ]
    },
    {
     "name": "stderr",
     "output_type": "stream",
     "text": [
      "59it [00:38,  1.63it/s]"
     ]
    },
    {
     "name": "stdout",
     "output_type": "stream",
     "text": [
      "bg_image_infos: {'license': 0, 'url': None, 'file_name': 'batch_02_vt/0070.jpg', 'height': 512, 'width': 512, 'date_captured': None, 'id': 797}\n"
     ]
    },
    {
     "name": "stderr",
     "output_type": "stream",
     "text": [
      "60it [00:38,  1.64it/s]"
     ]
    },
    {
     "name": "stdout",
     "output_type": "stream",
     "text": [
      "bg_image_infos: {'license': 0, 'url': None, 'file_name': 'augmented/10_184_augmented_9_128_batch_02_vt_1591.jpg', 'height': 512, 'width': 512, 'date_captured': None, 'id': 1759}\n"
     ]
    },
    {
     "name": "stderr",
     "output_type": "stream",
     "text": [
      "61it [00:39,  1.67it/s]"
     ]
    },
    {
     "name": "stdout",
     "output_type": "stream",
     "text": [
      "bg_image_infos: {'license': 0, 'url': None, 'file_name': 'batch_02_vt/1927.jpg', 'height': 512, 'width': 512, 'date_captured': None, 'id': 1967}\n"
     ]
    },
    {
     "name": "stderr",
     "output_type": "stream",
     "text": [
      "62it [00:39,  1.68it/s]"
     ]
    },
    {
     "name": "stdout",
     "output_type": "stream",
     "text": [
      "bg_image_infos: {'license': 0, 'url': None, 'file_name': 'batch_02_vt/0967.jpg', 'height': 512, 'width': 512, 'date_captured': None, 'id': 1353}\n"
     ]
    },
    {
     "name": "stderr",
     "output_type": "stream",
     "text": [
      "63it [00:40,  1.59it/s]"
     ]
    },
    {
     "name": "stdout",
     "output_type": "stream",
     "text": [
      "bg_image_infos: {'license': 0, 'url': None, 'file_name': 'batch_02_vt/1527.jpg', 'height': 512, 'width': 512, 'date_captured': None, 'id': 1716}\n"
     ]
    },
    {
     "name": "stderr",
     "output_type": "stream",
     "text": [
      "64it [00:41,  1.61it/s]"
     ]
    },
    {
     "name": "stdout",
     "output_type": "stream",
     "text": [
      "bg_image_infos: {'license': 0, 'url': None, 'file_name': 'batch_02_vt/0407.jpg', 'height': 512, 'width': 512, 'date_captured': None, 'id': 996}\n"
     ]
    },
    {
     "name": "stderr",
     "output_type": "stream",
     "text": [
      "65it [00:41,  1.62it/s]"
     ]
    },
    {
     "name": "stdout",
     "output_type": "stream",
     "text": [
      "bg_image_infos: {'license': 0, 'url': None, 'file_name': 'augmented/10_2566_augmented_9_2588_batch_01_vt_1214.jpg', 'height': 512, 'width': 512, 'date_captured': None, 'id': 740}\n"
     ]
    },
    {
     "name": "stderr",
     "output_type": "stream",
     "text": [
      "66it [00:42,  1.51it/s]"
     ]
    },
    {
     "name": "stdout",
     "output_type": "stream",
     "text": [
      "bg_image_infos: {'license': 0, 'url': None, 'file_name': 'batch_02_vt/0302.jpg', 'height': 512, 'width': 512, 'date_captured': None, 'id': 939}\n"
     ]
    },
    {
     "name": "stderr",
     "output_type": "stream",
     "text": [
      "67it [00:43,  1.60it/s]"
     ]
    },
    {
     "name": "stdout",
     "output_type": "stream",
     "text": [
      "bg_image_infos: {'license': 0, 'url': None, 'file_name': 'batch_03/0730.jpg', 'height': 512, 'width': 512, 'date_captured': None, 'id': 2468}\n"
     ]
    },
    {
     "name": "stderr",
     "output_type": "stream",
     "text": [
      "68it [00:43,  1.51it/s]"
     ]
    },
    {
     "name": "stdout",
     "output_type": "stream",
     "text": [
      "bg_image_infos: {'license': 0, 'url': None, 'file_name': 'batch_01_vt/0304.jpg', 'height': 512, 'width': 512, 'date_captured': None, 'id': 187}\n"
     ]
    },
    {
     "name": "stderr",
     "output_type": "stream",
     "text": [
      "69it [00:44,  1.50it/s]"
     ]
    },
    {
     "name": "stdout",
     "output_type": "stream",
     "text": [
      "bg_image_infos: {'license': 0, 'url': None, 'file_name': 'batch_03/0810.jpg', 'height': 512, 'width': 512, 'date_captured': None, 'id': 2508}\n"
     ]
    },
    {
     "name": "stderr",
     "output_type": "stream",
     "text": [
      "70it [00:44,  1.60it/s]"
     ]
    },
    {
     "name": "stdout",
     "output_type": "stream",
     "text": [
      "bg_image_infos: {'license': 0, 'url': None, 'file_name': 'batch_01_vt/0618.jpg', 'height': 512, 'width': 512, 'date_captured': None, 'id': 395}\n"
     ]
    },
    {
     "name": "stderr",
     "output_type": "stream",
     "text": [
      "71it [00:45,  1.63it/s]"
     ]
    },
    {
     "name": "stdout",
     "output_type": "stream",
     "text": [
      "bg_image_infos: {'license': 0, 'url': None, 'file_name': 'batch_02_vt/0880.jpg', 'height': 512, 'width': 512, 'date_captured': None, 'id': 1297}\n"
     ]
    },
    {
     "name": "stderr",
     "output_type": "stream",
     "text": [
      "72it [00:46,  1.63it/s]"
     ]
    },
    {
     "name": "stdout",
     "output_type": "stream",
     "text": [
      "bg_image_infos: {'license': 0, 'url': None, 'file_name': 'batch_01_vt/0003.jpg', 'height': 512, 'width': 512, 'date_captured': None, 'id': 1}\n"
     ]
    },
    {
     "name": "stderr",
     "output_type": "stream",
     "text": [
      "73it [00:46,  1.64it/s]"
     ]
    },
    {
     "name": "stdout",
     "output_type": "stream",
     "text": [
      "bg_image_infos: {'license': 0, 'url': None, 'file_name': 'augmented/10_2498_augmented_9_1378_batch_01_vt_0153.jpg', 'height': 512, 'width': 512, 'date_captured': None, 'id': 97}\n"
     ]
    },
    {
     "name": "stderr",
     "output_type": "stream",
     "text": [
      "74it [00:47,  1.50it/s]"
     ]
    },
    {
     "name": "stdout",
     "output_type": "stream",
     "text": [
      "bg_image_infos: {'license': 0, 'url': None, 'file_name': 'batch_03/0950.jpg', 'height': 512, 'width': 512, 'date_captured': None, 'id': 2589}\n"
     ]
    },
    {
     "name": "stderr",
     "output_type": "stream",
     "text": [
      "75it [00:48,  1.43it/s]"
     ]
    },
    {
     "name": "stdout",
     "output_type": "stream",
     "text": [
      "bg_image_infos: {'license': 0, 'url': None, 'file_name': 'augmented/10_2525_batch_01_vt_0718.jpg', 'height': 512, 'width': 512, 'date_captured': None, 'id': 463}\n"
     ]
    },
    {
     "name": "stderr",
     "output_type": "stream",
     "text": [
      "76it [00:48,  1.51it/s]"
     ]
    },
    {
     "name": "stdout",
     "output_type": "stream",
     "text": [
      "bg_image_infos: {'license': 0, 'url': None, 'file_name': 'batch_02_vt/0802.jpg', 'height': 512, 'width': 512, 'date_captured': None, 'id': 1252}\n"
     ]
    },
    {
     "name": "stderr",
     "output_type": "stream",
     "text": [
      "77it [00:49,  1.56it/s]"
     ]
    },
    {
     "name": "stdout",
     "output_type": "stream",
     "text": [
      "bg_image_infos: {'license': 0, 'url': None, 'file_name': 'batch_02_vt/0252.jpg', 'height': 512, 'width': 512, 'date_captured': None, 'id': 907}\n"
     ]
    },
    {
     "name": "stderr",
     "output_type": "stream",
     "text": [
      "78it [00:50,  1.63it/s]"
     ]
    },
    {
     "name": "stdout",
     "output_type": "stream",
     "text": [
      "bg_image_infos: {'license': 0, 'url': None, 'file_name': 'batch_01_vt/0783.jpg', 'height': 512, 'width': 512, 'date_captured': None, 'id': 499}\n"
     ]
    },
    {
     "name": "stderr",
     "output_type": "stream",
     "text": [
      "79it [00:50,  1.61it/s]"
     ]
    },
    {
     "name": "stdout",
     "output_type": "stream",
     "text": [
      "bg_image_infos: {'license': 0, 'url': None, 'file_name': 'augmented/10_459_augmented_9_447_batch_01_vt_0883.jpg', 'height': 512, 'width': 512, 'date_captured': None, 'id': 558}\n"
     ]
    },
    {
     "name": "stderr",
     "output_type": "stream",
     "text": [
      "80it [00:51,  1.45it/s]"
     ]
    },
    {
     "name": "stdout",
     "output_type": "stream",
     "text": [
      "bg_image_infos: {'license': 0, 'url': None, 'file_name': 'augmented/10_1196_batch_03_0529.jpg', 'height': 512, 'width': 512, 'date_captured': None, 'id': 2352}\n"
     ]
    },
    {
     "name": "stderr",
     "output_type": "stream",
     "text": [
      "81it [00:52,  1.44it/s]"
     ]
    },
    {
     "name": "stdout",
     "output_type": "stream",
     "text": [
      "bg_image_infos: {'license': 0, 'url': None, 'file_name': 'batch_03/0504.jpg', 'height': 512, 'width': 512, 'date_captured': None, 'id': 2334}\n"
     ]
    },
    {
     "name": "stderr",
     "output_type": "stream",
     "text": [
      "82it [00:53,  1.39it/s]"
     ]
    },
    {
     "name": "stdout",
     "output_type": "stream",
     "text": [
      "bg_image_infos: {'license': 0, 'url': None, 'file_name': 'batch_02_vt/1475.jpg', 'height': 512, 'width': 512, 'date_captured': None, 'id': 1681}\n"
     ]
    },
    {
     "name": "stderr",
     "output_type": "stream",
     "text": [
      "83it [00:53,  1.33it/s]"
     ]
    },
    {
     "name": "stdout",
     "output_type": "stream",
     "text": [
      "bg_image_infos: {'license': 0, 'url': None, 'file_name': 'batch_01_vt/0176.jpg', 'height': 512, 'width': 512, 'date_captured': None, 'id': 109}\n"
     ]
    },
    {
     "name": "stderr",
     "output_type": "stream",
     "text": [
      "84it [00:54,  1.38it/s]"
     ]
    },
    {
     "name": "stdout",
     "output_type": "stream",
     "text": [
      "bg_image_infos: {'license': 0, 'url': None, 'file_name': 'batch_01_vt/0024.jpg', 'height': 512, 'width': 512, 'date_captured': None, 'id': 16}\n"
     ]
    },
    {
     "name": "stderr",
     "output_type": "stream",
     "text": [
      "85it [00:55,  1.47it/s]"
     ]
    },
    {
     "name": "stdout",
     "output_type": "stream",
     "text": [
      "bg_image_infos: {'license': 0, 'url': None, 'file_name': 'batch_01_vt/0499.jpg', 'height': 512, 'width': 512, 'date_captured': None, 'id': 313}\n"
     ]
    },
    {
     "name": "stderr",
     "output_type": "stream",
     "text": [
      "86it [00:55,  1.42it/s]"
     ]
    },
    {
     "name": "stdout",
     "output_type": "stream",
     "text": [
      "bg_image_infos: {'license': 0, 'url': None, 'file_name': 'augmented/9_1496_batch_02_vt_0682.jpg', 'height': 512, 'width': 512, 'date_captured': None, 'id': 1177}\n"
     ]
    },
    {
     "name": "stderr",
     "output_type": "stream",
     "text": [
      "87it [00:56,  1.52it/s]"
     ]
    },
    {
     "name": "stdout",
     "output_type": "stream",
     "text": [
      "bg_image_infos: {'license': 0, 'url': None, 'file_name': 'batch_02_vt/1934.jpg', 'height': 512, 'width': 512, 'date_captured': None, 'id': 1973}\n"
     ]
    },
    {
     "name": "stderr",
     "output_type": "stream",
     "text": [
      "88it [00:57,  1.57it/s]"
     ]
    },
    {
     "name": "stdout",
     "output_type": "stream",
     "text": [
      "bg_image_infos: {'license': 0, 'url': None, 'file_name': 'batch_01_vt/0873.jpg', 'height': 512, 'width': 512, 'date_captured': None, 'id': 551}\n"
     ]
    },
    {
     "name": "stderr",
     "output_type": "stream",
     "text": [
      "89it [00:57,  1.58it/s]"
     ]
    },
    {
     "name": "stdout",
     "output_type": "stream",
     "text": [
      "bg_image_infos: {'license': 0, 'url': None, 'file_name': 'batch_02_vt/1262.jpg', 'height': 512, 'width': 512, 'date_captured': None, 'id': 1531}\n"
     ]
    },
    {
     "name": "stderr",
     "output_type": "stream",
     "text": [
      "90it [00:58,  1.61it/s]"
     ]
    },
    {
     "name": "stdout",
     "output_type": "stream",
     "text": [
      "bg_image_infos: {'license': 0, 'url': None, 'file_name': 'batch_03/0431.jpg', 'height': 512, 'width': 512, 'date_captured': None, 'id': 2285}\n"
     ]
    },
    {
     "name": "stderr",
     "output_type": "stream",
     "text": [
      "91it [00:58,  1.63it/s]"
     ]
    },
    {
     "name": "stdout",
     "output_type": "stream",
     "text": [
      "bg_image_infos: {'license': 0, 'url': None, 'file_name': 'augmented/9_495_batch_02_vt_1604.jpg', 'height': 512, 'width': 512, 'date_captured': None, 'id': 1768}\n"
     ]
    },
    {
     "name": "stderr",
     "output_type": "stream",
     "text": [
      "92it [00:59,  1.66it/s]"
     ]
    },
    {
     "name": "stdout",
     "output_type": "stream",
     "text": [
      "bg_image_infos: {'license': 0, 'url': None, 'file_name': 'batch_02_vt/0569.jpg', 'height': 512, 'width': 512, 'date_captured': None, 'id': 1101}\n"
     ]
    },
    {
     "name": "stderr",
     "output_type": "stream",
     "text": [
      "93it [01:00,  1.66it/s]"
     ]
    },
    {
     "name": "stdout",
     "output_type": "stream",
     "text": [
      "bg_image_infos: {'license': 0, 'url': None, 'file_name': 'augmented/9_1029_batch_02_vt_0296.jpg', 'height': 512, 'width': 512, 'date_captured': None, 'id': 934}\n"
     ]
    },
    {
     "name": "stderr",
     "output_type": "stream",
     "text": [
      "94it [01:00,  1.55it/s]"
     ]
    },
    {
     "name": "stdout",
     "output_type": "stream",
     "text": [
      "bg_image_infos: {'license': 0, 'url': None, 'file_name': 'batch_02_vt/1068.jpg', 'height': 512, 'width': 512, 'date_captured': None, 'id': 1420}\n"
     ]
    },
    {
     "name": "stderr",
     "output_type": "stream",
     "text": [
      "95it [01:01,  1.59it/s]"
     ]
    },
    {
     "name": "stdout",
     "output_type": "stream",
     "text": [
      "bg_image_infos: {'license': 0, 'url': None, 'file_name': 'batch_01_vt/1246.jpg', 'height': 512, 'width': 512, 'date_captured': None, 'id': 750}\n"
     ]
    },
    {
     "name": "stderr",
     "output_type": "stream",
     "text": [
      "96it [01:01,  1.61it/s]"
     ]
    },
    {
     "name": "stdout",
     "output_type": "stream",
     "text": [
      "bg_image_infos: {'license': 0, 'url': None, 'file_name': 'augmented/10_1048_batch_02_vt_0472.jpg', 'height': 512, 'width': 512, 'date_captured': None, 'id': 1033}\n"
     ]
    },
    {
     "name": "stderr",
     "output_type": "stream",
     "text": [
      "97it [01:02,  1.63it/s]"
     ]
    },
    {
     "name": "stdout",
     "output_type": "stream",
     "text": [
      "bg_image_infos: {'license': 0, 'url': None, 'file_name': 'augmented/10_2059_augmented_9_1972_batch_02_vt_0163.jpg', 'height': 512, 'width': 512, 'date_captured': None, 'id': 852}\n"
     ]
    },
    {
     "name": "stderr",
     "output_type": "stream",
     "text": [
      "98it [01:03,  1.65it/s]"
     ]
    },
    {
     "name": "stdout",
     "output_type": "stream",
     "text": [
      "bg_image_infos: {'license': 0, 'url': None, 'file_name': 'batch_02_vt/0097.jpg', 'height': 512, 'width': 512, 'date_captured': None, 'id': 812}\n"
     ]
    },
    {
     "name": "stderr",
     "output_type": "stream",
     "text": [
      "99it [01:03,  1.60it/s]"
     ]
    },
    {
     "name": "stdout",
     "output_type": "stream",
     "text": [
      "bg_image_infos: {'license': 0, 'url': None, 'file_name': 'batch_02_vt/1681.jpg', 'height': 512, 'width': 512, 'date_captured': None, 'id': 1823}\n"
     ]
    },
    {
     "name": "stderr",
     "output_type": "stream",
     "text": [
      "100it [01:04,  1.46it/s]"
     ]
    },
    {
     "name": "stdout",
     "output_type": "stream",
     "text": [
      "bg_image_infos: {'license': 0, 'url': None, 'file_name': 'augmented/9_908_batch_02_vt_1447.jpg', 'height': 512, 'width': 512, 'date_captured': None, 'id': 1660}\n"
     ]
    },
    {
     "name": "stderr",
     "output_type": "stream",
     "text": [
      "101it [01:05,  1.42it/s]"
     ]
    },
    {
     "name": "stdout",
     "output_type": "stream",
     "text": [
      "bg_image_infos: {'license': 0, 'url': None, 'file_name': 'batch_01_vt/0548.jpg', 'height': 512, 'width': 512, 'date_captured': None, 'id': 347}\n"
     ]
    },
    {
     "name": "stderr",
     "output_type": "stream",
     "text": [
      "102it [01:06,  1.38it/s]"
     ]
    },
    {
     "name": "stdout",
     "output_type": "stream",
     "text": [
      "bg_image_infos: {'license': 0, 'url': None, 'file_name': 'augmented/9_496_batch_01_vt_0212.jpg', 'height': 512, 'width': 512, 'date_captured': None, 'id': 131}\n"
     ]
    },
    {
     "name": "stderr",
     "output_type": "stream",
     "text": [
      "103it [01:06,  1.35it/s]"
     ]
    },
    {
     "name": "stdout",
     "output_type": "stream",
     "text": [
      "bg_image_infos: {'license': 0, 'url': None, 'file_name': 'batch_02_vt/0314.jpg', 'height': 512, 'width': 512, 'date_captured': None, 'id': 945}\n"
     ]
    },
    {
     "name": "stderr",
     "output_type": "stream",
     "text": [
      "104it [01:07,  1.42it/s]"
     ]
    },
    {
     "name": "stdout",
     "output_type": "stream",
     "text": [
      "bg_image_infos: {'license': 0, 'url': None, 'file_name': 'augmented/10_2213_augmented_9_2223_batch_01_vt_1086.jpg', 'height': 512, 'width': 512, 'date_captured': None, 'id': 678}\n"
     ]
    },
    {
     "name": "stderr",
     "output_type": "stream",
     "text": [
      "105it [01:08,  1.47it/s]"
     ]
    },
    {
     "name": "stdout",
     "output_type": "stream",
     "text": [
      "bg_image_infos: {'license': 0, 'url': None, 'file_name': 'augmented/10_1785_augmented_9_784_batch_02_vt_1889.jpg', 'height': 512, 'width': 512, 'date_captured': None, 'id': 1942}\n"
     ]
    },
    {
     "name": "stderr",
     "output_type": "stream",
     "text": [
      "106it [01:08,  1.55it/s]"
     ]
    },
    {
     "name": "stdout",
     "output_type": "stream",
     "text": [
      "bg_image_infos: {'license': 0, 'url': None, 'file_name': 'augmented/10_1985_batch_01_vt_0668.jpg', 'height': 512, 'width': 512, 'date_captured': None, 'id': 429}\n"
     ]
    },
    {
     "name": "stderr",
     "output_type": "stream",
     "text": [
      "107it [01:09,  1.61it/s]"
     ]
    },
    {
     "name": "stdout",
     "output_type": "stream",
     "text": [
      "bg_image_infos: {'license': 0, 'url': None, 'file_name': 'batch_02_vt/0755.jpg', 'height': 512, 'width': 512, 'date_captured': None, 'id': 1223}\n"
     ]
    },
    {
     "name": "stderr",
     "output_type": "stream",
     "text": [
      "108it [01:10,  1.52it/s]"
     ]
    },
    {
     "name": "stdout",
     "output_type": "stream",
     "text": [
      "bg_image_infos: {'license': 0, 'url': None, 'file_name': 'batch_02_vt/0960.jpg', 'height': 512, 'width': 512, 'date_captured': None, 'id': 1347}\n"
     ]
    },
    {
     "name": "stderr",
     "output_type": "stream",
     "text": [
      "109it [01:10,  1.54it/s]"
     ]
    },
    {
     "name": "stdout",
     "output_type": "stream",
     "text": [
      "bg_image_infos: {'license': 0, 'url': None, 'file_name': 'batch_02_vt/2000.jpg', 'height': 512, 'width': 512, 'date_captured': None, 'id': 2017}\n"
     ]
    },
    {
     "name": "stderr",
     "output_type": "stream",
     "text": [
      "110it [01:11,  1.56it/s]"
     ]
    },
    {
     "name": "stdout",
     "output_type": "stream",
     "text": [
      "bg_image_infos: {'license': 0, 'url': None, 'file_name': 'batch_02_vt/1326.jpg', 'height': 512, 'width': 512, 'date_captured': None, 'id': 1575}\n"
     ]
    },
    {
     "name": "stderr",
     "output_type": "stream",
     "text": [
      "111it [01:11,  1.60it/s]"
     ]
    },
    {
     "name": "stdout",
     "output_type": "stream",
     "text": [
      "bg_image_infos: {'license': 0, 'url': None, 'file_name': 'batch_02_vt/1236.jpg', 'height': 512, 'width': 512, 'date_captured': None, 'id': 1515}\n"
     ]
    },
    {
     "name": "stderr",
     "output_type": "stream",
     "text": [
      "112it [01:12,  1.61it/s]"
     ]
    },
    {
     "name": "stdout",
     "output_type": "stream",
     "text": [
      "bg_image_infos: {'license': 0, 'url': None, 'file_name': 'augmented/10_160_batch_02_vt_1746.jpg', 'height': 512, 'width': 512, 'date_captured': None, 'id': 1863}\n"
     ]
    },
    {
     "name": "stderr",
     "output_type": "stream",
     "text": [
      "113it [01:13,  1.61it/s]"
     ]
    },
    {
     "name": "stdout",
     "output_type": "stream",
     "text": [
      "bg_image_infos: {'license': 0, 'url': None, 'file_name': 'augmented/9_2492_batch_02_vt_0256.jpg', 'height': 512, 'width': 512, 'date_captured': None, 'id': 910}\n"
     ]
    },
    {
     "name": "stderr",
     "output_type": "stream",
     "text": [
      "114it [01:13,  1.63it/s]"
     ]
    },
    {
     "name": "stdout",
     "output_type": "stream",
     "text": [
      "bg_image_infos: {'license': 0, 'url': None, 'file_name': 'batch_02_vt/1315.jpg', 'height': 512, 'width': 512, 'date_captured': None, 'id': 1568}\n"
     ]
    },
    {
     "name": "stderr",
     "output_type": "stream",
     "text": [
      "115it [01:14,  1.63it/s]"
     ]
    },
    {
     "name": "stdout",
     "output_type": "stream",
     "text": [
      "bg_image_infos: {'license': 0, 'url': None, 'file_name': 'batch_02_vt/0661.jpg', 'height': 512, 'width': 512, 'date_captured': None, 'id': 1161}\n"
     ]
    },
    {
     "name": "stderr",
     "output_type": "stream",
     "text": [
      "116it [01:15,  1.56it/s]"
     ]
    },
    {
     "name": "stdout",
     "output_type": "stream",
     "text": [
      "bg_image_infos: {'license': 0, 'url': None, 'file_name': 'batch_03/0257.jpg', 'height': 512, 'width': 512, 'date_captured': None, 'id': 2172}\n"
     ]
    },
    {
     "name": "stderr",
     "output_type": "stream",
     "text": [
      "117it [01:15,  1.61it/s]"
     ]
    },
    {
     "name": "stdout",
     "output_type": "stream",
     "text": [
      "bg_image_infos: {'license': 0, 'url': None, 'file_name': 'batch_01_vt/0191.jpg', 'height': 512, 'width': 512, 'date_captured': None, 'id': 118}\n"
     ]
    },
    {
     "name": "stderr",
     "output_type": "stream",
     "text": [
      "118it [01:16,  1.53it/s]"
     ]
    },
    {
     "name": "stdout",
     "output_type": "stream",
     "text": [
      "bg_image_infos: {'license': 0, 'url': None, 'file_name': 'batch_03/0851.jpg', 'height': 512, 'width': 512, 'date_captured': None, 'id': 2533}\n"
     ]
    },
    {
     "name": "stderr",
     "output_type": "stream",
     "text": [
      "119it [01:16,  1.59it/s]"
     ]
    },
    {
     "name": "stdout",
     "output_type": "stream",
     "text": [
      "bg_image_infos: {'license': 0, 'url': None, 'file_name': 'augmented/10_1628_batch_01_vt_0150.jpg', 'height': 512, 'width': 512, 'date_captured': None, 'id': 94}\n"
     ]
    },
    {
     "name": "stderr",
     "output_type": "stream",
     "text": [
      "120it [01:17,  1.47it/s]"
     ]
    },
    {
     "name": "stdout",
     "output_type": "stream",
     "text": [
      "bg_image_infos: {'license': 0, 'url': None, 'file_name': 'batch_02_vt/1424.jpg', 'height': 512, 'width': 512, 'date_captured': None, 'id': 1644}\n"
     ]
    },
    {
     "name": "stderr",
     "output_type": "stream",
     "text": [
      "121it [01:18,  1.53it/s]"
     ]
    },
    {
     "name": "stdout",
     "output_type": "stream",
     "text": [
      "bg_image_infos: {'license': 0, 'url': None, 'file_name': 'batch_01_vt/0168.jpg', 'height': 512, 'width': 512, 'date_captured': None, 'id': 106}\n"
     ]
    },
    {
     "name": "stderr",
     "output_type": "stream",
     "text": [
      "122it [01:18,  1.57it/s]"
     ]
    },
    {
     "name": "stdout",
     "output_type": "stream",
     "text": [
      "bg_image_infos: {'license': 0, 'url': None, 'file_name': 'augmented/9_1068_batch_03_0080.jpg', 'height': 512, 'width': 512, 'date_captured': None, 'id': 2067}\n"
     ]
    },
    {
     "name": "stderr",
     "output_type": "stream",
     "text": [
      "123it [01:19,  1.55it/s]"
     ]
    },
    {
     "name": "stdout",
     "output_type": "stream",
     "text": [
      "bg_image_infos: {'license': 0, 'url': None, 'file_name': 'batch_03/0860.jpg', 'height': 512, 'width': 512, 'date_captured': None, 'id': 2537}\n"
     ]
    },
    {
     "name": "stderr",
     "output_type": "stream",
     "text": [
      "124it [01:20,  1.55it/s]"
     ]
    },
    {
     "name": "stdout",
     "output_type": "stream",
     "text": [
      "bg_image_infos: {'license': 0, 'url': None, 'file_name': 'batch_02_vt/1848.jpg', 'height': 512, 'width': 512, 'date_captured': None, 'id': 1916}\n"
     ]
    },
    {
     "name": "stderr",
     "output_type": "stream",
     "text": [
      "125it [01:20,  1.52it/s]"
     ]
    },
    {
     "name": "stdout",
     "output_type": "stream",
     "text": [
      "bg_image_infos: {'license': 0, 'url': None, 'file_name': 'batch_03/0611.jpg', 'height': 512, 'width': 512, 'date_captured': None, 'id': 2405}\n"
     ]
    },
    {
     "name": "stderr",
     "output_type": "stream",
     "text": [
      "126it [01:21,  1.55it/s]"
     ]
    },
    {
     "name": "stdout",
     "output_type": "stream",
     "text": [
      "bg_image_infos: {'license': 0, 'url': None, 'file_name': 'batch_02_vt/1871.jpg', 'height': 512, 'width': 512, 'date_captured': None, 'id': 1929}\n"
     ]
    },
    {
     "name": "stderr",
     "output_type": "stream",
     "text": [
      "127it [01:22,  1.61it/s]"
     ]
    },
    {
     "name": "stdout",
     "output_type": "stream",
     "text": [
      "bg_image_infos: {'license': 0, 'url': None, 'file_name': 'batch_01_vt/0658.jpg', 'height': 512, 'width': 512, 'date_captured': None, 'id': 421}\n"
     ]
    },
    {
     "name": "stderr",
     "output_type": "stream",
     "text": [
      "128it [01:22,  1.62it/s]"
     ]
    },
    {
     "name": "stdout",
     "output_type": "stream",
     "text": [
      "bg_image_infos: {'license': 0, 'url': None, 'file_name': 'batch_03/0773.jpg', 'height': 512, 'width': 512, 'date_captured': None, 'id': 2489}\n"
     ]
    },
    {
     "name": "stderr",
     "output_type": "stream",
     "text": [
      "129it [01:23,  1.58it/s]"
     ]
    },
    {
     "name": "stdout",
     "output_type": "stream",
     "text": [
      "bg_image_infos: {'license': 0, 'url': None, 'file_name': 'batch_01_vt/1067.jpg', 'height': 512, 'width': 512, 'date_captured': None, 'id': 667}\n"
     ]
    },
    {
     "name": "stderr",
     "output_type": "stream",
     "text": [
      "130it [01:24,  1.52it/s]"
     ]
    },
    {
     "name": "stdout",
     "output_type": "stream",
     "text": [
      "bg_image_infos: {'license': 0, 'url': None, 'file_name': 'batch_02_vt/0586.jpg', 'height': 512, 'width': 512, 'date_captured': None, 'id': 1111}\n"
     ]
    },
    {
     "name": "stderr",
     "output_type": "stream",
     "text": [
      "131it [01:24,  1.46it/s]"
     ]
    },
    {
     "name": "stdout",
     "output_type": "stream",
     "text": [
      "bg_image_infos: {'license': 0, 'url': None, 'file_name': 'batch_03/0794.jpg', 'height': 512, 'width': 512, 'date_captured': None, 'id': 2503}\n"
     ]
    },
    {
     "name": "stderr",
     "output_type": "stream",
     "text": [
      "132it [01:25,  1.37it/s]"
     ]
    },
    {
     "name": "stdout",
     "output_type": "stream",
     "text": [
      "bg_image_infos: {'license': 0, 'url': None, 'file_name': 'augmented/10_107_batch_02_vt_0622.jpg', 'height': 512, 'width': 512, 'date_captured': None, 'id': 1140}\n"
     ]
    },
    {
     "name": "stderr",
     "output_type": "stream",
     "text": [
      "133it [01:26,  1.38it/s]"
     ]
    },
    {
     "name": "stdout",
     "output_type": "stream",
     "text": [
      "bg_image_infos: {'license': 0, 'url': None, 'file_name': 'batch_02_vt/0094.jpg', 'height': 512, 'width': 512, 'date_captured': None, 'id': 811}\n"
     ]
    },
    {
     "name": "stderr",
     "output_type": "stream",
     "text": [
      "134it [01:26,  1.43it/s]"
     ]
    },
    {
     "name": "stdout",
     "output_type": "stream",
     "text": [
      "bg_image_infos: {'license': 0, 'url': None, 'file_name': 'batch_01_vt/0339.jpg', 'height': 512, 'width': 512, 'date_captured': None, 'id': 209}\n"
     ]
    },
    {
     "name": "stderr",
     "output_type": "stream",
     "text": [
      "135it [01:27,  1.42it/s]"
     ]
    },
    {
     "name": "stdout",
     "output_type": "stream",
     "text": [
      "bg_image_infos: {'license': 0, 'url': None, 'file_name': 'batch_02_vt/0073.jpg', 'height': 512, 'width': 512, 'date_captured': None, 'id': 798}\n"
     ]
    },
    {
     "name": "stderr",
     "output_type": "stream",
     "text": [
      "136it [01:28,  1.39it/s]"
     ]
    },
    {
     "name": "stdout",
     "output_type": "stream",
     "text": [
      "bg_image_infos: {'license': 0, 'url': None, 'file_name': 'augmented/9_1918_batch_02_vt_0749.jpg', 'height': 512, 'width': 512, 'date_captured': None, 'id': 1219}\n"
     ]
    },
    {
     "name": "stderr",
     "output_type": "stream",
     "text": [
      "137it [01:29,  1.48it/s]"
     ]
    },
    {
     "name": "stdout",
     "output_type": "stream",
     "text": [
      "bg_image_infos: {'license': 0, 'url': None, 'file_name': 'batch_02_vt/0449.jpg', 'height': 512, 'width': 512, 'date_captured': None, 'id': 1017}\n"
     ]
    },
    {
     "name": "stderr",
     "output_type": "stream",
     "text": [
      "138it [01:29,  1.46it/s]"
     ]
    },
    {
     "name": "stdout",
     "output_type": "stream",
     "text": [
      "bg_image_infos: {'license': 0, 'url': None, 'file_name': 'batch_02_vt/1504.jpg', 'height': 512, 'width': 512, 'date_captured': None, 'id': 1701}\n"
     ]
    },
    {
     "name": "stderr",
     "output_type": "stream",
     "text": [
      "139it [01:30,  1.54it/s]"
     ]
    },
    {
     "name": "stdout",
     "output_type": "stream",
     "text": [
      "bg_image_infos: {'license': 0, 'url': None, 'file_name': 'batch_03/0446.jpg', 'height': 512, 'width': 512, 'date_captured': None, 'id': 2295}\n"
     ]
    },
    {
     "name": "stderr",
     "output_type": "stream",
     "text": [
      "140it [01:30,  1.60it/s]"
     ]
    },
    {
     "name": "stdout",
     "output_type": "stream",
     "text": [
      "bg_image_infos: {'license': 0, 'url': None, 'file_name': 'batch_01_vt/0270.jpg', 'height': 512, 'width': 512, 'date_captured': None, 'id': 167}\n"
     ]
    },
    {
     "name": "stderr",
     "output_type": "stream",
     "text": [
      "141it [01:31,  1.55it/s]"
     ]
    },
    {
     "name": "stdout",
     "output_type": "stream",
     "text": [
      "bg_image_infos: {'license': 0, 'url': None, 'file_name': 'batch_03/0527.jpg', 'height': 512, 'width': 512, 'date_captured': None, 'id': 2350}\n"
     ]
    },
    {
     "name": "stderr",
     "output_type": "stream",
     "text": [
      "142it [01:32,  1.57it/s]"
     ]
    },
    {
     "name": "stdout",
     "output_type": "stream",
     "text": [
      "bg_image_infos: {'license': 0, 'url': None, 'file_name': 'batch_01_vt/0977.jpg', 'height': 512, 'width': 512, 'date_captured': None, 'id': 619}\n"
     ]
    },
    {
     "name": "stderr",
     "output_type": "stream",
     "text": [
      "143it [01:32,  1.50it/s]"
     ]
    },
    {
     "name": "stdout",
     "output_type": "stream",
     "text": [
      "bg_image_infos: {'license': 0, 'url': None, 'file_name': 'batch_02_vt/0617.jpg', 'height': 512, 'width': 512, 'date_captured': None, 'id': 1135}\n"
     ]
    },
    {
     "name": "stderr",
     "output_type": "stream",
     "text": [
      "144it [01:33,  1.55it/s]"
     ]
    },
    {
     "name": "stdout",
     "output_type": "stream",
     "text": [
      "bg_image_infos: {'license': 0, 'url': None, 'file_name': 'augmented/10_1130_batch_02_vt_1149.jpg', 'height': 512, 'width': 512, 'date_captured': None, 'id': 1464}\n"
     ]
    },
    {
     "name": "stderr",
     "output_type": "stream",
     "text": [
      "145it [01:34,  1.48it/s]"
     ]
    },
    {
     "name": "stdout",
     "output_type": "stream",
     "text": [
      "bg_image_infos: {'license': 0, 'url': None, 'file_name': 'augmented/10_1942_batch_03_0318.jpg', 'height': 512, 'width': 512, 'date_captured': None, 'id': 2215}\n"
     ]
    },
    {
     "name": "stderr",
     "output_type": "stream",
     "text": [
      "146it [01:34,  1.55it/s]"
     ]
    },
    {
     "name": "stdout",
     "output_type": "stream",
     "text": [
      "bg_image_infos: {'license': 0, 'url': None, 'file_name': 'batch_02_vt/1945.jpg', 'height': 512, 'width': 512, 'date_captured': None, 'id': 1981}\n"
     ]
    },
    {
     "name": "stderr",
     "output_type": "stream",
     "text": [
      "147it [01:35,  1.56it/s]"
     ]
    },
    {
     "name": "stdout",
     "output_type": "stream",
     "text": [
      "bg_image_infos: {'license': 0, 'url': None, 'file_name': 'batch_02_vt/1586.jpg', 'height': 512, 'width': 512, 'date_captured': None, 'id': 1755}\n"
     ]
    },
    {
     "name": "stderr",
     "output_type": "stream",
     "text": [
      "148it [01:36,  1.50it/s]"
     ]
    },
    {
     "name": "stdout",
     "output_type": "stream",
     "text": [
      "bg_image_infos: {'license': 0, 'url': None, 'file_name': 'batch_02_vt/1309.jpg', 'height': 512, 'width': 512, 'date_captured': None, 'id': 1564}\n"
     ]
    },
    {
     "name": "stderr",
     "output_type": "stream",
     "text": [
      "149it [01:36,  1.47it/s]"
     ]
    },
    {
     "name": "stdout",
     "output_type": "stream",
     "text": [
      "bg_image_infos: {'license': 0, 'url': None, 'file_name': 'batch_02_vt/0613.jpg', 'height': 512, 'width': 512, 'date_captured': None, 'id': 1131}\n"
     ]
    },
    {
     "name": "stderr",
     "output_type": "stream",
     "text": [
      "150it [01:37,  1.44it/s]"
     ]
    },
    {
     "name": "stdout",
     "output_type": "stream",
     "text": [
      "bg_image_infos: {'license': 0, 'url': None, 'file_name': 'augmented/9_1332_batch_02_vt_0973.jpg', 'height': 512, 'width': 512, 'date_captured': None, 'id': 1357}\n"
     ]
    },
    {
     "name": "stderr",
     "output_type": "stream",
     "text": [
      "151it [01:38,  1.45it/s]"
     ]
    },
    {
     "name": "stdout",
     "output_type": "stream",
     "text": [
      "bg_image_infos: {'license': 0, 'url': None, 'file_name': 'batch_02_vt/1896.jpg', 'height': 512, 'width': 512, 'date_captured': None, 'id': 1947}\n"
     ]
    },
    {
     "name": "stderr",
     "output_type": "stream",
     "text": [
      "152it [01:38,  1.52it/s]"
     ]
    },
    {
     "name": "stdout",
     "output_type": "stream",
     "text": [
      "bg_image_infos: {'license': 0, 'url': None, 'file_name': 'batch_01_vt/0083.jpg', 'height': 512, 'width': 512, 'date_captured': None, 'id': 49}\n"
     ]
    },
    {
     "name": "stderr",
     "output_type": "stream",
     "text": [
      "153it [01:39,  1.57it/s]"
     ]
    },
    {
     "name": "stdout",
     "output_type": "stream",
     "text": [
      "bg_image_infos: {'license': 0, 'url': None, 'file_name': 'augmented/9_1199_batch_02_vt_1846.jpg', 'height': 512, 'width': 512, 'date_captured': None, 'id': 1915}\n"
     ]
    },
    {
     "name": "stderr",
     "output_type": "stream",
     "text": [
      "154it [01:40,  1.55it/s]"
     ]
    },
    {
     "name": "stdout",
     "output_type": "stream",
     "text": [
      "bg_image_infos: {'license': 0, 'url': None, 'file_name': 'batch_01_vt/0022.jpg', 'height': 512, 'width': 512, 'date_captured': None, 'id': 14}\n"
     ]
    },
    {
     "name": "stderr",
     "output_type": "stream",
     "text": [
      "155it [01:40,  1.58it/s]"
     ]
    },
    {
     "name": "stdout",
     "output_type": "stream",
     "text": [
      "bg_image_infos: {'license': 0, 'url': None, 'file_name': 'batch_02_vt/0327.jpg', 'height': 512, 'width': 512, 'date_captured': None, 'id': 949}\n"
     ]
    },
    {
     "name": "stderr",
     "output_type": "stream",
     "text": [
      "156it [01:41,  1.63it/s]"
     ]
    },
    {
     "name": "stdout",
     "output_type": "stream",
     "text": [
      "bg_image_infos: {'license': 0, 'url': None, 'file_name': 'batch_03/0022.jpg', 'height': 512, 'width': 512, 'date_captured': None, 'id': 2036}\n"
     ]
    },
    {
     "name": "stderr",
     "output_type": "stream",
     "text": [
      "157it [01:41,  1.59it/s]"
     ]
    },
    {
     "name": "stdout",
     "output_type": "stream",
     "text": [
      "bg_image_infos: {'license': 0, 'url': None, 'file_name': 'batch_01_vt/1159.jpg', 'height': 512, 'width': 512, 'date_captured': None, 'id': 713}\n"
     ]
    },
    {
     "name": "stderr",
     "output_type": "stream",
     "text": [
      "158it [01:42,  1.54it/s]"
     ]
    },
    {
     "name": "stdout",
     "output_type": "stream",
     "text": [
      "bg_image_infos: {'license': 0, 'url': None, 'file_name': 'batch_01_vt/0055.jpg', 'height': 512, 'width': 512, 'date_captured': None, 'id': 35}\n"
     ]
    },
    {
     "name": "stderr",
     "output_type": "stream",
     "text": [
      "159it [01:43,  1.57it/s]"
     ]
    },
    {
     "name": "stdout",
     "output_type": "stream",
     "text": [
      "bg_image_infos: {'license': 0, 'url': None, 'file_name': 'batch_02_vt/0396.jpg', 'height': 512, 'width': 512, 'date_captured': None, 'id': 987}\n"
     ]
    },
    {
     "name": "stderr",
     "output_type": "stream",
     "text": [
      "160it [01:44,  1.47it/s]"
     ]
    },
    {
     "name": "stdout",
     "output_type": "stream",
     "text": [
      "bg_image_infos: {'license': 0, 'url': None, 'file_name': 'batch_01_vt/1023.jpg', 'height': 512, 'width': 512, 'date_captured': None, 'id': 642}\n"
     ]
    },
    {
     "name": "stderr",
     "output_type": "stream",
     "text": [
      "161it [01:44,  1.51it/s]"
     ]
    },
    {
     "name": "stdout",
     "output_type": "stream",
     "text": [
      "bg_image_infos: {'license': 0, 'url': None, 'file_name': 'batch_01_vt/0217.jpg', 'height': 512, 'width': 512, 'date_captured': None, 'id': 133}\n"
     ]
    },
    {
     "name": "stderr",
     "output_type": "stream",
     "text": [
      "162it [01:45,  1.54it/s]"
     ]
    },
    {
     "name": "stdout",
     "output_type": "stream",
     "text": [
      "bg_image_infos: {'license': 0, 'url': None, 'file_name': 'batch_01_vt/0698.jpg', 'height': 512, 'width': 512, 'date_captured': None, 'id': 452}\n"
     ]
    },
    {
     "name": "stderr",
     "output_type": "stream",
     "text": [
      "163it [01:46,  1.50it/s]"
     ]
    },
    {
     "name": "stdout",
     "output_type": "stream",
     "text": [
      "bg_image_infos: {'license': 0, 'url': None, 'file_name': 'batch_03/0596.jpg', 'height': 512, 'width': 512, 'date_captured': None, 'id': 2397}\n"
     ]
    },
    {
     "name": "stderr",
     "output_type": "stream",
     "text": [
      "164it [01:46,  1.50it/s]"
     ]
    },
    {
     "name": "stdout",
     "output_type": "stream",
     "text": [
      "bg_image_infos: {'license': 0, 'url': None, 'file_name': 'batch_02_vt/0295.jpg', 'height': 512, 'width': 512, 'date_captured': None, 'id': 933}\n"
     ]
    },
    {
     "name": "stderr",
     "output_type": "stream",
     "text": [
      "165it [01:47,  1.45it/s]"
     ]
    },
    {
     "name": "stdout",
     "output_type": "stream",
     "text": [
      "bg_image_infos: {'license': 0, 'url': None, 'file_name': 'batch_02_vt/0553.jpg', 'height': 512, 'width': 512, 'date_captured': None, 'id': 1089}\n"
     ]
    },
    {
     "name": "stderr",
     "output_type": "stream",
     "text": [
      "166it [01:47,  1.52it/s]"
     ]
    },
    {
     "name": "stdout",
     "output_type": "stream",
     "text": [
      "bg_image_infos: {'license': 0, 'url': None, 'file_name': 'batch_02_vt/1769.jpg', 'height': 512, 'width': 512, 'date_captured': None, 'id': 1875}\n"
     ]
    },
    {
     "name": "stderr",
     "output_type": "stream",
     "text": [
      "167it [01:48,  1.56it/s]"
     ]
    },
    {
     "name": "stdout",
     "output_type": "stream",
     "text": [
      "bg_image_infos: {'license': 0, 'url': None, 'file_name': 'batch_02_vt/0851.jpg', 'height': 512, 'width': 512, 'date_captured': None, 'id': 1277}\n"
     ]
    },
    {
     "name": "stderr",
     "output_type": "stream",
     "text": [
      "168it [01:49,  1.52it/s]"
     ]
    },
    {
     "name": "stdout",
     "output_type": "stream",
     "text": [
      "bg_image_infos: {'license': 0, 'url': None, 'file_name': 'batch_01_vt/0129.jpg', 'height': 512, 'width': 512, 'date_captured': None, 'id': 79}\n"
     ]
    },
    {
     "name": "stderr",
     "output_type": "stream",
     "text": [
      "169it [01:49,  1.54it/s]"
     ]
    },
    {
     "name": "stdout",
     "output_type": "stream",
     "text": [
      "bg_image_infos: {'license': 0, 'url': None, 'file_name': 'batch_03/0262.jpg', 'height': 512, 'width': 512, 'date_captured': None, 'id': 2176}\n"
     ]
    },
    {
     "name": "stderr",
     "output_type": "stream",
     "text": [
      "170it [01:50,  1.49it/s]"
     ]
    },
    {
     "name": "stdout",
     "output_type": "stream",
     "text": [
      "bg_image_infos: {'license': 0, 'url': None, 'file_name': 'augmented/9_1243_batch_01_vt_0438.jpg', 'height': 512, 'width': 512, 'date_captured': None, 'id': 278}\n"
     ]
    },
    {
     "name": "stderr",
     "output_type": "stream",
     "text": [
      "171it [01:51,  1.49it/s]"
     ]
    },
    {
     "name": "stdout",
     "output_type": "stream",
     "text": [
      "bg_image_infos: {'license': 0, 'url': None, 'file_name': 'batch_02_vt/1210.jpg', 'height': 512, 'width': 512, 'date_captured': None, 'id': 1497}\n"
     ]
    },
    {
     "name": "stderr",
     "output_type": "stream",
     "text": [
      "172it [01:51,  1.56it/s]"
     ]
    },
    {
     "name": "stdout",
     "output_type": "stream",
     "text": [
      "bg_image_infos: {'license': 0, 'url': None, 'file_name': 'batch_02_vt/1107.jpg', 'height': 512, 'width': 512, 'date_captured': None, 'id': 1442}\n"
     ]
    },
    {
     "name": "stderr",
     "output_type": "stream",
     "text": [
      "173it [01:52,  1.50it/s]"
     ]
    },
    {
     "name": "stdout",
     "output_type": "stream",
     "text": [
      "bg_image_infos: {'license': 0, 'url': None, 'file_name': 'batch_02_vt/1133.jpg', 'height': 512, 'width': 512, 'date_captured': None, 'id': 1455}\n"
     ]
    },
    {
     "name": "stderr",
     "output_type": "stream",
     "text": [
      "174it [01:53,  1.54it/s]"
     ]
    },
    {
     "name": "stdout",
     "output_type": "stream",
     "text": [
      "bg_image_infos: {'license': 0, 'url': None, 'file_name': 'batch_02_vt/1306.jpg', 'height': 512, 'width': 512, 'date_captured': None, 'id': 1563}\n"
     ]
    },
    {
     "name": "stderr",
     "output_type": "stream",
     "text": [
      "175it [01:54,  1.45it/s]"
     ]
    },
    {
     "name": "stdout",
     "output_type": "stream",
     "text": [
      "bg_image_infos: {'license': 0, 'url': None, 'file_name': 'batch_02_vt/0631.jpg', 'height': 512, 'width': 512, 'date_captured': None, 'id': 1144}\n"
     ]
    },
    {
     "name": "stderr",
     "output_type": "stream",
     "text": [
      "176it [01:54,  1.39it/s]"
     ]
    },
    {
     "name": "stdout",
     "output_type": "stream",
     "text": [
      "bg_image_infos: {'license': 0, 'url': None, 'file_name': 'batch_02_vt/0572.jpg', 'height': 512, 'width': 512, 'date_captured': None, 'id': 1102}\n"
     ]
    },
    {
     "name": "stderr",
     "output_type": "stream",
     "text": [
      "177it [01:55,  1.46it/s]"
     ]
    },
    {
     "name": "stdout",
     "output_type": "stream",
     "text": [
      "bg_image_infos: {'license': 0, 'url': None, 'file_name': 'batch_01_vt/0314.jpg', 'height': 512, 'width': 512, 'date_captured': None, 'id': 194}\n"
     ]
    },
    {
     "name": "stderr",
     "output_type": "stream",
     "text": [
      "178it [01:55,  1.56it/s]"
     ]
    },
    {
     "name": "stdout",
     "output_type": "stream",
     "text": [
      "bg_image_infos: {'license': 0, 'url': None, 'file_name': 'batch_03/0732.jpg', 'height': 512, 'width': 512, 'date_captured': None, 'id': 2469}\n"
     ]
    },
    {
     "name": "stderr",
     "output_type": "stream",
     "text": [
      "179it [01:56,  1.58it/s]"
     ]
    },
    {
     "name": "stdout",
     "output_type": "stream",
     "text": [
      "bg_image_infos: {'license': 0, 'url': None, 'file_name': 'batch_02_vt/0899.jpg', 'height': 512, 'width': 512, 'date_captured': None, 'id': 1309}\n"
     ]
    },
    {
     "name": "stderr",
     "output_type": "stream",
     "text": [
      "180it [01:57,  1.49it/s]"
     ]
    },
    {
     "name": "stdout",
     "output_type": "stream",
     "text": [
      "bg_image_infos: {'license': 0, 'url': None, 'file_name': 'batch_02_vt/0704.jpg', 'height': 512, 'width': 512, 'date_captured': None, 'id': 1191}\n"
     ]
    },
    {
     "name": "stderr",
     "output_type": "stream",
     "text": [
      "181it [01:57,  1.54it/s]"
     ]
    },
    {
     "name": "stdout",
     "output_type": "stream",
     "text": [
      "bg_image_infos: {'license': 0, 'url': None, 'file_name': 'batch_02_vt/1226.jpg', 'height': 512, 'width': 512, 'date_captured': None, 'id': 1508}\n"
     ]
    },
    {
     "name": "stderr",
     "output_type": "stream",
     "text": [
      "182it [01:58,  1.58it/s]"
     ]
    },
    {
     "name": "stdout",
     "output_type": "stream",
     "text": [
      "bg_image_infos: {'license': 0, 'url': None, 'file_name': 'augmented/9_1243_batch_02_vt_1431.jpg', 'height': 512, 'width': 512, 'date_captured': None, 'id': 1647}\n"
     ]
    },
    {
     "name": "stderr",
     "output_type": "stream",
     "text": [
      "183it [01:59,  1.52it/s]"
     ]
    },
    {
     "name": "stdout",
     "output_type": "stream",
     "text": [
      "bg_image_infos: {'license': 0, 'url': None, 'file_name': 'batch_01_vt/0888.jpg', 'height': 512, 'width': 512, 'date_captured': None, 'id': 563}\n"
     ]
    },
    {
     "name": "stderr",
     "output_type": "stream",
     "text": [
      "184it [01:59,  1.48it/s]"
     ]
    },
    {
     "name": "stdout",
     "output_type": "stream",
     "text": [
      "bg_image_infos: {'license': 0, 'url': None, 'file_name': 'batch_02_vt/0626.jpg', 'height': 512, 'width': 512, 'date_captured': None, 'id': 1141}\n"
     ]
    },
    {
     "name": "stderr",
     "output_type": "stream",
     "text": [
      "185it [02:00,  1.53it/s]"
     ]
    },
    {
     "name": "stdout",
     "output_type": "stream",
     "text": [
      "bg_image_infos: {'license': 0, 'url': None, 'file_name': 'batch_01_vt/0594.jpg', 'height': 512, 'width': 512, 'date_captured': None, 'id': 381}\n"
     ]
    },
    {
     "name": "stderr",
     "output_type": "stream",
     "text": [
      "186it [02:01,  1.65it/s]"
     ]
    },
    {
     "name": "stdout",
     "output_type": "stream",
     "text": [
      "bg_image_infos: {'license': 0, 'url': None, 'file_name': 'batch_01_vt/0397.jpg', 'height': 512, 'width': 512, 'date_captured': None, 'id': 247}\n"
     ]
    },
    {
     "name": "stderr",
     "output_type": "stream",
     "text": [
      "187it [02:01,  1.56it/s]"
     ]
    },
    {
     "name": "stdout",
     "output_type": "stream",
     "text": [
      "bg_image_infos: {'license': 0, 'url': None, 'file_name': 'batch_02_vt/1036.jpg', 'height': 512, 'width': 512, 'date_captured': None, 'id': 1397}\n"
     ]
    },
    {
     "name": "stderr",
     "output_type": "stream",
     "text": [
      "188it [02:02,  1.60it/s]"
     ]
    },
    {
     "name": "stdout",
     "output_type": "stream",
     "text": [
      "bg_image_infos: {'license': 0, 'url': None, 'file_name': 'batch_02_vt/0619.jpg', 'height': 512, 'width': 512, 'date_captured': None, 'id': 1137}\n"
     ]
    },
    {
     "name": "stderr",
     "output_type": "stream",
     "text": [
      "189it [02:02,  1.66it/s]"
     ]
    },
    {
     "name": "stdout",
     "output_type": "stream",
     "text": [
      "bg_image_infos: {'license': 0, 'url': None, 'file_name': 'batch_02_vt/0798.jpg', 'height': 512, 'width': 512, 'date_captured': None, 'id': 1251}\n"
     ]
    },
    {
     "name": "stderr",
     "output_type": "stream",
     "text": [
      "190it [02:03,  1.58it/s]"
     ]
    },
    {
     "name": "stdout",
     "output_type": "stream",
     "text": [
      "bg_image_infos: {'license': 0, 'url': None, 'file_name': 'batch_02_vt/1759.jpg', 'height': 512, 'width': 512, 'date_captured': None, 'id': 1871}\n"
     ]
    },
    {
     "name": "stderr",
     "output_type": "stream",
     "text": [
      "191it [02:04,  1.65it/s]"
     ]
    },
    {
     "name": "stdout",
     "output_type": "stream",
     "text": [
      "bg_image_infos: {'license': 0, 'url': None, 'file_name': 'batch_03/0699.jpg', 'height': 512, 'width': 512, 'date_captured': None, 'id': 2454}\n"
     ]
    },
    {
     "name": "stderr",
     "output_type": "stream",
     "text": [
      "192it [02:04,  1.57it/s]"
     ]
    },
    {
     "name": "stdout",
     "output_type": "stream",
     "text": [
      "bg_image_infos: {'license': 0, 'url': None, 'file_name': 'augmented/9_117_batch_02_vt_0934.jpg', 'height': 512, 'width': 512, 'date_captured': None, 'id': 1332}\n"
     ]
    },
    {
     "name": "stderr",
     "output_type": "stream",
     "text": [
      "193it [02:05,  1.61it/s]"
     ]
    },
    {
     "name": "stdout",
     "output_type": "stream",
     "text": [
      "bg_image_infos: {'license': 0, 'url': None, 'file_name': 'augmented/9_2605_batch_03_0604.jpg', 'height': 512, 'width': 512, 'date_captured': None, 'id': 2402}\n"
     ]
    },
    {
     "name": "stderr",
     "output_type": "stream",
     "text": [
      "194it [02:06,  1.52it/s]"
     ]
    },
    {
     "name": "stdout",
     "output_type": "stream",
     "text": [
      "bg_image_infos: {'license': 0, 'url': None, 'file_name': 'batch_01_vt/0449.jpg', 'height': 512, 'width': 512, 'date_captured': None, 'id': 284}\n"
     ]
    },
    {
     "name": "stderr",
     "output_type": "stream",
     "text": [
      "195it [02:06,  1.49it/s]"
     ]
    },
    {
     "name": "stdout",
     "output_type": "stream",
     "text": [
      "bg_image_infos: {'license': 0, 'url': None, 'file_name': 'augmented/10_1787_batch_02_vt_1412.jpg', 'height': 512, 'width': 512, 'date_captured': None, 'id': 1633}\n"
     ]
    },
    {
     "name": "stderr",
     "output_type": "stream",
     "text": [
      "196it [02:07,  1.42it/s]"
     ]
    },
    {
     "name": "stdout",
     "output_type": "stream",
     "text": [
      "bg_image_infos: {'license': 0, 'url': None, 'file_name': 'batch_02_vt/1654.jpg', 'height': 512, 'width': 512, 'date_captured': None, 'id': 1804}\n"
     ]
    },
    {
     "name": "stderr",
     "output_type": "stream",
     "text": [
      "197it [02:08,  1.41it/s]"
     ]
    },
    {
     "name": "stdout",
     "output_type": "stream",
     "text": [
      "bg_image_infos: {'license': 0, 'url': None, 'file_name': 'batch_01_vt/0128.jpg', 'height': 512, 'width': 512, 'date_captured': None, 'id': 78}\n"
     ]
    },
    {
     "name": "stderr",
     "output_type": "stream",
     "text": [
      "198it [02:09,  1.33it/s]"
     ]
    },
    {
     "name": "stdout",
     "output_type": "stream",
     "text": [
      "bg_image_infos: {'license': 0, 'url': None, 'file_name': 'augmented/9_1220_batch_02_vt_0444.jpg', 'height': 512, 'width': 512, 'date_captured': None, 'id': 1015}\n"
     ]
    },
    {
     "name": "stderr",
     "output_type": "stream",
     "text": [
      "199it [02:09,  1.42it/s]"
     ]
    },
    {
     "name": "stdout",
     "output_type": "stream",
     "text": [
      "bg_image_infos: {'license': 0, 'url': None, 'file_name': 'batch_02_vt/1444.jpg', 'height': 512, 'width': 512, 'date_captured': None, 'id': 1658}\n"
     ]
    },
    {
     "name": "stderr",
     "output_type": "stream",
     "text": [
      "200it [02:10,  1.41it/s]"
     ]
    },
    {
     "name": "stdout",
     "output_type": "stream",
     "text": [
      "bg_image_infos: {'license': 0, 'url': None, 'file_name': 'batch_01_vt/0587.jpg', 'height': 512, 'width': 512, 'date_captured': None, 'id': 375}\n"
     ]
    },
    {
     "name": "stderr",
     "output_type": "stream",
     "text": [
      "201it [02:11,  1.48it/s]"
     ]
    },
    {
     "name": "stdout",
     "output_type": "stream",
     "text": [
      "bg_image_infos: {'license': 0, 'url': None, 'file_name': 'batch_02_vt/1211.jpg', 'height': 512, 'width': 512, 'date_captured': None, 'id': 1498}\n"
     ]
    },
    {
     "name": "stderr",
     "output_type": "stream",
     "text": [
      "202it [02:11,  1.52it/s]"
     ]
    },
    {
     "name": "stdout",
     "output_type": "stream",
     "text": [
      "bg_image_infos: {'license': 0, 'url': None, 'file_name': 'batch_02_vt/1334.jpg', 'height': 512, 'width': 512, 'date_captured': None, 'id': 1579}\n"
     ]
    },
    {
     "name": "stderr",
     "output_type": "stream",
     "text": [
      "203it [02:12,  1.55it/s]"
     ]
    },
    {
     "name": "stdout",
     "output_type": "stream",
     "text": [
      "bg_image_infos: {'license': 0, 'url': None, 'file_name': 'batch_02_vt/1541.jpg', 'height': 512, 'width': 512, 'date_captured': None, 'id': 1726}\n"
     ]
    },
    {
     "name": "stderr",
     "output_type": "stream",
     "text": [
      "204it [02:13,  1.55it/s]"
     ]
    },
    {
     "name": "stdout",
     "output_type": "stream",
     "text": [
      "bg_image_infos: {'license': 0, 'url': None, 'file_name': 'batch_03/0002.jpg', 'height': 512, 'width': 512, 'date_captured': None, 'id': 2022}\n"
     ]
    },
    {
     "name": "stderr",
     "output_type": "stream",
     "text": [
      "205it [02:13,  1.55it/s]"
     ]
    },
    {
     "name": "stdout",
     "output_type": "stream",
     "text": [
      "bg_image_infos: {'license': 0, 'url': None, 'file_name': 'batch_03/0624.jpg', 'height': 512, 'width': 512, 'date_captured': None, 'id': 2413}\n"
     ]
    },
    {
     "name": "stderr",
     "output_type": "stream",
     "text": [
      "206it [02:14,  1.56it/s]"
     ]
    },
    {
     "name": "stdout",
     "output_type": "stream",
     "text": [
      "bg_image_infos: {'license': 0, 'url': None, 'file_name': 'batch_02_vt/1075.jpg', 'height': 512, 'width': 512, 'date_captured': None, 'id': 1426}\n"
     ]
    },
    {
     "name": "stderr",
     "output_type": "stream",
     "text": [
      "207it [02:14,  1.59it/s]"
     ]
    },
    {
     "name": "stdout",
     "output_type": "stream",
     "text": [
      "bg_image_infos: {'license': 0, 'url': None, 'file_name': 'augmented/10_839_augmented_9_839_batch_01_vt_0822.jpg', 'height': 512, 'width': 512, 'date_captured': None, 'id': 523}\n"
     ]
    },
    {
     "name": "stderr",
     "output_type": "stream",
     "text": [
      "208it [02:15,  1.56it/s]"
     ]
    },
    {
     "name": "stdout",
     "output_type": "stream",
     "text": [
      "bg_image_infos: {'license': 0, 'url': None, 'file_name': 'batch_02_vt/0228.jpg', 'height': 512, 'width': 512, 'date_captured': None, 'id': 890}\n"
     ]
    },
    {
     "name": "stderr",
     "output_type": "stream",
     "text": [
      "209it [02:16,  1.59it/s]"
     ]
    },
    {
     "name": "stdout",
     "output_type": "stream",
     "text": [
      "bg_image_infos: {'license': 0, 'url': None, 'file_name': 'batch_01_vt/0676.jpg', 'height': 512, 'width': 512, 'date_captured': None, 'id': 435}\n"
     ]
    },
    {
     "name": "stderr",
     "output_type": "stream",
     "text": [
      "210it [02:16,  1.55it/s]"
     ]
    },
    {
     "name": "stdout",
     "output_type": "stream",
     "text": [
      "bg_image_infos: {'license': 0, 'url': None, 'file_name': 'batch_01_vt/0987.jpg', 'height': 512, 'width': 512, 'date_captured': None, 'id': 625}\n"
     ]
    },
    {
     "name": "stderr",
     "output_type": "stream",
     "text": [
      "211it [02:17,  1.59it/s]"
     ]
    },
    {
     "name": "stdout",
     "output_type": "stream",
     "text": [
      "bg_image_infos: {'license': 0, 'url': None, 'file_name': 'batch_02_vt/2002.jpg', 'height': 512, 'width': 512, 'date_captured': None, 'id': 2019}\n"
     ]
    },
    {
     "name": "stderr",
     "output_type": "stream",
     "text": [
      "212it [02:18,  1.64it/s]"
     ]
    },
    {
     "name": "stdout",
     "output_type": "stream",
     "text": [
      "bg_image_infos: {'license': 0, 'url': None, 'file_name': 'batch_03/0957.jpg', 'height': 512, 'width': 512, 'date_captured': None, 'id': 2596}\n"
     ]
    },
    {
     "name": "stderr",
     "output_type": "stream",
     "text": [
      "213it [02:18,  1.70it/s]"
     ]
    },
    {
     "name": "stdout",
     "output_type": "stream",
     "text": [
      "bg_image_infos: {'license': 0, 'url': None, 'file_name': 'batch_02_vt/0188.jpg', 'height': 512, 'width': 512, 'date_captured': None, 'id': 865}\n"
     ]
    },
    {
     "name": "stderr",
     "output_type": "stream",
     "text": [
      "214it [02:19,  1.69it/s]"
     ]
    },
    {
     "name": "stdout",
     "output_type": "stream",
     "text": [
      "bg_image_infos: {'license': 0, 'url': None, 'file_name': 'batch_01_vt/0948.jpg', 'height': 512, 'width': 512, 'date_captured': None, 'id': 599}\n"
     ]
    },
    {
     "name": "stderr",
     "output_type": "stream",
     "text": [
      "215it [02:19,  1.55it/s]"
     ]
    },
    {
     "name": "stdout",
     "output_type": "stream",
     "text": [
      "bg_image_infos: {'license': 0, 'url': None, 'file_name': 'batch_02_vt/0283.jpg', 'height': 512, 'width': 512, 'date_captured': None, 'id': 926}\n"
     ]
    },
    {
     "name": "stderr",
     "output_type": "stream",
     "text": [
      "216it [02:20,  1.56it/s]"
     ]
    },
    {
     "name": "stdout",
     "output_type": "stream",
     "text": [
      "bg_image_infos: {'license': 0, 'url': None, 'file_name': 'batch_01_vt/1247.jpg', 'height': 512, 'width': 512, 'date_captured': None, 'id': 751}\n"
     ]
    },
    {
     "name": "stderr",
     "output_type": "stream",
     "text": [
      "217it [02:21,  1.47it/s]"
     ]
    },
    {
     "name": "stdout",
     "output_type": "stream",
     "text": [
      "bg_image_infos: {'license': 0, 'url': None, 'file_name': 'batch_02_vt/0435.jpg', 'height': 512, 'width': 512, 'date_captured': None, 'id': 1011}\n"
     ]
    },
    {
     "name": "stderr",
     "output_type": "stream",
     "text": [
      "218it [02:21,  1.56it/s]"
     ]
    },
    {
     "name": "stdout",
     "output_type": "stream",
     "text": [
      "bg_image_infos: {'license': 0, 'url': None, 'file_name': 'batch_03/0268.jpg', 'height': 512, 'width': 512, 'date_captured': None, 'id': 2181}\n"
     ]
    },
    {
     "name": "stderr",
     "output_type": "stream",
     "text": [
      "219it [02:22,  1.53it/s]"
     ]
    },
    {
     "name": "stdout",
     "output_type": "stream",
     "text": [
      "bg_image_infos: {'license': 0, 'url': None, 'file_name': 'batch_03/0782.jpg', 'height': 512, 'width': 512, 'date_captured': None, 'id': 2496}\n"
     ]
    },
    {
     "name": "stderr",
     "output_type": "stream",
     "text": [
      "220it [02:23,  1.55it/s]"
     ]
    },
    {
     "name": "stdout",
     "output_type": "stream",
     "text": [
      "bg_image_infos: {'license': 0, 'url': None, 'file_name': 'batch_02_vt/0648.jpg', 'height': 512, 'width': 512, 'date_captured': None, 'id': 1152}\n"
     ]
    },
    {
     "name": "stderr",
     "output_type": "stream",
     "text": [
      "221it [02:23,  1.49it/s]"
     ]
    },
    {
     "name": "stdout",
     "output_type": "stream",
     "text": [
      "bg_image_infos: {'license': 0, 'url': None, 'file_name': 'batch_02_vt/0319.jpg', 'height': 512, 'width': 512, 'date_captured': None, 'id': 947}\n"
     ]
    },
    {
     "name": "stderr",
     "output_type": "stream",
     "text": [
      "222it [02:24,  1.45it/s]"
     ]
    },
    {
     "name": "stdout",
     "output_type": "stream",
     "text": [
      "bg_image_infos: {'license': 0, 'url': None, 'file_name': 'batch_01_vt/1068.jpg', 'height': 512, 'width': 512, 'date_captured': None, 'id': 668}\n"
     ]
    },
    {
     "name": "stderr",
     "output_type": "stream",
     "text": [
      "223it [02:25,  1.52it/s]"
     ]
    },
    {
     "name": "stdout",
     "output_type": "stream",
     "text": [
      "bg_image_infos: {'license': 0, 'url': None, 'file_name': 'augmented/9_299_batch_02_vt_1971.jpg', 'height': 512, 'width': 512, 'date_captured': None, 'id': 1998}\n"
     ]
    },
    {
     "name": "stderr",
     "output_type": "stream",
     "text": [
      "224it [02:25,  1.59it/s]"
     ]
    },
    {
     "name": "stdout",
     "output_type": "stream",
     "text": [
      "bg_image_infos: {'license': 0, 'url': None, 'file_name': 'batch_02_vt/0953.jpg', 'height': 512, 'width': 512, 'date_captured': None, 'id': 1342}\n"
     ]
    },
    {
     "name": "stderr",
     "output_type": "stream",
     "text": [
      "225it [02:26,  1.55it/s]"
     ]
    },
    {
     "name": "stdout",
     "output_type": "stream",
     "text": [
      "bg_image_infos: {'license': 0, 'url': None, 'file_name': 'batch_01_vt/0248.jpg', 'height': 512, 'width': 512, 'date_captured': None, 'id': 157}\n"
     ]
    },
    {
     "name": "stderr",
     "output_type": "stream",
     "text": [
      "226it [02:27,  1.55it/s]"
     ]
    },
    {
     "name": "stdout",
     "output_type": "stream",
     "text": [
      "bg_image_infos: {'license': 0, 'url': None, 'file_name': 'batch_01_vt/0699.jpg', 'height': 512, 'width': 512, 'date_captured': None, 'id': 453}\n"
     ]
    },
    {
     "name": "stderr",
     "output_type": "stream",
     "text": [
      "227it [02:27,  1.53it/s]"
     ]
    },
    {
     "name": "stdout",
     "output_type": "stream",
     "text": [
      "bg_image_infos: {'license': 0, 'url': None, 'file_name': 'batch_02_vt/0499.jpg', 'height': 512, 'width': 512, 'date_captured': None, 'id': 1051}\n"
     ]
    },
    {
     "name": "stderr",
     "output_type": "stream",
     "text": [
      "228it [02:28,  1.59it/s]"
     ]
    },
    {
     "name": "stdout",
     "output_type": "stream",
     "text": [
      "bg_image_infos: {'license': 0, 'url': None, 'file_name': 'batch_02_vt/1598.jpg', 'height': 512, 'width': 512, 'date_captured': None, 'id': 1763}\n"
     ]
    },
    {
     "name": "stderr",
     "output_type": "stream",
     "text": [
      "229it [02:28,  1.62it/s]"
     ]
    },
    {
     "name": "stdout",
     "output_type": "stream",
     "text": [
      "bg_image_infos: {'license': 0, 'url': None, 'file_name': 'augmented/10_2068_augmented_9_1976_batch_03_0996.jpg', 'height': 512, 'width': 512, 'date_captured': None, 'id': 2622}\n"
     ]
    },
    {
     "name": "stderr",
     "output_type": "stream",
     "text": [
      "230it [02:29,  1.51it/s]"
     ]
    },
    {
     "name": "stdout",
     "output_type": "stream",
     "text": [
      "bg_image_infos: {'license': 0, 'url': None, 'file_name': 'batch_02_vt/0997.jpg', 'height': 512, 'width': 512, 'date_captured': None, 'id': 1370}\n"
     ]
    },
    {
     "name": "stderr",
     "output_type": "stream",
     "text": [
      "231it [02:30,  1.52it/s]"
     ]
    },
    {
     "name": "stdout",
     "output_type": "stream",
     "text": [
      "bg_image_infos: {'license': 0, 'url': None, 'file_name': 'batch_02_vt/0546.jpg', 'height': 512, 'width': 512, 'date_captured': None, 'id': 1083}\n"
     ]
    },
    {
     "name": "stderr",
     "output_type": "stream",
     "text": [
      "232it [02:31,  1.53it/s]"
     ]
    },
    {
     "name": "stdout",
     "output_type": "stream",
     "text": [
      "bg_image_infos: {'license': 0, 'url': None, 'file_name': 'batch_01_vt/0427.jpg', 'height': 512, 'width': 512, 'date_captured': None, 'id': 268}\n"
     ]
    },
    {
     "name": "stderr",
     "output_type": "stream",
     "text": [
      "233it [02:31,  1.56it/s]"
     ]
    },
    {
     "name": "stdout",
     "output_type": "stream",
     "text": [
      "bg_image_infos: {'license': 0, 'url': None, 'file_name': 'batch_01_vt/0766.jpg', 'height': 512, 'width': 512, 'date_captured': None, 'id': 490}\n"
     ]
    },
    {
     "name": "stderr",
     "output_type": "stream",
     "text": [
      "234it [02:32,  1.45it/s]"
     ]
    },
    {
     "name": "stdout",
     "output_type": "stream",
     "text": [
      "bg_image_infos: {'license': 0, 'url': None, 'file_name': 'batch_01_vt/0114.jpg', 'height': 512, 'width': 512, 'date_captured': None, 'id': 67}\n"
     ]
    },
    {
     "name": "stderr",
     "output_type": "stream",
     "text": [
      "235it [02:33,  1.48it/s]"
     ]
    },
    {
     "name": "stdout",
     "output_type": "stream",
     "text": [
      "bg_image_infos: {'license': 0, 'url': None, 'file_name': 'augmented/9_908_batch_01_vt_0641.jpg', 'height': 512, 'width': 512, 'date_captured': None, 'id': 409}\n"
     ]
    },
    {
     "name": "stderr",
     "output_type": "stream",
     "text": [
      "236it [02:33,  1.54it/s]"
     ]
    },
    {
     "name": "stdout",
     "output_type": "stream",
     "text": [
      "bg_image_infos: {'license': 0, 'url': None, 'file_name': 'batch_01_vt/0728.jpg', 'height': 512, 'width': 512, 'date_captured': None, 'id': 470}\n"
     ]
    },
    {
     "name": "stderr",
     "output_type": "stream",
     "text": [
      "237it [02:34,  1.56it/s]"
     ]
    },
    {
     "name": "stdout",
     "output_type": "stream",
     "text": [
      "bg_image_infos: {'license': 0, 'url': None, 'file_name': 'batch_01_vt/1203.jpg', 'height': 512, 'width': 512, 'date_captured': None, 'id': 736}\n"
     ]
    },
    {
     "name": "stderr",
     "output_type": "stream",
     "text": [
      "238it [02:34,  1.57it/s]"
     ]
    },
    {
     "name": "stdout",
     "output_type": "stream",
     "text": [
      "bg_image_infos: {'license': 0, 'url': None, 'file_name': 'batch_01_vt/1117.jpg', 'height': 512, 'width': 512, 'date_captured': None, 'id': 693}\n"
     ]
    },
    {
     "name": "stderr",
     "output_type": "stream",
     "text": [
      "239it [02:35,  1.58it/s]"
     ]
    },
    {
     "name": "stdout",
     "output_type": "stream",
     "text": [
      "bg_image_infos: {'license': 0, 'url': None, 'file_name': 'batch_01_vt/0245.jpg', 'height': 512, 'width': 512, 'date_captured': None, 'id': 155}\n"
     ]
    },
    {
     "name": "stderr",
     "output_type": "stream",
     "text": [
      "240it [02:36,  1.56it/s]"
     ]
    },
    {
     "name": "stdout",
     "output_type": "stream",
     "text": [
      "bg_image_infos: {'license': 0, 'url': None, 'file_name': 'augmented/9_109_batch_02_vt_1688.jpg', 'height': 512, 'width': 512, 'date_captured': None, 'id': 1828}\n"
     ]
    },
    {
     "name": "stderr",
     "output_type": "stream",
     "text": [
      "241it [02:36,  1.60it/s]"
     ]
    },
    {
     "name": "stdout",
     "output_type": "stream",
     "text": [
      "bg_image_infos: {'license': 0, 'url': None, 'file_name': 'augmented/10_1225_batch_03_0065.jpg', 'height': 512, 'width': 512, 'date_captured': None, 'id': 2059}\n"
     ]
    },
    {
     "name": "stderr",
     "output_type": "stream",
     "text": [
      "242it [02:37,  1.62it/s]"
     ]
    },
    {
     "name": "stdout",
     "output_type": "stream",
     "text": [
      "bg_image_infos: {'license': 0, 'url': None, 'file_name': 'batch_02_vt/1514.jpg', 'height': 512, 'width': 512, 'date_captured': None, 'id': 1705}\n"
     ]
    },
    {
     "name": "stderr",
     "output_type": "stream",
     "text": [
      "243it [02:38,  1.62it/s]"
     ]
    },
    {
     "name": "stdout",
     "output_type": "stream",
     "text": [
      "bg_image_infos: {'license': 0, 'url': None, 'file_name': 'batch_02_vt/0534.jpg', 'height': 512, 'width': 512, 'date_captured': None, 'id': 1075}\n"
     ]
    },
    {
     "name": "stderr",
     "output_type": "stream",
     "text": [
      "244it [02:38,  1.53it/s]"
     ]
    },
    {
     "name": "stdout",
     "output_type": "stream",
     "text": [
      "bg_image_infos: {'license': 0, 'url': None, 'file_name': 'batch_01_vt/1259.jpg', 'height': 512, 'width': 512, 'date_captured': None, 'id': 755}\n"
     ]
    },
    {
     "name": "stderr",
     "output_type": "stream",
     "text": [
      "245it [02:39,  1.64it/s]"
     ]
    },
    {
     "name": "stdout",
     "output_type": "stream",
     "text": [
      "bg_image_infos: {'license': 0, 'url': None, 'file_name': 'batch_02_vt/0139.jpg', 'height': 512, 'width': 512, 'date_captured': None, 'id': 840}\n"
     ]
    },
    {
     "name": "stderr",
     "output_type": "stream",
     "text": [
      "246it [02:39,  1.66it/s]"
     ]
    },
    {
     "name": "stdout",
     "output_type": "stream",
     "text": [
      "bg_image_infos: {'license': 0, 'url': None, 'file_name': 'batch_02_vt/1381.jpg', 'height': 512, 'width': 512, 'date_captured': None, 'id': 1612}\n"
     ]
    },
    {
     "name": "stderr",
     "output_type": "stream",
     "text": [
      "247it [02:40,  1.64it/s]"
     ]
    },
    {
     "name": "stdout",
     "output_type": "stream",
     "text": [
      "bg_image_infos: {'license': 0, 'url': None, 'file_name': 'augmented/10_405_batch_02_vt_1413.jpg', 'height': 512, 'width': 512, 'date_captured': None, 'id': 1634}\n"
     ]
    },
    {
     "name": "stderr",
     "output_type": "stream",
     "text": [
      "248it [02:41,  1.56it/s]"
     ]
    },
    {
     "name": "stdout",
     "output_type": "stream",
     "text": [
      "bg_image_infos: {'license': 0, 'url': None, 'file_name': 'batch_02_vt/1743.jpg', 'height': 512, 'width': 512, 'date_captured': None, 'id': 1861}\n"
     ]
    },
    {
     "name": "stderr",
     "output_type": "stream",
     "text": [
      "249it [02:41,  1.60it/s]"
     ]
    },
    {
     "name": "stdout",
     "output_type": "stream",
     "text": [
      "bg_image_infos: {'license': 0, 'url': None, 'file_name': 'batch_02_vt/1929.jpg', 'height': 512, 'width': 512, 'date_captured': None, 'id': 1968}\n"
     ]
    },
    {
     "name": "stderr",
     "output_type": "stream",
     "text": [
      "250it [02:42,  1.62it/s]"
     ]
    },
    {
     "name": "stdout",
     "output_type": "stream",
     "text": [
      "bg_image_infos: {'license': 0, 'url': None, 'file_name': 'batch_03/0886.jpg', 'height': 512, 'width': 512, 'date_captured': None, 'id': 2552}\n"
     ]
    },
    {
     "name": "stderr",
     "output_type": "stream",
     "text": [
      "251it [02:43,  1.60it/s]"
     ]
    },
    {
     "name": "stdout",
     "output_type": "stream",
     "text": [
      "bg_image_infos: {'license': 0, 'url': None, 'file_name': 'augmented/9_2037_batch_02_vt_0568.jpg', 'height': 512, 'width': 512, 'date_captured': None, 'id': 1100}\n"
     ]
    },
    {
     "name": "stderr",
     "output_type": "stream",
     "text": [
      "252it [02:43,  1.53it/s]"
     ]
    },
    {
     "name": "stdout",
     "output_type": "stream",
     "text": [
      "bg_image_infos: {'license': 0, 'url': None, 'file_name': 'batch_03/0847.jpg', 'height': 512, 'width': 512, 'date_captured': None, 'id': 2531}\n"
     ]
    },
    {
     "name": "stderr",
     "output_type": "stream",
     "text": [
      "253it [02:44,  1.58it/s]"
     ]
    },
    {
     "name": "stdout",
     "output_type": "stream",
     "text": [
      "bg_image_infos: {'license': 0, 'url': None, 'file_name': 'batch_02_vt/1048.jpg', 'height': 512, 'width': 512, 'date_captured': None, 'id': 1407}\n"
     ]
    },
    {
     "name": "stderr",
     "output_type": "stream",
     "text": [
      "254it [02:44,  1.64it/s]"
     ]
    },
    {
     "name": "stdout",
     "output_type": "stream",
     "text": [
      "bg_image_infos: {'license': 0, 'url': None, 'file_name': 'batch_02_vt/1867.jpg', 'height': 512, 'width': 512, 'date_captured': None, 'id': 1926}\n"
     ]
    },
    {
     "name": "stderr",
     "output_type": "stream",
     "text": [
      "255it [02:45,  1.68it/s]"
     ]
    },
    {
     "name": "stdout",
     "output_type": "stream",
     "text": [
      "bg_image_infos: {'license': 0, 'url': None, 'file_name': 'batch_01_vt/1176.jpg', 'height': 512, 'width': 512, 'date_captured': None, 'id': 722}\n"
     ]
    },
    {
     "name": "stderr",
     "output_type": "stream",
     "text": [
      "256it [02:46,  1.70it/s]"
     ]
    },
    {
     "name": "stdout",
     "output_type": "stream",
     "text": [
      "bg_image_infos: {'license': 0, 'url': None, 'file_name': 'batch_02_vt/1405.jpg', 'height': 512, 'width': 512, 'date_captured': None, 'id': 1629}\n"
     ]
    },
    {
     "name": "stderr",
     "output_type": "stream",
     "text": [
      "257it [02:46,  1.69it/s]"
     ]
    },
    {
     "name": "stdout",
     "output_type": "stream",
     "text": [
      "bg_image_infos: {'license': 0, 'url': None, 'file_name': 'batch_02_vt/1932.jpg', 'height': 512, 'width': 512, 'date_captured': None, 'id': 1971}\n"
     ]
    },
    {
     "name": "stderr",
     "output_type": "stream",
     "text": [
      "258it [02:47,  1.52it/s]"
     ]
    },
    {
     "name": "stdout",
     "output_type": "stream",
     "text": [
      "bg_image_infos: {'license': 0, 'url': None, 'file_name': 'batch_02_vt/1650.jpg', 'height': 512, 'width': 512, 'date_captured': None, 'id': 1802}\n"
     ]
    },
    {
     "name": "stderr",
     "output_type": "stream",
     "text": [
      "259it [02:48,  1.46it/s]"
     ]
    },
    {
     "name": "stdout",
     "output_type": "stream",
     "text": [
      "bg_image_infos: {'license': 0, 'url': None, 'file_name': 'batch_03/0485.jpg', 'height': 512, 'width': 512, 'date_captured': None, 'id': 2321}\n"
     ]
    },
    {
     "name": "stderr",
     "output_type": "stream",
     "text": [
      "260it [02:48,  1.51it/s]"
     ]
    },
    {
     "name": "stdout",
     "output_type": "stream",
     "text": [
      "bg_image_infos: {'license': 0, 'url': None, 'file_name': 'augmented/10_178_batch_02_vt_1471.jpg', 'height': 512, 'width': 512, 'date_captured': None, 'id': 1677}\n"
     ]
    },
    {
     "name": "stderr",
     "output_type": "stream",
     "text": [
      "261it [02:49,  1.55it/s]"
     ]
    },
    {
     "name": "stdout",
     "output_type": "stream",
     "text": [
      "bg_image_infos: {'license': 0, 'url': None, 'file_name': 'augmented/10_1012_augmented_9_978_batch_01_vt_1070.jpg', 'height': 512, 'width': 512, 'date_captured': None, 'id': 670}\n"
     ]
    },
    {
     "name": "stderr",
     "output_type": "stream",
     "text": [
      "262it [02:50,  1.46it/s]"
     ]
    },
    {
     "name": "stdout",
     "output_type": "stream",
     "text": [
      "bg_image_infos: {'license': 0, 'url': None, 'file_name': 'batch_02_vt/1622.jpg', 'height': 512, 'width': 512, 'date_captured': None, 'id': 1781}\n"
     ]
    },
    {
     "name": "stderr",
     "output_type": "stream",
     "text": [
      "263it [02:50,  1.52it/s]"
     ]
    },
    {
     "name": "stdout",
     "output_type": "stream",
     "text": [
      "bg_image_infos: {'license': 0, 'url': None, 'file_name': 'augmented/9_1890_batch_02_vt_0614.jpg', 'height': 512, 'width': 512, 'date_captured': None, 'id': 1132}\n"
     ]
    },
    {
     "name": "stderr",
     "output_type": "stream",
     "text": [
      "264it [02:51,  1.56it/s]"
     ]
    },
    {
     "name": "stdout",
     "output_type": "stream",
     "text": [
      "bg_image_infos: {'license': 0, 'url': None, 'file_name': 'batch_02_vt/1996.jpg', 'height': 512, 'width': 512, 'date_captured': None, 'id': 2014}\n"
     ]
    },
    {
     "name": "stderr",
     "output_type": "stream",
     "text": [
      "265it [02:51,  1.60it/s]"
     ]
    },
    {
     "name": "stdout",
     "output_type": "stream",
     "text": [
      "bg_image_infos: {'license': 0, 'url': None, 'file_name': 'batch_02_vt/0143.jpg', 'height': 512, 'width': 512, 'date_captured': None, 'id': 842}\n"
     ]
    },
    {
     "name": "stderr",
     "output_type": "stream",
     "text": [
      "266it [02:52,  1.62it/s]"
     ]
    },
    {
     "name": "stdout",
     "output_type": "stream",
     "text": [
      "bg_image_infos: {'license': 0, 'url': None, 'file_name': 'batch_02_vt/0255.jpg', 'height': 512, 'width': 512, 'date_captured': None, 'id': 909}\n"
     ]
    },
    {
     "name": "stderr",
     "output_type": "stream",
     "text": [
      "267it [02:53,  1.63it/s]"
     ]
    },
    {
     "name": "stdout",
     "output_type": "stream",
     "text": [
      "bg_image_infos: {'license': 0, 'url': None, 'file_name': 'batch_03/0052.jpg', 'height': 512, 'width': 512, 'date_captured': None, 'id': 2051}\n"
     ]
    },
    {
     "name": "stderr",
     "output_type": "stream",
     "text": [
      "268it [02:53,  1.62it/s]"
     ]
    },
    {
     "name": "stdout",
     "output_type": "stream",
     "text": [
      "bg_image_infos: {'license': 0, 'url': None, 'file_name': 'batch_03/0935.jpg', 'height': 512, 'width': 512, 'date_captured': None, 'id': 2581}\n"
     ]
    },
    {
     "name": "stderr",
     "output_type": "stream",
     "text": [
      "269it [02:54,  1.59it/s]"
     ]
    },
    {
     "name": "stdout",
     "output_type": "stream",
     "text": [
      "bg_image_infos: {'license': 0, 'url': None, 'file_name': 'batch_02_vt/1606.jpg', 'height': 512, 'width': 512, 'date_captured': None, 'id': 1769}\n"
     ]
    },
    {
     "name": "stderr",
     "output_type": "stream",
     "text": [
      "270it [02:55,  1.59it/s]"
     ]
    },
    {
     "name": "stdout",
     "output_type": "stream",
     "text": [
      "bg_image_infos: {'license': 0, 'url': None, 'file_name': 'augmented/10_48_batch_03_0834.jpg', 'height': 512, 'width': 512, 'date_captured': None, 'id': 2523}\n"
     ]
    },
    {
     "name": "stderr",
     "output_type": "stream",
     "text": [
      "271it [02:55,  1.62it/s]"
     ]
    },
    {
     "name": "stdout",
     "output_type": "stream",
     "text": [
      "bg_image_infos: {'license': 0, 'url': None, 'file_name': 'batch_01_vt/0749.jpg', 'height': 512, 'width': 512, 'date_captured': None, 'id': 482}\n"
     ]
    },
    {
     "name": "stderr",
     "output_type": "stream",
     "text": [
      "272it [02:56,  1.57it/s]"
     ]
    },
    {
     "name": "stdout",
     "output_type": "stream",
     "text": [
      "bg_image_infos: {'license': 0, 'url': None, 'file_name': 'augmented/9_1220_batch_01_vt_0090.jpg', 'height': 512, 'width': 512, 'date_captured': None, 'id': 54}\n"
     ]
    },
    {
     "name": "stderr",
     "output_type": "stream",
     "text": [
      "273it [02:57,  1.51it/s]"
     ]
    },
    {
     "name": "stdout",
     "output_type": "stream",
     "text": [
      "bg_image_infos: {'license': 0, 'url': None, 'file_name': 'batch_03/0659.jpg', 'height': 512, 'width': 512, 'date_captured': None, 'id': 2432}\n"
     ]
    },
    {
     "name": "stderr",
     "output_type": "stream",
     "text": [
      "274it [02:57,  1.55it/s]"
     ]
    },
    {
     "name": "stdout",
     "output_type": "stream",
     "text": [
      "bg_image_infos: {'license': 0, 'url': None, 'file_name': 'batch_03/0288.jpg', 'height': 512, 'width': 512, 'date_captured': None, 'id': 2195}\n"
     ]
    },
    {
     "name": "stderr",
     "output_type": "stream",
     "text": [
      "275it [02:58,  1.61it/s]"
     ]
    },
    {
     "name": "stdout",
     "output_type": "stream",
     "text": [
      "bg_image_infos: {'license': 0, 'url': None, 'file_name': 'batch_02_vt/1154.jpg', 'height': 512, 'width': 512, 'date_captured': None, 'id': 1467}\n"
     ]
    },
    {
     "name": "stderr",
     "output_type": "stream",
     "text": [
      "276it [02:58,  1.65it/s]"
     ]
    },
    {
     "name": "stdout",
     "output_type": "stream",
     "text": [
      "bg_image_infos: {'license': 0, 'url': None, 'file_name': 'batch_02_vt/1483.jpg', 'height': 512, 'width': 512, 'date_captured': None, 'id': 1688}\n"
     ]
    },
    {
     "name": "stderr",
     "output_type": "stream",
     "text": [
      "277it [02:59,  1.68it/s]"
     ]
    },
    {
     "name": "stdout",
     "output_type": "stream",
     "text": [
      "bg_image_infos: {'license': 0, 'url': None, 'file_name': 'batch_03/0253.jpg', 'height': 512, 'width': 512, 'date_captured': None, 'id': 2170}\n"
     ]
    },
    {
     "name": "stderr",
     "output_type": "stream",
     "text": [
      "278it [03:00,  1.58it/s]"
     ]
    },
    {
     "name": "stdout",
     "output_type": "stream",
     "text": [
      "bg_image_infos: {'license': 0, 'url': None, 'file_name': 'batch_01_vt/0510.jpg', 'height': 512, 'width': 512, 'date_captured': None, 'id': 319}\n"
     ]
    },
    {
     "name": "stderr",
     "output_type": "stream",
     "text": [
      "279it [03:00,  1.61it/s]"
     ]
    },
    {
     "name": "stdout",
     "output_type": "stream",
     "text": [
      "bg_image_infos: {'license': 0, 'url': None, 'file_name': 'augmented/10_1003_augmented_9_953_batch_03_0951.jpg', 'height': 512, 'width': 512, 'date_captured': None, 'id': 2590}\n"
     ]
    },
    {
     "name": "stderr",
     "output_type": "stream",
     "text": [
      "280it [03:01,  1.61it/s]"
     ]
    },
    {
     "name": "stdout",
     "output_type": "stream",
     "text": [
      "bg_image_infos: {'license': 0, 'url': None, 'file_name': 'batch_02_vt/0162.jpg', 'height': 512, 'width': 512, 'date_captured': None, 'id': 851}\n"
     ]
    },
    {
     "name": "stderr",
     "output_type": "stream",
     "text": [
      "281it [03:02,  1.53it/s]"
     ]
    },
    {
     "name": "stdout",
     "output_type": "stream",
     "text": [
      "bg_image_infos: {'license': 0, 'url': None, 'file_name': 'batch_02_vt/0914.jpg', 'height': 512, 'width': 512, 'date_captured': None, 'id': 1319}\n"
     ]
    },
    {
     "name": "stderr",
     "output_type": "stream",
     "text": [
      "282it [03:02,  1.50it/s]"
     ]
    },
    {
     "name": "stdout",
     "output_type": "stream",
     "text": [
      "bg_image_infos: {'license': 0, 'url': None, 'file_name': 'batch_01_vt/0581.jpg', 'height': 512, 'width': 512, 'date_captured': None, 'id': 372}\n"
     ]
    },
    {
     "name": "stderr",
     "output_type": "stream",
     "text": [
      "283it [03:03,  1.53it/s]"
     ]
    },
    {
     "name": "stdout",
     "output_type": "stream",
     "text": [
      "bg_image_infos: {'license': 0, 'url': None, 'file_name': 'batch_01_vt/0694.jpg', 'height': 512, 'width': 512, 'date_captured': None, 'id': 449}\n"
     ]
    },
    {
     "name": "stderr",
     "output_type": "stream",
     "text": [
      "284it [03:03,  1.55it/s]"
     ]
    },
    {
     "name": "stdout",
     "output_type": "stream",
     "text": [
      "bg_image_infos: {'license': 0, 'url': None, 'file_name': 'batch_02_vt/1561.jpg', 'height': 512, 'width': 512, 'date_captured': None, 'id': 1740}\n"
     ]
    },
    {
     "name": "stderr",
     "output_type": "stream",
     "text": [
      "285it [03:04,  1.53it/s]"
     ]
    },
    {
     "name": "stdout",
     "output_type": "stream",
     "text": [
      "bg_image_infos: {'license': 0, 'url': None, 'file_name': 'augmented/10_2258_batch_02_vt_1349.jpg', 'height': 512, 'width': 512, 'date_captured': None, 'id': 1591}\n"
     ]
    },
    {
     "name": "stderr",
     "output_type": "stream",
     "text": [
      "286it [03:05,  1.60it/s]"
     ]
    },
    {
     "name": "stdout",
     "output_type": "stream",
     "text": [
      "bg_image_infos: {'license': 0, 'url': None, 'file_name': 'batch_02_vt/0885.jpg', 'height': 512, 'width': 512, 'date_captured': None, 'id': 1301}\n"
     ]
    },
    {
     "name": "stderr",
     "output_type": "stream",
     "text": [
      "287it [03:05,  1.59it/s]"
     ]
    },
    {
     "name": "stdout",
     "output_type": "stream",
     "text": [
      "bg_image_infos: {'license': 0, 'url': None, 'file_name': 'batch_01_vt/0456.jpg', 'height': 512, 'width': 512, 'date_captured': None, 'id': 290}\n"
     ]
    },
    {
     "name": "stderr",
     "output_type": "stream",
     "text": [
      "288it [03:06,  1.50it/s]"
     ]
    },
    {
     "name": "stdout",
     "output_type": "stream",
     "text": [
      "bg_image_infos: {'license': 0, 'url': None, 'file_name': 'batch_02_vt/0354.jpg', 'height': 512, 'width': 512, 'date_captured': None, 'id': 965}\n"
     ]
    },
    {
     "name": "stderr",
     "output_type": "stream",
     "text": [
      "289it [03:07,  1.45it/s]"
     ]
    },
    {
     "name": "stdout",
     "output_type": "stream",
     "text": [
      "bg_image_infos: {'license': 0, 'url': None, 'file_name': 'batch_03/0056.jpg', 'height': 512, 'width': 512, 'date_captured': None, 'id': 2054}\n"
     ]
    },
    {
     "name": "stderr",
     "output_type": "stream",
     "text": [
      "290it [03:07,  1.48it/s]"
     ]
    },
    {
     "name": "stdout",
     "output_type": "stream",
     "text": [
      "bg_image_infos: {'license': 0, 'url': None, 'file_name': 'batch_01_vt/0788.jpg', 'height': 512, 'width': 512, 'date_captured': None, 'id': 502}\n"
     ]
    },
    {
     "name": "stderr",
     "output_type": "stream",
     "text": [
      "291it [03:08,  1.54it/s]"
     ]
    },
    {
     "name": "stdout",
     "output_type": "stream",
     "text": [
      "bg_image_infos: {'license': 0, 'url': None, 'file_name': 'batch_03/0047.jpg', 'height': 512, 'width': 512, 'date_captured': None, 'id': 2049}\n"
     ]
    },
    {
     "name": "stderr",
     "output_type": "stream",
     "text": [
      "292it [03:09,  1.54it/s]"
     ]
    },
    {
     "name": "stdout",
     "output_type": "stream",
     "text": [
      "bg_image_infos: {'license': 0, 'url': None, 'file_name': 'batch_02_vt/0563.jpg', 'height': 512, 'width': 512, 'date_captured': None, 'id': 1096}\n"
     ]
    },
    {
     "name": "stderr",
     "output_type": "stream",
     "text": [
      "293it [03:09,  1.48it/s]"
     ]
    },
    {
     "name": "stdout",
     "output_type": "stream",
     "text": [
      "bg_image_infos: {'license': 0, 'url': None, 'file_name': 'augmented/9_1998_batch_03_0882.jpg', 'height': 512, 'width': 512, 'date_captured': None, 'id': 2549}\n"
     ]
    },
    {
     "name": "stderr",
     "output_type": "stream",
     "text": [
      "294it [03:10,  1.55it/s]"
     ]
    },
    {
     "name": "stdout",
     "output_type": "stream",
     "text": [
      "bg_image_infos: {'license': 0, 'url': None, 'file_name': 'batch_02_vt/1221.jpg', 'height': 512, 'width': 512, 'date_captured': None, 'id': 1505}\n"
     ]
    },
    {
     "name": "stderr",
     "output_type": "stream",
     "text": [
      "295it [03:11,  1.57it/s]"
     ]
    },
    {
     "name": "stdout",
     "output_type": "stream",
     "text": [
      "bg_image_infos: {'license': 0, 'url': None, 'file_name': 'batch_01_vt/0553.jpg', 'height': 512, 'width': 512, 'date_captured': None, 'id': 350}\n"
     ]
    },
    {
     "name": "stderr",
     "output_type": "stream",
     "text": [
      "296it [03:11,  1.53it/s]"
     ]
    },
    {
     "name": "stdout",
     "output_type": "stream",
     "text": [
      "bg_image_infos: {'license': 0, 'url': None, 'file_name': 'batch_02_vt/1955.jpg', 'height': 512, 'width': 512, 'date_captured': None, 'id': 1987}\n"
     ]
    },
    {
     "name": "stderr",
     "output_type": "stream",
     "text": [
      "297it [03:12,  1.62it/s]"
     ]
    },
    {
     "name": "stdout",
     "output_type": "stream",
     "text": [
      "bg_image_infos: {'license': 0, 'url': None, 'file_name': 'batch_03/0223.jpg', 'height': 512, 'width': 512, 'date_captured': None, 'id': 2152}\n"
     ]
    },
    {
     "name": "stderr",
     "output_type": "stream",
     "text": [
      "298it [03:12,  1.63it/s]"
     ]
    },
    {
     "name": "stdout",
     "output_type": "stream",
     "text": [
      "bg_image_infos: {'license': 0, 'url': None, 'file_name': 'batch_02_vt/0605.jpg', 'height': 512, 'width': 512, 'date_captured': None, 'id': 1124}\n"
     ]
    },
    {
     "name": "stderr",
     "output_type": "stream",
     "text": [
      "299it [03:13,  1.64it/s]"
     ]
    },
    {
     "name": "stdout",
     "output_type": "stream",
     "text": [
      "bg_image_infos: {'license': 0, 'url': None, 'file_name': 'batch_03/0607.jpg', 'height': 512, 'width': 512, 'date_captured': None, 'id': 2403}\n"
     ]
    },
    {
     "name": "stderr",
     "output_type": "stream",
     "text": [
      "300it [03:14,  1.62it/s]"
     ]
    },
    {
     "name": "stdout",
     "output_type": "stream",
     "text": [
      "bg_image_infos: {'license': 0, 'url': None, 'file_name': 'batch_02_vt/1560.jpg', 'height': 512, 'width': 512, 'date_captured': None, 'id': 1739}\n"
     ]
    },
    {
     "name": "stderr",
     "output_type": "stream",
     "text": [
      "301it [03:14,  1.55it/s]"
     ]
    },
    {
     "name": "stdout",
     "output_type": "stream",
     "text": [
      "bg_image_infos: {'license': 0, 'url': None, 'file_name': 'augmented/10_660_batch_02_vt_0862.jpg', 'height': 512, 'width': 512, 'date_captured': None, 'id': 1285}\n"
     ]
    },
    {
     "name": "stderr",
     "output_type": "stream",
     "text": [
      "302it [03:15,  1.59it/s]"
     ]
    },
    {
     "name": "stdout",
     "output_type": "stream",
     "text": [
      "bg_image_infos: {'license': 0, 'url': None, 'file_name': 'augmented/10_1678_batch_02_vt_1507.jpg', 'height': 512, 'width': 512, 'date_captured': None, 'id': 1702}\n"
     ]
    },
    {
     "name": "stderr",
     "output_type": "stream",
     "text": [
      "303it [03:16,  1.48it/s]"
     ]
    },
    {
     "name": "stdout",
     "output_type": "stream",
     "text": [
      "bg_image_infos: {'license': 0, 'url': None, 'file_name': 'batch_03/0664.jpg', 'height': 512, 'width': 512, 'date_captured': None, 'id': 2436}\n"
     ]
    },
    {
     "name": "stderr",
     "output_type": "stream",
     "text": [
      "304it [03:16,  1.55it/s]"
     ]
    },
    {
     "name": "stdout",
     "output_type": "stream",
     "text": [
      "bg_image_infos: {'license': 0, 'url': None, 'file_name': 'batch_03/0141.jpg', 'height': 512, 'width': 512, 'date_captured': None, 'id': 2095}\n"
     ]
    },
    {
     "name": "stderr",
     "output_type": "stream",
     "text": [
      "305it [03:17,  1.49it/s]"
     ]
    },
    {
     "name": "stdout",
     "output_type": "stream",
     "text": [
      "bg_image_infos: {'license': 0, 'url': None, 'file_name': 'batch_01_vt/0655.jpg', 'height': 512, 'width': 512, 'date_captured': None, 'id': 419}\n"
     ]
    },
    {
     "name": "stderr",
     "output_type": "stream",
     "text": [
      "306it [03:18,  1.43it/s]"
     ]
    },
    {
     "name": "stdout",
     "output_type": "stream",
     "text": [
      "bg_image_infos: {'license': 0, 'url': None, 'file_name': 'batch_02_vt/1335.jpg', 'height': 512, 'width': 512, 'date_captured': None, 'id': 1580}\n"
     ]
    },
    {
     "name": "stderr",
     "output_type": "stream",
     "text": [
      "307it [03:18,  1.49it/s]"
     ]
    },
    {
     "name": "stdout",
     "output_type": "stream",
     "text": [
      "bg_image_infos: {'license': 0, 'url': None, 'file_name': 'batch_01_vt/0059.jpg', 'height': 512, 'width': 512, 'date_captured': None, 'id': 37}\n"
     ]
    },
    {
     "name": "stderr",
     "output_type": "stream",
     "text": [
      "308it [03:19,  1.53it/s]"
     ]
    },
    {
     "name": "stdout",
     "output_type": "stream",
     "text": [
      "bg_image_infos: {'license': 0, 'url': None, 'file_name': 'batch_01_vt/0644.jpg', 'height': 512, 'width': 512, 'date_captured': None, 'id': 412}\n"
     ]
    },
    {
     "name": "stderr",
     "output_type": "stream",
     "text": [
      "309it [03:20,  1.53it/s]"
     ]
    },
    {
     "name": "stdout",
     "output_type": "stream",
     "text": [
      "bg_image_infos: {'license': 0, 'url': None, 'file_name': 'batch_03/0087.jpg', 'height': 512, 'width': 512, 'date_captured': None, 'id': 2072}\n"
     ]
    },
    {
     "name": "stderr",
     "output_type": "stream",
     "text": [
      "310it [03:20,  1.53it/s]"
     ]
    },
    {
     "name": "stdout",
     "output_type": "stream",
     "text": [
      "bg_image_infos: {'license': 0, 'url': None, 'file_name': 'batch_02_vt/1034.jpg', 'height': 512, 'width': 512, 'date_captured': None, 'id': 1395}\n"
     ]
    },
    {
     "name": "stderr",
     "output_type": "stream",
     "text": [
      "311it [03:21,  1.58it/s]"
     ]
    },
    {
     "name": "stdout",
     "output_type": "stream",
     "text": [
      "bg_image_infos: {'license': 0, 'url': None, 'file_name': 'batch_03/0752.jpg', 'height': 512, 'width': 512, 'date_captured': None, 'id': 2478}\n"
     ]
    },
    {
     "name": "stderr",
     "output_type": "stream",
     "text": [
      "312it [03:22,  1.62it/s]"
     ]
    },
    {
     "name": "stdout",
     "output_type": "stream",
     "text": [
      "bg_image_infos: {'license': 0, 'url': None, 'file_name': 'batch_02_vt/1455.jpg', 'height': 512, 'width': 512, 'date_captured': None, 'id': 1666}\n"
     ]
    },
    {
     "name": "stderr",
     "output_type": "stream",
     "text": [
      "313it [03:22,  1.63it/s]"
     ]
    },
    {
     "name": "stdout",
     "output_type": "stream",
     "text": [
      "bg_image_infos: {'license': 0, 'url': None, 'file_name': 'batch_01_vt/1243.jpg', 'height': 512, 'width': 512, 'date_captured': None, 'id': 748}\n"
     ]
    },
    {
     "name": "stderr",
     "output_type": "stream",
     "text": [
      "314it [03:23,  1.63it/s]"
     ]
    },
    {
     "name": "stdout",
     "output_type": "stream",
     "text": [
      "bg_image_infos: {'license': 0, 'url': None, 'file_name': 'batch_01_vt/0642.jpg', 'height': 512, 'width': 512, 'date_captured': None, 'id': 410}\n"
     ]
    },
    {
     "name": "stderr",
     "output_type": "stream",
     "text": [
      "315it [03:24,  1.55it/s]"
     ]
    },
    {
     "name": "stdout",
     "output_type": "stream",
     "text": [
      "bg_image_infos: {'license': 0, 'url': None, 'file_name': 'batch_02_vt/1672.jpg', 'height': 512, 'width': 512, 'date_captured': None, 'id': 1817}\n"
     ]
    },
    {
     "name": "stderr",
     "output_type": "stream",
     "text": [
      "316it [03:24,  1.59it/s]"
     ]
    },
    {
     "name": "stdout",
     "output_type": "stream",
     "text": [
      "bg_image_infos: {'license': 0, 'url': None, 'file_name': 'batch_02_vt/1382.jpg', 'height': 512, 'width': 512, 'date_captured': None, 'id': 1613}\n"
     ]
    },
    {
     "name": "stderr",
     "output_type": "stream",
     "text": [
      "317it [03:25,  1.56it/s]"
     ]
    },
    {
     "name": "stdout",
     "output_type": "stream",
     "text": [
      "bg_image_infos: {'license': 0, 'url': None, 'file_name': 'batch_03/0495.jpg', 'height': 512, 'width': 512, 'date_captured': None, 'id': 2328}\n"
     ]
    },
    {
     "name": "stderr",
     "output_type": "stream",
     "text": [
      "318it [03:25,  1.52it/s]"
     ]
    },
    {
     "name": "stdout",
     "output_type": "stream",
     "text": [
      "bg_image_infos: {'license': 0, 'url': None, 'file_name': 'batch_01_vt/0935.jpg', 'height': 512, 'width': 512, 'date_captured': None, 'id': 591}\n"
     ]
    },
    {
     "name": "stderr",
     "output_type": "stream",
     "text": [
      "319it [03:26,  1.67it/s]"
     ]
    },
    {
     "name": "stdout",
     "output_type": "stream",
     "text": [
      "bg_image_infos: {'license': 0, 'url': None, 'file_name': 'batch_01_vt/1183.jpg', 'height': 512, 'width': 512, 'date_captured': None, 'id': 726}\n"
     ]
    },
    {
     "name": "stderr",
     "output_type": "stream",
     "text": [
      "320it [03:27,  1.57it/s]"
     ]
    },
    {
     "name": "stdout",
     "output_type": "stream",
     "text": [
      "bg_image_infos: {'license': 0, 'url': None, 'file_name': 'batch_01_vt/0701.jpg', 'height': 512, 'width': 512, 'date_captured': None, 'id': 455}\n"
     ]
    },
    {
     "name": "stderr",
     "output_type": "stream",
     "text": [
      "321it [03:27,  1.59it/s]"
     ]
    },
    {
     "name": "stdout",
     "output_type": "stream",
     "text": [
      "bg_image_infos: {'license': 0, 'url': None, 'file_name': 'batch_02_vt/1582.jpg', 'height': 512, 'width': 512, 'date_captured': None, 'id': 1752}\n"
     ]
    },
    {
     "name": "stderr",
     "output_type": "stream",
     "text": [
      "322it [03:28,  1.55it/s]"
     ]
    },
    {
     "name": "stdout",
     "output_type": "stream",
     "text": [
      "bg_image_infos: {'license': 0, 'url': None, 'file_name': 'batch_03/0763.jpg', 'height': 512, 'width': 512, 'date_captured': None, 'id': 2484}\n"
     ]
    },
    {
     "name": "stderr",
     "output_type": "stream",
     "text": [
      "323it [03:29,  1.43it/s]"
     ]
    },
    {
     "name": "stdout",
     "output_type": "stream",
     "text": [
      "bg_image_infos: {'license': 0, 'url': None, 'file_name': 'batch_02_vt/1797.jpg', 'height': 512, 'width': 512, 'date_captured': None, 'id': 1889}\n"
     ]
    },
    {
     "name": "stderr",
     "output_type": "stream",
     "text": [
      "324it [03:29,  1.47it/s]"
     ]
    },
    {
     "name": "stdout",
     "output_type": "stream",
     "text": [
      "bg_image_infos: {'license': 0, 'url': None, 'file_name': 'augmented/10_1021_batch_02_vt_1012.jpg', 'height': 512, 'width': 512, 'date_captured': None, 'id': 1377}\n"
     ]
    },
    {
     "name": "stderr",
     "output_type": "stream",
     "text": [
      "325it [03:30,  1.52it/s]"
     ]
    },
    {
     "name": "stdout",
     "output_type": "stream",
     "text": [
      "bg_image_infos: {'license': 0, 'url': None, 'file_name': 'batch_02_vt/0208.jpg', 'height': 512, 'width': 512, 'date_captured': None, 'id': 878}\n"
     ]
    },
    {
     "name": "stderr",
     "output_type": "stream",
     "text": [
      "326it [03:31,  1.44it/s]"
     ]
    },
    {
     "name": "stdout",
     "output_type": "stream",
     "text": [
      "bg_image_infos: {'license': 0, 'url': None, 'file_name': 'batch_01_vt/0301.jpg', 'height': 512, 'width': 512, 'date_captured': None, 'id': 184}\n"
     ]
    },
    {
     "name": "stderr",
     "output_type": "stream",
     "text": [
      "327it [03:31,  1.52it/s]"
     ]
    },
    {
     "name": "stdout",
     "output_type": "stream",
     "text": [
      "bg_image_infos: {'license': 0, 'url': None, 'file_name': 'batch_02_vt/1295.jpg', 'height': 512, 'width': 512, 'date_captured': None, 'id': 1554}\n"
     ]
    },
    {
     "name": "stderr",
     "output_type": "stream",
     "text": [
      "328it [03:32,  1.57it/s]"
     ]
    },
    {
     "name": "stdout",
     "output_type": "stream",
     "text": [
      "bg_image_infos: {'license': 0, 'url': None, 'file_name': 'batch_02_vt/0965.jpg', 'height': 512, 'width': 512, 'date_captured': None, 'id': 1351}\n"
     ]
    },
    {
     "name": "stderr",
     "output_type": "stream",
     "text": [
      "329it [03:33,  1.58it/s]"
     ]
    },
    {
     "name": "stdout",
     "output_type": "stream",
     "text": [
      "bg_image_infos: {'license': 0, 'url': None, 'file_name': 'batch_02_vt/0677.jpg', 'height': 512, 'width': 512, 'date_captured': None, 'id': 1174}\n"
     ]
    },
    {
     "name": "stderr",
     "output_type": "stream",
     "text": [
      "330it [03:33,  1.60it/s]"
     ]
    },
    {
     "name": "stdout",
     "output_type": "stream",
     "text": [
      "bg_image_infos: {'license': 0, 'url': None, 'file_name': 'batch_01_vt/1235.jpg', 'height': 512, 'width': 512, 'date_captured': None, 'id': 746}\n"
     ]
    },
    {
     "name": "stderr",
     "output_type": "stream",
     "text": [
      "331it [03:34,  1.44it/s]"
     ]
    },
    {
     "name": "stdout",
     "output_type": "stream",
     "text": [
      "bg_image_infos: {'license': 0, 'url': None, 'file_name': 'batch_02_vt/1392.jpg', 'height': 512, 'width': 512, 'date_captured': None, 'id': 1621}\n"
     ]
    },
    {
     "name": "stderr",
     "output_type": "stream",
     "text": [
      "332it [03:35,  1.48it/s]"
     ]
    },
    {
     "name": "stdout",
     "output_type": "stream",
     "text": [
      "bg_image_infos: {'license': 0, 'url': None, 'file_name': 'batch_02_vt/1105.jpg', 'height': 512, 'width': 512, 'date_captured': None, 'id': 1440}\n"
     ]
    },
    {
     "name": "stderr",
     "output_type": "stream",
     "text": [
      "333it [03:35,  1.52it/s]"
     ]
    },
    {
     "name": "stdout",
     "output_type": "stream",
     "text": [
      "bg_image_infos: {'license': 0, 'url': None, 'file_name': 'batch_02_vt/1096.jpg', 'height': 512, 'width': 512, 'date_captured': None, 'id': 1436}\n"
     ]
    },
    {
     "name": "stderr",
     "output_type": "stream",
     "text": [
      "334it [03:36,  1.59it/s]"
     ]
    },
    {
     "name": "stdout",
     "output_type": "stream",
     "text": [
      "bg_image_infos: {'license': 0, 'url': None, 'file_name': 'augmented/9_189_batch_01_vt_1044.jpg', 'height': 512, 'width': 512, 'date_captured': None, 'id': 657}\n"
     ]
    },
    {
     "name": "stderr",
     "output_type": "stream",
     "text": [
      "335it [03:37,  1.52it/s]\n"
     ]
    }
   ],
   "source": [
    "for fg_idx, bg_idx in tqdm(zip(fg_image_idx, bg_image_idx)):\n",
    "    # background 처리\n",
    "    bg_masks, bg_images, bg_image_infos = get_image_detail(dataset_path, bg_idx, coco, category_names)\n",
    "    print('bg_image_infos:',bg_image_infos)\n",
    "    edge, empty_ymax, empty_xmax = find_background_space(bg_masks)\n",
    "    \n",
    "    # 만약 배경이 없는 사진이라면 해당 iter는 continue\n",
    "    if (bg_masks == 0).sum() == 0:\n",
    "        continue\n",
    "    \n",
    "    # foreground 처리\n",
    "    fg_masks, fg_images, fg_image_infos = get_image_detail(dataset_path, fg_idx, coco, category_names)\n",
    "    fg, fg_bbox = find_foreground_bbox(fg_masks, fg_images, mask_class)\n",
    "    \n",
    "    # resize\n",
    "    resized_fg, segmentation_mask = resize_foreground_backgroud(fg_masks, fg, fg_bbox, empty_ymax, empty_xmax, edge)\n",
    "    \n",
    "    # background, foreground merge & save\n",
    "    merged_image = merge_bg_fg(bg_images, resized_fg, empty_ymax, empty_xmax, edge)\n",
    "    save_merged_image(save_dir, file_name_dir, merged_image, bg_image_infos, fg_image_infos, mask_class)\n",
    "    \n",
    "    # json file 처리\n",
    "    json_data, annotation = make_coco_annotation(file_name_dir, bg_image_infos, fg_image_infos, mask_class, segmentation_mask, json_data)\n",
    "    json_data['annotations'].append(annotation)"
   ]
  },
  {
   "cell_type": "code",
   "execution_count": 13,
   "id": "e10036ea-e47e-412c-934d-d61acce06ab0",
   "metadata": {},
   "outputs": [],
   "source": [
    "# 증강이 끝나면 json file 저장\n",
    "\n",
    "with open(dataset_path + 'mix_9+341_10+264_3+335.json', 'w') as outfile:\n",
    "    json.dump(json_data, outfile)"
   ]
  },
  {
   "cell_type": "code",
   "execution_count": null,
   "metadata": {},
   "outputs": [],
   "source": []
  }
 ],
 "metadata": {
  "interpreter": {
   "hash": "d36e052b391be8c28b05838ade06426769a29575d5fe21a7bc69c7dec0c04c06"
  },
  "kernelspec": {
   "display_name": "Python 3.7.11 64-bit ('segmentation': conda)",
   "name": "python3"
  },
  "language_info": {
   "codemirror_mode": {
    "name": "ipython",
    "version": 3
   },
   "file_extension": ".py",
   "mimetype": "text/x-python",
   "name": "python",
   "nbconvert_exporter": "python",
   "pygments_lexer": "ipython3",
   "version": "3.7.11"
  }
 },
 "nbformat": 4,
 "nbformat_minor": 5
}

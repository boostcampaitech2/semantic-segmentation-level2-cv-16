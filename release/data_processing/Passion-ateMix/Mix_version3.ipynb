{
 "cells": [
  {
   "cell_type": "code",
   "execution_count": null,
   "id": "bc459e14-1767-48d0-8e94-c5a1c34238fc",
   "metadata": {},
   "outputs": [],
   "source": [
    "import pandas as pd\n",
    "import json\n",
    "import matplotlib.pyplot as plt\n",
    "import cv2\n",
    "import numpy as np\n",
    "import os\n",
    "import random\n",
    "from tqdm import tqdm\n",
    "from pycocotools.coco import COCO\n",
    "from pycocotools import mask\n",
    "from PassionateMix_v2 import *\n",
    "import matplotlib.pyplot as plt\n",
    "import seaborn as sns; sns.set()\n",
    "from matplotlib.patches import Patch\n",
    "import webcolors\n",
    "# 저장 경로\n",
    "save_dir = '/opt/ml/segmentation/input/data/augmented/'\n",
    "file_name_dir = 'augmented/'\n",
    "\n",
    "# 데이터셋 경로\n",
    "dataset_path  = '/opt/ml/segmentation/input/data/'\n",
    "\n",
    "# 증강 파일\n",
    "json_path = dataset_path + 'mix_9+341_10+264.json'\n",
    "coco = COCO(json_path)"
   ]
  },
  {
   "cell_type": "code",
   "execution_count": null,
   "id": "f1bf1497-3d08-4b39-9930-4c711ea04ada",
   "metadata": {},
   "outputs": [],
   "source": [
    "# 증강시킬 json 파일 읽기\n",
    "with open(json_path, 'r') as f:\n",
    "    json_data = json.load(f)\n",
    "\n",
    "\n",
    "# 카테고리 이름 설정\n",
    "df = pd.read_csv('/opt/ml/segmentation/baseline_code/class_dict.csv')\n",
    "category_names = list(df.name)\n",
    "\n",
    "# 증강시킬 mask_class 번호 지정\n",
    "mask_class = 3"
   ]
  },
  {
   "cell_type": "code",
   "execution_count": null,
   "id": "430dbe1d-196f-4db3-a6a9-ae3fea0faecd",
   "metadata": {},
   "outputs": [],
   "source": [
    "# 원하는 mask_class가 들어있는 images의 인덱스들 추출\n",
    "foreground_images = []\n",
    "\n",
    "for idx in tqdm(range(len(json_data['images']))):\n",
    "    image_id = coco.getImgIds(imgIds=idx)\n",
    "    image_infos = coco.loadImgs(image_id)[0]\n",
    "    \n",
    "    ann_ids = coco.getAnnIds(imgIds=image_infos['id'])\n",
    "    anns = coco.loadAnns(ann_ids)\n",
    "    anns = sorted(anns, key=lambda idx : idx['area'], reverse=True)\n",
    "    \n",
    "    category_type = []\n",
    "    for i in range(len(anns)):\n",
    "        category_id = anns[i]['category_id']\n",
    "        if category_id == mask_class:\n",
    "            foreground_images.append(idx)\n",
    "            break"
   ]
  },
  {
   "cell_type": "code",
   "execution_count": null,
   "id": "a933fa2e-28a2-494e-add3-090946d8cba0",
   "metadata": {},
   "outputs": [],
   "source": [
    "# json data 파일의 마지막 images id 추출\n",
    "last_images_id = json_data['images'][-1]['id']\n",
    "\n",
    "# mask_class가 없는 이미지에 증강시킬 목적으로 \n",
    "# mask_class가 없는 이미지들의 인덱스 background_images 선언\n",
    "background_images = range(last_images_id)\n",
    "background_images = [x for x in background_images if x not in foreground_images]\n",
    "len(foreground_images)"
   ]
  },
  {
   "cell_type": "code",
   "execution_count": null,
   "metadata": {},
   "outputs": [],
   "source": [
    "\n",
    "\n",
    "\n",
    "\n",
    "categories = json_data['categories']\n",
    "anns = json_data['annotations']\n",
    "imgs = json_data['images']\n",
    "nr_cats = len(categories)\n",
    "nr_annotations = len(anns)\n",
    "nr_images = len(imgs)\n",
    "\n",
    "# Load categories and super categories\n",
    "cat_names = []\n",
    "super_cat_names = []\n",
    "super_cat_ids = {}\n",
    "super_cat_last_name = ''\n",
    "nr_super_cats = 0\n",
    "for cat_it in categories:\n",
    "    cat_names.append(cat_it['name'])\n",
    "    super_cat_name = cat_it['supercategory']\n",
    "    # Adding new supercat\n",
    "    if super_cat_name != super_cat_last_name:\n",
    "        super_cat_names.append(super_cat_name)\n",
    "        super_cat_ids[super_cat_name] = nr_super_cats\n",
    "        super_cat_last_name = super_cat_name\n",
    "        nr_super_cats += 1\n",
    "\n",
    "print('Number of super categories:', nr_super_cats)\n",
    "print('Number of categories:', nr_cats)\n",
    "print('Number of annotations:', nr_annotations)\n",
    "print('Number of images:', nr_images)\n",
    "# Count annotations\n",
    "cat_histogram = np.zeros(nr_cats,dtype=int)\n",
    "for ann in anns:\n",
    "    cat_histogram[ann['category_id']-1] += 1\n",
    "\n",
    "# Initialize the matplotlib figure\n",
    "f, ax = plt.subplots(figsize=(5,5))\n",
    "\n",
    "# Convert to DataFrame\n",
    "df = pd.DataFrame({'Categories': cat_names, 'Number of annotations': cat_histogram})\n",
    "df = df.sort_values('Number of annotations', 0, False)\n",
    "\n",
    "# Plot the histogram\n",
    "plt.title(\"category distribution of train_all set \")\n",
    "plot_1 = sns.barplot(x=\"Number of annotations\", y=\"Categories\", data=df, label=\"Total\", color=\"b\")\n",
    "# category labeling \n",
    "sorted_temp_df = df.sort_index()\n",
    "\n",
    "# background = 0 에 해당되는 label 추가 후 기존들을 모두 label + 1 로 설정\n",
    "sorted_df = pd.DataFrame([\"Backgroud\"], columns = [\"Categories\"])\n",
    "sorted_df = sorted_df.append(sorted_temp_df, ignore_index=True)"
   ]
  },
  {
   "cell_type": "code",
   "execution_count": null,
   "metadata": {},
   "outputs": [],
   "source": [
    "dic_cls = dict([(idx+1,0) for idx, val in enumerate(range(10))])\n",
    "for idx in tqdm(range(len(json_data['images']))):\n",
    "    image_id = coco.getImgIds(imgIds=idx)\n",
    "    image_infos = coco.loadImgs(image_id)[0]\n",
    "    ann_ids = coco.getAnnIds(imgIds=image_infos['id'])\n",
    "    anns = coco.loadAnns(ann_ids)\n",
    "    anns = sorted(anns, key=lambda idx : idx['area'], reverse=True)\n",
    "    for i in range(len(anns)):\n",
    "        dic_cls[anns[i]['category_id']] += 1\n",
    "print(dic_cls)"
   ]
  },
  {
   "cell_type": "code",
   "execution_count": null,
   "metadata": {},
   "outputs": [],
   "source": [
    "len(foreground_images)"
   ]
  },
  {
   "cell_type": "code",
   "execution_count": null,
   "id": "55f71ff0-cddb-4493-b272-612ede60462e",
   "metadata": {},
   "outputs": [],
   "source": [
    "# 증강시킬 개수 k\n",
    "random.seed(16)\n",
    "k = 335\n",
    "\n",
    "fg_image_idx = random.sample(foreground_images, k)\n",
    "bg_image_idx = random.sample(background_images, k)\n",
    "print(k, len(fg_image_idx), len(bg_image_idx))"
   ]
  },
  {
   "cell_type": "code",
   "execution_count": null,
   "id": "d5be20d5-173e-495b-8249-e3a0abb08ae8",
   "metadata": {},
   "outputs": [],
   "source": [
    "for fg_idx, bg_idx in tqdm(zip(fg_image_idx, bg_image_idx)):\n",
    "    # background 처리\n",
    "    bg_masks, bg_images, bg_image_infos = get_image_detail(dataset_path, bg_idx, coco, category_names)\n",
    "    print('bg_image_infos:',bg_image_infos)\n",
    "    edge, empty_ymax, empty_xmax = find_background_space(bg_masks)\n",
    "    \n",
    "    # 만약 배경이 없는 사진이라면 해당 iter는 continue\n",
    "    if (bg_masks == 0).sum() == 0:\n",
    "        continue\n",
    "    \n",
    "    # foreground 처리\n",
    "    fg_masks, fg_images, fg_image_infos = get_image_detail(dataset_path, fg_idx, coco, category_names)\n",
    "    fg, fg_bbox = find_foreground_bbox(fg_masks, fg_images, mask_class)\n",
    "    \n",
    "    # resize\n",
    "    resized_fg, segmentation_mask = resize_foreground_backgroud(fg_masks, fg, fg_bbox, empty_ymax, empty_xmax, edge)\n",
    "    \n",
    "    # background, foreground merge & save\n",
    "    merged_image = merge_bg_fg(bg_images, resized_fg, empty_ymax, empty_xmax, edge)\n",
    "    save_merged_image(save_dir, file_name_dir, merged_image, bg_image_infos, fg_image_infos, mask_class)\n",
    "    \n",
    "    # json file 처리\n",
    "    json_data, annotation = make_coco_annotation(file_name_dir, bg_image_infos, fg_image_infos, mask_class, segmentation_mask, json_data)\n",
    "    json_data['annotations'].append(annotation)"
   ]
  },
  {
   "cell_type": "code",
   "execution_count": null,
   "id": "e10036ea-e47e-412c-934d-d61acce06ab0",
   "metadata": {},
   "outputs": [],
   "source": [
    "# 증강이 끝나면 json file 저장\n",
    "\n",
    "with open(dataset_path + 'mix_9+341_10+264_3+335.json', 'w') as outfile:\n",
    "    json.dump(json_data, outfile)"
   ]
  },
  {
   "cell_type": "code",
   "execution_count": null,
   "metadata": {},
   "outputs": [],
   "source": []
  }
 ],
 "metadata": {
  "interpreter": {
   "hash": "d36e052b391be8c28b05838ade06426769a29575d5fe21a7bc69c7dec0c04c06"
  },
  "kernelspec": {
   "display_name": "Python 3.7.11 64-bit ('segmentation': conda)",
   "name": "python3"
  },
  "language_info": {
   "codemirror_mode": {
    "name": "ipython",
    "version": 3
   },
   "file_extension": ".py",
   "mimetype": "text/x-python",
   "name": "python",
   "nbconvert_exporter": "python",
   "pygments_lexer": "ipython3",
   "version": "3.7.11"
  }
 },
 "nbformat": 4,
 "nbformat_minor": 5
}
